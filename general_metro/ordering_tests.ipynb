{
 "cells": [
  {
   "cell_type": "code",
   "execution_count": 7,
   "metadata": {},
   "outputs": [],
   "source": [
    "import numpy as np\n",
    "import itertools as iters\n",
    "import matplotlib.pyplot as plt\n",
    "import seaborn as sns\n",
    "\n",
    "import itertools\n",
    "import scipy\n",
    "import networkx as nx"
   ]
  },
  {
   "cell_type": "code",
   "execution_count": 58,
   "metadata": {},
   "outputs": [],
   "source": [
    "%run metro_generic.py"
   ]
  },
  {
   "cell_type": "code",
   "execution_count": 59,
   "metadata": {},
   "outputs": [],
   "source": [
    "%run DCA/treewidth.py"
   ]
  },
  {
   "cell_type": "code",
   "execution_count": 5,
   "metadata": {},
   "outputs": [],
   "source": [
    "#extract a variable ordering and set of active nodes from a junction tree\n",
    "def get_ordering(T):\n",
    "    T = T.copy()\n",
    "    order = []\n",
    "    active_frontier = []\n",
    "    \n",
    "    while(T.number_of_nodes() > 0):\n",
    "        gen = (x for x in T.nodes() if T.degree(x) <= 1)\n",
    "        active_node = next(gen)\n",
    "        parents = list(T[active_node].keys())\n",
    "        if(len(parents) == 0):\n",
    "            active_vars = set(active_node)\n",
    "            activated_set = active_vars.copy()\n",
    "        else:\n",
    "            active_vars = set(active_node.difference(parents[0]))\n",
    "            activated_set = active_vars.union(parents[0]).difference(set(order))\n",
    "        for i in active_vars:\n",
    "            order += [i]\n",
    "            frontier = list(activated_set.difference(set(order)))\n",
    "            active_frontier += [frontier]\n",
    "        T.remove_node(active_node)\n",
    "    \n",
    "    return [np.array(order), active_frontier]"
   ]
  },
  {
   "cell_type": "markdown",
   "metadata": {},
   "source": [
    "## 2x2 Ising Model"
   ]
  },
  {
   "cell_type": "code",
   "execution_count": 113,
   "metadata": {},
   "outputs": [],
   "source": [
    "dims = (2,2)\n",
    "d = dims[0] * dims[1]\n",
    "beta_0 = .3\n",
    "\n",
    "def lf(x, beta = beta_0):\n",
    "    #Ising model density\n",
    "\n",
    "    temp = 0\n",
    "    for j in range(d) :\n",
    "        if j % dims[0] > 0:\n",
    "            temp += x[j] * x[j - 1]\n",
    "        if j % dims[0] < dims[0] - 1:\n",
    "            temp += x[j] * x[j + 1]\n",
    "        if j - dims[0] >= 0:\n",
    "            temp += x[j] * x[j - dims[0]]\n",
    "        if j + dims[0] < d:\n",
    "            temp += x[j] * x[j + dims[0]]\n",
    "     \n",
    "    return beta * temp  / 2\n",
    "\n",
    "def ising_sampler(lf, dims, beta = beta_0, n_iter = 500):\n",
    "    d = dims[0] * dims[1]\n",
    "    x = np.random.binomial(1, .5, size = d) * 2 - 1\n",
    "    for _ in range(n_iter):\n",
    "        j = np.random.choice(d)\n",
    "        x0 = x.copy()\n",
    "        x0[j] = -1\n",
    "        x1 = x.copy()\n",
    "        x1[j] = 1\n",
    "        p0 = np.exp(lf(x0, beta))\n",
    "        p1 = np.exp(lf(x1, beta))\n",
    "        u = np.random.binomial(1, p0 / (p1 + p0))\n",
    "        if u == 1:\n",
    "            x = x0\n",
    "        else:\n",
    "            x = x1\n",
    "    \n",
    "    return x"
   ]
  },
  {
   "cell_type": "code",
   "execution_count": 114,
   "metadata": {},
   "outputs": [],
   "source": [
    "G = nx.Graph()\n",
    "G.add_nodes_from(range(d))\n",
    "\n",
    "for j in range(d):\n",
    "    if j % dims[0] > 0:\n",
    "        G.add_edge(j - 1, j)\n",
    "    if j % dims[0] < dims[0] - 1:\n",
    "        G.add_edge(j, j + 1)\n",
    "    if j - dims[0] >= 0:\n",
    "        G.add_edge(j, j - dims[0])\n",
    "    if j + dims[0] < d:\n",
    "        G.add_edge(j, j + dims[0])"
   ]
  },
  {
   "cell_type": "code",
   "execution_count": 115,
   "metadata": {},
   "outputs": [
    {
     "data": {
      "text/plain": [
       "2"
      ]
     },
     "execution_count": 115,
     "metadata": {},
     "output_type": "execute_result"
    }
   ],
   "source": [
    "tree_decomp = treewidth_decomp(G)\n",
    "tree_decomp[0]"
   ]
  },
  {
   "cell_type": "code",
   "execution_count": 116,
   "metadata": {},
   "outputs": [],
   "source": [
    "out = get_ordering(tree_decomp[1])\n",
    "order = out[0]\n",
    "active_frontier = out[1]"
   ]
  },
  {
   "cell_type": "code",
   "execution_count": 117,
   "metadata": {},
   "outputs": [
    {
     "data": {
      "text/plain": [
       "array([3, 0, 1, 2])"
      ]
     },
     "execution_count": 117,
     "metadata": {},
     "output_type": "execute_result"
    }
   ],
   "source": [
    "order"
   ]
  },
  {
   "cell_type": "code",
   "execution_count": 118,
   "metadata": {},
   "outputs": [
    {
     "data": {
      "text/plain": [
       "[[0, 1, 2], [1, 2], [2], []]"
      ]
     },
     "execution_count": 118,
     "metadata": {},
     "output_type": "execute_result"
    }
   ],
   "source": [
    "active_frontier"
   ]
  },
  {
   "cell_type": "code",
   "execution_count": 119,
   "metadata": {},
   "outputs": [],
   "source": [
    "def sym_prop(j, xj):\n",
    "    return np.random.choice([-1, 1])"
   ]
  },
  {
   "cell_type": "code",
   "execution_count": 120,
   "metadata": {},
   "outputs": [],
   "source": [
    "x = ising_sampler(lf, dims)\n",
    "xk = single_metro(lf, x, order, active_frontier, sym_prop)"
   ]
  },
  {
   "cell_type": "code",
   "execution_count": 121,
   "metadata": {},
   "outputs": [
    {
     "data": {
      "text/plain": [
       "1.0"
      ]
     },
     "execution_count": 121,
     "metadata": {},
     "output_type": "execute_result"
    }
   ],
   "source": [
    "np.mean(x == xk)"
   ]
  },
  {
   "cell_type": "code",
   "execution_count": 129,
   "metadata": {},
   "outputs": [
    {
     "name": "stdout",
     "output_type": "stream",
     "text": [
      "CPU times: user 1min 8s, sys: 298 ms, total: 1min 9s\n",
      "Wall time: 1min 9s\n"
     ]
    }
   ],
   "source": [
    "%%time\n",
    "\n",
    "np.random.seed(999)\n",
    "n_rep = 20000\n",
    "res = np.zeros((n_rep, 2*d))\n",
    "for i in range(n_rep):\n",
    "    x = ising_sampler(lf, dims, n_iter = 50)\n",
    "    xk = single_metro(lf, x, order, active_frontier, sym_prop)\n",
    "    res[i, :] = np.concatenate((x, xk))\n",
    "    \n",
    "emp_cov = np.cov(res, rowvar = False)"
   ]
  },
  {
   "cell_type": "code",
   "execution_count": 130,
   "metadata": {},
   "outputs": [
    {
     "data": {
      "text/plain": [
       "0.7115625"
      ]
     },
     "execution_count": 130,
     "metadata": {},
     "output_type": "execute_result"
    }
   ],
   "source": [
    "np.mean(res[:, 0:d] == res[:, d:(2*d)])"
   ]
  },
  {
   "cell_type": "code",
   "execution_count": 131,
   "metadata": {},
   "outputs": [
    {
     "data": {
      "text/plain": [
       "array([ 1.668772  ,  1.76776695, -0.33941125, -0.77781746,  1.65462987,\n",
       "        1.24450793, -0.45254834,  0.98994949])"
      ]
     },
     "execution_count": 131,
     "metadata": {},
     "output_type": "execute_result"
    }
   ],
   "source": [
    "np.mean(res, axis = 0) * np.sqrt(n_rep)"
   ]
  },
  {
   "cell_type": "code",
   "execution_count": 132,
   "metadata": {},
   "outputs": [
    {
     "data": {
      "text/plain": [
       "<matplotlib.axes._subplots.AxesSubplot at 0x113968f28>"
      ]
     },
     "execution_count": 132,
     "metadata": {},
     "output_type": "execute_result"
    },
    {
     "data": {
      "image/png": "[encoded data removed]",
      "text/plain": [
       "<Figure size 432x288 with 2 Axes>"
      ]
     },
     "metadata": {
      "needs_background": "light"
     },
     "output_type": "display_data"
    }
   ],
   "source": [
    "sns.heatmap(emp_cov)"
   ]
  },
  {
   "cell_type": "code",
   "execution_count": 128,
   "metadata": {},
   "outputs": [
    {
     "name": "stdout",
     "output_type": "stream",
     "text": [
      "CPU times: user 49 s, sys: 218 ms, total: 49.2 s\n",
      "Wall time: 49.5 s\n"
     ]
    }
   ],
   "source": [
    "%%time\n",
    "\n",
    "np.random.seed(100)\n",
    "n_rep = 20000\n",
    "res = np.zeros((n_rep, d))\n",
    "for i in range(n_rep):\n",
    "    res[i, :] = ising_sampler(lf, dims, n_iter = 50)\n",
    "    \n",
    "ho_cov = np.cov(res, rowvar = False)\n",
    "ho_cov"
   ]
  },
  {
   "cell_type": "code",
   "execution_count": 133,
   "metadata": {},
   "outputs": [
    {
     "name": "stdout",
     "output_type": "stream",
     "text": [
      "0.011952617630881623\n",
      "0.04890602530126474\n",
      "0.05661109055452773\n"
     ]
    }
   ],
   "source": [
    "orig_marg = emp_cov[0:d, 0:d]\n",
    "print(np.max(np.abs(orig_marg - ho_cov)))\n",
    "ko_marg = emp_cov[d:(2*d), d:(2*d)]\n",
    "print(np.max(np.abs(ko_marg - ho_cov)))\n",
    "\n",
    "ko_orig_cross = emp_cov[0:d, d:(2*d)] - ho_cov\n",
    "np.fill_diagonal(ko_orig_cross, 0)\n",
    "print(np.max(np.abs(ko_orig_cross)))"
   ]
  },
  {
   "cell_type": "code",
   "execution_count": 138,
   "metadata": {},
   "outputs": [
    {
     "name": "stdout",
     "output_type": "stream",
     "text": [
      "0.005583557927896908\n",
      "0.012879674608730051\n",
      "0.00858259662983134\n"
     ]
    }
   ],
   "source": [
    "print(np.mean(np.abs(orig_marg - ho_cov)))\n",
    "print(np.mean(np.abs(ko_marg - ho_cov)))\n",
    "print(np.mean(np.abs(ko_orig_cross)))"
   ]
  },
  {
   "cell_type": "markdown",
   "metadata": {},
   "source": [
    "## 3x3 Ising Model"
   ]
  },
  {
   "cell_type": "code",
   "execution_count": 139,
   "metadata": {},
   "outputs": [],
   "source": [
    "dims = (3,3)\n",
    "d = dims[0] * dims[1]\n",
    "beta_0 = .3\n",
    "\n",
    "def lf(x, beta = beta_0):\n",
    "    #Ising model density\n",
    "\n",
    "    temp = 0\n",
    "    for j in range(d) :\n",
    "        if j % dims[0] > 0:\n",
    "            temp += x[j] * x[j - 1]\n",
    "        if j % dims[0] < dims[0] - 1:\n",
    "            temp += x[j] * x[j + 1]\n",
    "        if j - dims[0] >= 0:\n",
    "            temp += x[j] * x[j - dims[0]]\n",
    "        if j + dims[0] < d:\n",
    "            temp += x[j] * x[j + dims[0]]\n",
    "     \n",
    "    return beta * temp  / 2\n",
    "\n",
    "def ising_sampler(lf, dims, beta = beta_0, n_iter = 500):\n",
    "    d = dims[0] * dims[1]\n",
    "    x = np.random.binomial(1, .5, size = d) * 2 - 1\n",
    "    for _ in range(n_iter):\n",
    "        j = np.random.choice(d)\n",
    "        x0 = x.copy()\n",
    "        x0[j] = -1\n",
    "        x1 = x.copy()\n",
    "        x1[j] = 1\n",
    "        p0 = np.exp(lf(x0, beta))\n",
    "        p1 = np.exp(lf(x1, beta))\n",
    "        u = np.random.binomial(1, p0 / (p1 + p0))\n",
    "        if u == 1:\n",
    "            x = x0\n",
    "        else:\n",
    "            x = x1\n",
    "    \n",
    "    return x"
   ]
  },
  {
   "cell_type": "code",
   "execution_count": 140,
   "metadata": {},
   "outputs": [],
   "source": [
    "G = nx.Graph()\n",
    "G.add_nodes_from(range(d))\n",
    "\n",
    "for j in range(d):\n",
    "    if j % dims[0] > 0:\n",
    "        G.add_edge(j - 1, j)\n",
    "    if j % dims[0] < dims[0] - 1:\n",
    "        G.add_edge(j, j + 1)\n",
    "    if j - dims[0] >= 0:\n",
    "        G.add_edge(j, j - dims[0])\n",
    "    if j + dims[0] < d:\n",
    "        G.add_edge(j, j + dims[0])"
   ]
  },
  {
   "cell_type": "code",
   "execution_count": 141,
   "metadata": {},
   "outputs": [
    {
     "data": {
      "text/plain": [
       "3"
      ]
     },
     "execution_count": 141,
     "metadata": {},
     "output_type": "execute_result"
    }
   ],
   "source": [
    "tree_decomp = treewidth_decomp(G)\n",
    "tree_decomp[0]"
   ]
  },
  {
   "cell_type": "code",
   "execution_count": 142,
   "metadata": {},
   "outputs": [],
   "source": [
    "out = get_ordering(tree_decomp[1])\n",
    "order = out[0]\n",
    "active_frontier = out[1]"
   ]
  },
  {
   "cell_type": "code",
   "execution_count": 143,
   "metadata": {},
   "outputs": [
    {
     "data": {
      "text/plain": [
       "array([8, 6, 7, 2, 4, 5, 0, 1, 3])"
      ]
     },
     "execution_count": 143,
     "metadata": {},
     "output_type": "execute_result"
    }
   ],
   "source": [
    "order"
   ]
  },
  {
   "cell_type": "code",
   "execution_count": 144,
   "metadata": {},
   "outputs": [
    {
     "data": {
      "text/plain": [
       "[[3, 4, 5, 7],\n",
       " [3, 4, 5, 7],\n",
       " [1, 3, 4, 5],\n",
       " [1, 3, 4, 5],\n",
       " [0, 1, 3, 5],\n",
       " [0, 1, 3],\n",
       " [1, 3],\n",
       " [3],\n",
       " []]"
      ]
     },
     "execution_count": 144,
     "metadata": {},
     "output_type": "execute_result"
    }
   ],
   "source": [
    "active_frontier"
   ]
  },
  {
   "cell_type": "code",
   "execution_count": 145,
   "metadata": {},
   "outputs": [],
   "source": [
    "def sym_prop(j, xj):\n",
    "    return np.random.choice([-1, 1])"
   ]
  },
  {
   "cell_type": "code",
   "execution_count": 146,
   "metadata": {},
   "outputs": [],
   "source": [
    "x = ising_sampler(lf, dims)\n",
    "xk = single_metro(lf, x, order, active_frontier, sym_prop)"
   ]
  },
  {
   "cell_type": "code",
   "execution_count": 147,
   "metadata": {},
   "outputs": [
    {
     "data": {
      "text/plain": [
       "0.7777777777777778"
      ]
     },
     "execution_count": 147,
     "metadata": {},
     "output_type": "execute_result"
    }
   ],
   "source": [
    "np.mean(x == xk)"
   ]
  },
  {
   "cell_type": "code",
   "execution_count": 155,
   "metadata": {},
   "outputs": [
    {
     "name": "stdout",
     "output_type": "stream",
     "text": [
      "CPU times: user 54.1 s, sys: 655 ms, total: 54.8 s\n",
      "Wall time: 1min\n"
     ]
    }
   ],
   "source": [
    "%%time\n",
    "\n",
    "np.random.seed(999)\n",
    "n_rep = 2000\n",
    "res = np.zeros((n_rep, 2*d))\n",
    "for i in range(n_rep):\n",
    "    x = ising_sampler(lf, dims, n_iter = 200)\n",
    "    xk = single_metro(lf, x, order, active_frontier, sym_prop)\n",
    "    res[i, :] = np.concatenate((x, xk))\n",
    "    \n",
    "emp_cov = np.cov(res, rowvar = False)"
   ]
  },
  {
   "cell_type": "code",
   "execution_count": 156,
   "metadata": {},
   "outputs": [
    {
     "data": {
      "text/plain": [
       "0.7411111111111112"
      ]
     },
     "execution_count": 156,
     "metadata": {},
     "output_type": "execute_result"
    }
   ],
   "source": [
    "np.mean(res[:, 0:d] == res[:, d:(2*d)])"
   ]
  },
  {
   "cell_type": "code",
   "execution_count": 157,
   "metadata": {},
   "outputs": [
    {
     "data": {
      "text/plain": [
       "array([-0.31304952, -0.62609903,  0.13416408,  1.43108351,  1.6546903 ,\n",
       "       -1.52052622, -0.13416408, -0.84970583,  1.56524758, -0.62609903,\n",
       "       -0.4472136 ,  0.2236068 ,  1.43108351, -1.34164079, -1.25219807,\n",
       "        0.31304952, -1.11803399,  0.40249224])"
      ]
     },
     "execution_count": 157,
     "metadata": {},
     "output_type": "execute_result"
    }
   ],
   "source": [
    "np.mean(res, axis = 0) * np.sqrt(n_rep)"
   ]
  },
  {
   "cell_type": "code",
   "execution_count": 158,
   "metadata": {},
   "outputs": [
    {
     "data": {
      "text/plain": [
       "<matplotlib.axes._subplots.AxesSubplot at 0x113d16320>"
      ]
     },
     "execution_count": 158,
     "metadata": {},
     "output_type": "execute_result"
    },
    {
     "data": {
      "image/png": "[encoded data removed]",
      "text/plain": [
       "<Figure size 432x288 with 2 Axes>"
      ]
     },
     "metadata": {
      "needs_background": "light"
     },
     "output_type": "display_data"
    }
   ],
   "source": [
    "sns.heatmap(emp_cov)"
   ]
  },
  {
   "cell_type": "code",
   "execution_count": 159,
   "metadata": {},
   "outputs": [
    {
     "name": "stdout",
     "output_type": "stream",
     "text": [
      "CPU times: user 30 s, sys: 141 ms, total: 30.1 s\n",
      "Wall time: 30.3 s\n"
     ]
    }
   ],
   "source": [
    "%%time\n",
    "\n",
    "np.random.seed(100)\n",
    "n_rep = 2000\n",
    "res = np.zeros((n_rep, d))\n",
    "for i in range(n_rep):\n",
    "    res[i, :] = ising_sampler(lf, dims, n_iter = 200)\n",
    "    \n",
    "ho_cov = np.cov(res, rowvar = False)\n",
    "ho_cov"
   ]
  },
  {
   "cell_type": "code",
   "execution_count": 160,
   "metadata": {},
   "outputs": [
    {
     "name": "stdout",
     "output_type": "stream",
     "text": [
      "0.07009504752376176\n",
      "0.09792896448224156\n",
      "0.08406203101550816\n"
     ]
    }
   ],
   "source": [
    "orig_marg = emp_cov[0:d, 0:d]\n",
    "print(np.max(np.abs(orig_marg - ho_cov)))\n",
    "ko_marg = emp_cov[d:(2*d), d:(2*d)]\n",
    "print(np.max(np.abs(ko_marg - ho_cov)))\n",
    "\n",
    "ko_orig_cross = emp_cov[0:d, d:(2*d)] - ho_cov\n",
    "np.fill_diagonal(ko_orig_cross, 0)\n",
    "print(np.max(np.abs(ko_orig_cross)))"
   ]
  },
  {
   "cell_type": "code",
   "execution_count": 161,
   "metadata": {},
   "outputs": [
    {
     "name": "stdout",
     "output_type": "stream",
     "text": [
      "0.020180855860028667\n",
      "0.025347883818452287\n",
      "0.021013074438453825\n"
     ]
    }
   ],
   "source": [
    "print(np.mean(np.abs(orig_marg - ho_cov)))\n",
    "print(np.mean(np.abs(ko_marg - ho_cov)))\n",
    "print(np.mean(np.abs(ko_orig_cross)))"
   ]
  }
 ],
 "metadata": {
  "kernelspec": {
   "display_name": "Python 3",
   "language": "python",
   "name": "python3"
  },
  "language_info": {
   "codemirror_mode": {
    "name": "ipython",
    "version": 3
   },
   "file_extension": ".py",
   "mimetype": "text/x-python",
   "name": "python",
   "nbconvert_exporter": "python",
   "pygments_lexer": "ipython3",
   "version": "3.6.8"
  }
 },
 "nbformat": 4,
 "nbformat_minor": 2
}
