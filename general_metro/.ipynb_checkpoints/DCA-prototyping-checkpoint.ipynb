{
 "cells": [
  {
   "cell_type": "code",
   "execution_count": 2,
   "metadata": {},
   "outputs": [],
   "source": [
    "import numpy as np\n",
    "import itertools as iters\n",
    "import matplotlib.pyplot as plt\n",
    "import seaborn as sns\n",
    "\n",
    "import itertools\n",
    "import scipy"
   ]
  },
  {
   "cell_type": "markdown",
   "metadata": {},
   "source": [
    "### Load graph \n",
    "\n",
    "This script was written by Wenshuo to load the code from the paper\n",
    "and return a log-density and graph."
   ]
  },
  {
   "cell_type": "code",
   "execution_count": 3,
   "metadata": {
    "collapsed": true
   },
   "outputs": [],
   "source": [
    "%run DCA/treewidth.py"
   ]
  },
  {
   "cell_type": "code",
   "execution_count": 4,
   "metadata": {
    "scrolled": true
   },
   "outputs": [
    {
     "name": "stdout",
     "output_type": "stream",
     "text": [
      "treewidth when keeping 0.55 * N edges: 9\n",
      "treewidth when keeping 0.55 * N edges and conditioning on top 2,4,6,...,30 max degree nodes: 6\n",
      "treewidth when keeping 0.55 * N edges and conditioning on top 1,3,5,...,29 max degree nodes: 4\n"
     ]
    }
   ],
   "source": [
    "# %load DCA/load_parameters.py\n",
    "\"\"\"\n",
    "Created on Wed Oct  2 16:21:17 2019\n",
    "\n",
    "@author: Wenshuo Wang\n",
    "\"\"\"\n",
    "\n",
    "import scipy.io\n",
    "import numpy as np\n",
    "import math\n",
    "import csv\n",
    "import networkx as nx\n",
    "#from treewidth import treewidth_min_fill_in, treewidth_min_degree\n",
    "\n",
    "keep_const = 0.55 # keep top keep_const*N edges with |i-j|>4\n",
    "ncondition = 15 # each time condition on ncondition nodes\n",
    "\n",
    "def Potts_log_density(s, H, J, edges = None, s_condition = None, condition_set = None):\n",
    "    # P(s0,s1,...,sN-1) \\propto exp(\\sum_i H[si,i] + \\sum_i<j J[i,j,si,sj])\n",
    "    ans = 0\n",
    "    L = len(s)\n",
    "    if condition_set is not None:\n",
    "        # if conditioning on some set, replace the corresponding variables in s by the ones conditioned on\n",
    "        for i in condition_set:\n",
    "            s[i] = s_condition[i]\n",
    "    for i in range(L):\n",
    "        ans+= H[int(s[i]),i]\n",
    "        \n",
    "    if edges is None:\n",
    "        for i in range(L-1):\n",
    "            for j in range(i+1,L):\n",
    "                ans+= J[i,j,int(s[i]),int(s[j])]\n",
    "    else:\n",
    "        for (i,j) in edges:\n",
    "            ans+= J[i,j,int(s[i]),int(s[j])]\n",
    "        \n",
    "    return(ans)\n",
    "# sample use of the function (run after you run the entire script):\n",
    "# Potts_log_density(np.array([0]*N),matH,J,np.array([1]*N),set2)\n",
    "    \n",
    "mat = scipy.io.loadmat('DCA/J.mat')\n",
    "mat = mat['J']\n",
    "q,q,num = np.shape(mat) # q=21 is # residue types\n",
    "N = int(0.5+math.sqrt(2*num+0.25)) # N is protein length\n",
    "J = np.zeros([N,N,q,q])\n",
    "l = 0\n",
    "for i in range(N-1):\n",
    "    for j in range(i+1,N):\n",
    "        J[i,j,:,:] = mat[:,:,l]\n",
    "        l = l + 1\n",
    "        \n",
    "\n",
    "matH = scipy.io.loadmat('DCA/H.mat')\n",
    "matH = matH['H']\n",
    "\n",
    "score_metric = np.zeros([int(N*(N-1)/2),3])\n",
    "k = 0\n",
    "with open(\"DCA/PF00006_scores.txt\") as scores:\n",
    "    tem = csv.reader(scores, delimiter=',')\n",
    "    for row in tem:\n",
    "        score_metric[k,:] = int(row[0]), int(row[1]), float(row[2])\n",
    "        k = k + 1\n",
    "\n",
    "adj_mat = np.zeros([N,N])\n",
    "score_metric = score_metric[score_metric[:,2].argsort()[::-1]] # sort Jij based on a score\n",
    "n_keep = math.floor(keep_const*N) # keep how many non-zero Jij, which corresponds to an edge; if graph too dense, decrease this\n",
    "for i in range(int(N*(N-1)/2)):\n",
    "\t# only the interactions with largest scores (|i-j|>4) are kept, others set to 0\n",
    "\tif n_keep==0:\n",
    "\t\tJ[int(score_metric[i,0])-1,int(score_metric[i,1])-1,:,:] = np.zeros([q,q])\n",
    "\t\tcontinue\n",
    "\telse:\n",
    "\t\tif abs(int(score_metric[i,0])-int(score_metric[i,1]))>4:\n",
    "\t\t\tadj_mat[int(score_metric[i,0])-1,int(score_metric[i,1])-1] = 1\n",
    "\t\t\tn_keep = n_keep - 1\n",
    "\n",
    "G = nx.Graph()\n",
    "G.add_nodes_from(range(N))\n",
    "for i in range(N-1):\n",
    "    for j in range(i+1,N):\n",
    "        if np.sum(J[i,j,:,:]**2)==0:\n",
    "            pass\n",
    "        else:\n",
    "            G.add_edge(i,j)\n",
    "\n",
    "\n",
    "\n",
    "\n",
    "degrees = np.array([G.degree[i] for i in range(N)])\n",
    "set1 = degrees.argsort()[-2*ncondition:][::-1]\n",
    "set2 = np.array([set1[2*i] for i in range(ncondition)])\n",
    "set1 = np.array([set1[2*i+1] for i in range(ncondition)])\n",
    "G1 = G.copy()\n",
    "G1.remove_nodes_from(set1)\n",
    "G2 = G.copy()\n",
    "G2.remove_nodes_from(set2)\n",
    "\n",
    "print(\"treewidth when keeping \"+str(keep_const)+\" * N edges: \"+str(treewidth_min_fill_in(G)[0]))\n",
    "print(\"treewidth when keeping \"+str(keep_const)+\" * N edges and conditioning on top 2,4,6,...,\"+str(2*ncondition)+\" max degree nodes: \"+str(treewidth_min_fill_in(G1)[0]))\n",
    "print(\"treewidth when keeping \"+str(keep_const)+\" * N edges and conditioning on top 1,3,5,...,\"+str(2*ncondition-1)+\" max degree nodes: \"+str(treewidth_min_fill_in(G2)[0]))\n",
    "\n"
   ]
  },
  {
   "cell_type": "markdown",
   "metadata": {},
   "source": [
    "## Density and Sampler"
   ]
  },
  {
   "cell_type": "code",
   "execution_count": 5,
   "metadata": {
    "scrolled": true
   },
   "outputs": [
    {
     "data": {
      "text/plain": [
       "(21, 213)"
      ]
     },
     "execution_count": 5,
     "metadata": {},
     "output_type": "execute_result"
    }
   ],
   "source": [
    "np.shape(matH)"
   ]
  },
  {
   "cell_type": "code",
   "execution_count": 6,
   "metadata": {},
   "outputs": [
    {
     "data": {
      "text/plain": [
       "(213, 213, 21, 21)"
      ]
     },
     "execution_count": 6,
     "metadata": {},
     "output_type": "execute_result"
    }
   ],
   "source": [
    "np.shape(J)"
   ]
  },
  {
   "cell_type": "code",
   "execution_count": 7,
   "metadata": {
    "collapsed": true
   },
   "outputs": [],
   "source": [
    "edges = list(G.edges())"
   ]
  },
  {
   "cell_type": "code",
   "execution_count": 8,
   "metadata": {
    "collapsed": true
   },
   "outputs": [],
   "source": [
    "def lf(x):\n",
    "    return 10*Potts_log_density(x, matH, J, edges, s_condition = None, condition_set = None)"
   ]
  },
  {
   "cell_type": "code",
   "execution_count": 9,
   "metadata": {},
   "outputs": [
    {
     "data": {
      "text/plain": [
       "494.1292505425219"
      ]
     },
     "execution_count": 9,
     "metadata": {},
     "output_type": "execute_result"
    }
   ],
   "source": [
    "lf(np.zeros(213))"
   ]
  },
  {
   "cell_type": "code",
   "execution_count": 10,
   "metadata": {
    "collapsed": true
   },
   "outputs": [],
   "source": [
    "import matplotlib.pyplot as plt"
   ]
  },
  {
   "cell_type": "code",
   "execution_count": 11,
   "metadata": {},
   "outputs": [
    {
     "data": {
      "image/png": "[encoded data removed]",
      "text/plain": [
       "<Figure size 432x288 with 1 Axes>"
      ]
     },
     "metadata": {},
     "output_type": "display_data"
    }
   ],
   "source": [
    "plt.subplot(121)\n",
    "nx.draw(G, with_labels=True, font_weight='bold')"
   ]
  },
  {
   "cell_type": "code",
   "execution_count": 12,
   "metadata": {
    "collapsed": true
   },
   "outputs": [],
   "source": [
    "def gibbs_sampler(lf, d, n_iter = 50):\n",
    "    x_init = np.random.choice(21, size = d)\n",
    "    #x_init = 10*np.ones(d)\n",
    "    x = x_init.copy()\n",
    "    p_orig = np.exp(lf(x))\n",
    "    \n",
    "    lfs = [np.log(p_orig)]\n",
    "    \n",
    "    for _ in range(n_iter): \n",
    "        j = np.random.choice(d)\n",
    "        orig = x[j]\n",
    "        \n",
    "        #metropolis update with uniformly random proposal\n",
    "        prop = np.random.choice(21, size = 1)\n",
    "        if prop == orig:\n",
    "            continue      \n",
    "        x[j] = prop\n",
    "        p_prop = np.exp(lf(x))          \n",
    "        accept_prob = min(1, p_prop / p_orig)\n",
    "        u = np.random.uniform()\n",
    "        if(u < accept_prob):\n",
    "            p_orig = p_prop\n",
    "            lfs += [np.log(p_prop)]\n",
    "        else:\n",
    "            x[j] = orig\n",
    "            lfs += [np.log(p_orig)]\n",
    "    \n",
    "    return [x, x_init, lfs]"
   ]
  },
  {
   "cell_type": "code",
   "execution_count": 13,
   "metadata": {},
   "outputs": [
    {
     "name": "stdout",
     "output_type": "stream",
     "text": [
      "CPU times: user 8.82 s, sys: 54 ms, total: 8.87 s\n",
      "Wall time: 8.86 s\n"
     ]
    }
   ],
   "source": [
    "%%time\n",
    "np.random.seed(500)\n",
    "\n",
    "x, x_init, lfs = gibbs_sampler(lf, 213, n_iter = 20000)"
   ]
  },
  {
   "cell_type": "code",
   "execution_count": 14,
   "metadata": {},
   "outputs": [
    {
     "data": {
      "text/plain": [
       "202"
      ]
     },
     "execution_count": 14,
     "metadata": {},
     "output_type": "execute_result"
    }
   ],
   "source": [
    "np.sum(x != x_init)"
   ]
  },
  {
   "cell_type": "code",
   "execution_count": 15,
   "metadata": {},
   "outputs": [
    {
     "data": {
      "image/png": "[encoded data removed]",
      "text/plain": [
       "<Figure size 432x288 with 1 Axes>"
      ]
     },
     "metadata": {
      "needs_background": "light"
     },
     "output_type": "display_data"
    }
   ],
   "source": [
    "fig = plt.figure()\n",
    "ax = plt.axes()\n",
    "ax.plot(np.arange(len(lfs)), lfs);"
   ]
  },
  {
   "cell_type": "markdown",
   "metadata": {},
   "source": [
    "## Ordered Metro\n",
    "\n",
    "Extract an ordering from the junction tree of the graph G."
   ]
  },
  {
   "cell_type": "code",
   "execution_count": 16,
   "metadata": {
    "collapsed": true
   },
   "outputs": [],
   "source": [
    "%run metro_generic.py"
   ]
  },
  {
   "cell_type": "code",
   "execution_count": 17,
   "metadata": {
    "collapsed": true
   },
   "outputs": [],
   "source": [
    "tree_decomp = treewidth_decomp(G)"
   ]
  },
  {
   "cell_type": "code",
   "execution_count": 18,
   "metadata": {},
   "outputs": [
    {
     "data": {
      "text/plain": [
       "9"
      ]
     },
     "execution_count": 18,
     "metadata": {},
     "output_type": "execute_result"
    }
   ],
   "source": [
    "tree_decomp[0]"
   ]
  },
  {
   "cell_type": "code",
   "execution_count": 19,
   "metadata": {
    "collapsed": true
   },
   "outputs": [],
   "source": [
    "T = tree_decomp[1]"
   ]
  },
  {
   "cell_type": "code",
   "execution_count": 20,
   "metadata": {},
   "outputs": [
    {
     "data": {
      "text/plain": [
       "204"
      ]
     },
     "execution_count": 20,
     "metadata": {},
     "output_type": "execute_result"
    }
   ],
   "source": [
    "T.number_of_nodes()"
   ]
  },
  {
   "cell_type": "code",
   "execution_count": 21,
   "metadata": {},
   "outputs": [
    {
     "data": {
      "text/plain": [
       "213"
      ]
     },
     "execution_count": 21,
     "metadata": {},
     "output_type": "execute_result"
    }
   ],
   "source": [
    "G.number_of_nodes()"
   ]
  },
  {
   "cell_type": "code",
   "execution_count": 22,
   "metadata": {
    "collapsed": true
   },
   "outputs": [],
   "source": [
    "#extract a variable ordering and set of active nodes from a junction tree\n",
    "def get_ordering(T):\n",
    "    T = T.copy()\n",
    "    order = []\n",
    "    active_frontier = []\n",
    "    \n",
    "    while(T.number_of_nodes() > 0):\n",
    "        gen = (x for x in T.nodes() if T.degree(x) <= 1)\n",
    "        active_node = next(gen)\n",
    "        parents = list(T[active_node].keys())\n",
    "        if(len(parents) == 0):\n",
    "            active_vars = set(active_node)\n",
    "            activated_set = active_vars.copy()\n",
    "        else:\n",
    "            active_vars = set(active_node.difference(parents[0]))\n",
    "            activated_set = active_vars.union(parents[0]).difference(set(order))\n",
    "        for i in active_vars:\n",
    "            order += [i]\n",
    "            frontier = list(activated_set.difference(set(order)))\n",
    "            active_frontier += [frontier]\n",
    "        T.remove_node(active_node)\n",
    "    \n",
    "    return [np.array(order), active_frontier]\n",
    "            "
   ]
  },
  {
   "cell_type": "code",
   "execution_count": 23,
   "metadata": {
    "collapsed": true
   },
   "outputs": [],
   "source": [
    "out = get_ordering(T)\n",
    "order = out[0]\n",
    "active_frontier = out[1]"
   ]
  },
  {
   "cell_type": "code",
   "execution_count": 24,
   "metadata": {},
   "outputs": [
    {
     "data": {
      "text/plain": [
       "[163, 92, 93, 151]"
      ]
     },
     "execution_count": 24,
     "metadata": {},
     "output_type": "execute_result"
    }
   ],
   "source": [
    "active_frontier[0]"
   ]
  },
  {
   "cell_type": "code",
   "execution_count": 25,
   "metadata": {},
   "outputs": [
    {
     "name": "stdout",
     "output_type": "stream",
     "text": [
      "213\n",
      "213\n",
      "{0, 1, 2, 3, 4, 5, 6, 7, 8, 9, 10, 11, 12, 13, 14, 15, 16, 17, 18, 19, 20, 21, 22, 23, 24, 25, 26, 27, 28, 29, 30, 31, 32, 33, 34, 35, 36, 37, 38, 39, 40, 41, 42, 43, 44, 45, 46, 47, 48, 49, 50, 51, 52, 53, 54, 55, 56, 57, 58, 59, 60, 61, 62, 63, 64, 65, 66, 67, 68, 69, 70, 71, 72, 73, 74, 75, 76, 77, 78, 79, 80, 81, 82, 83, 84, 85, 86, 87, 88, 89, 90, 91, 92, 93, 94, 95, 96, 97, 98, 99, 100, 101, 102, 103, 104, 105, 106, 107, 108, 109, 110, 111, 112, 113, 114, 115, 116, 117, 118, 119, 120, 121, 122, 123, 124, 125, 126, 127, 128, 129, 130, 131, 132, 133, 134, 135, 136, 137, 138, 139, 140, 141, 142, 143, 144, 145, 146, 147, 148, 149, 150, 151, 152, 153, 154, 155, 156, 157, 158, 159, 160, 161, 162, 163, 164, 165, 166, 167, 168, 169, 170, 171, 172, 173, 174, 175, 176, 177, 178, 179, 180, 181, 182, 183, 184, 185, 186, 187, 188, 189, 190, 191, 192, 193, 194, 195, 196, 197, 198, 199, 200, 201, 202, 203, 204, 205, 206, 207, 208, 209, 210, 211, 212}\n",
      "213\n"
     ]
    }
   ],
   "source": [
    "print(len(order))\n",
    "print(len(active_frontier))\n",
    "print(set(order))\n",
    "print(len(set(order)))"
   ]
  },
  {
   "cell_type": "code",
   "execution_count": 26,
   "metadata": {
    "collapsed": true
   },
   "outputs": [],
   "source": [
    "#re-ordered active frontier\n",
    "inv_order = order.copy()\n",
    "for j in order:\n",
    "    inv_order[order[j]] = j\n",
    "\n",
    "active_frontier2 = []\n",
    "for i in range(len(order)):\n",
    "    active_frontier2 += [[inv_order[j] for j in active_frontier[i]]]"
   ]
  },
  {
   "cell_type": "code",
   "execution_count": 27,
   "metadata": {},
   "outputs": [
    {
     "data": {
      "text/plain": [
       "[[92, 190, 191, 91],\n",
       " [32, 167, 147, 148],\n",
       " [116, 115, 193],\n",
       " [71, 190, 140, 182],\n",
       " [84, 75, 126],\n",
       " [84, 75, 126],\n",
       " [116, 114, 41],\n",
       " [137, 87, 88],\n",
       " [114, 198, 113],\n",
       " [188, 189, 192, 186, 187, 193],\n",
       " [32, 167, 147, 148],\n",
       " [188, 189, 192, 186, 187, 193],\n",
       " [137, 87, 88],\n",
       " [114, 198, 113],\n",
       " [127, 18, 136],\n",
       " [188, 189, 192, 186, 187, 193],\n",
       " [124, 123, 122],\n",
       " [98],\n",
       " [127, 136, 202],\n",
       " [188, 189, 192, 186, 187, 193],\n",
       " [124, 123, 199],\n",
       " [155, 201, 78],\n",
       " [104],\n",
       " [188, 189, 192, 186, 187, 193],\n",
       " [197, 198, 134, 199, 200, 196],\n",
       " [186, 51, 52, 193],\n",
       " [159, 67, 68],\n",
       " [188, 189, 192, 186, 187, 193],\n",
       " [188, 189, 192, 186, 187, 193],\n",
       " [149],\n",
       " [188, 189, 192, 186, 187, 193],\n",
       " [188, 189, 192, 186, 187, 193],\n",
       " [167, 147, 148],\n",
       " [183, 157, 145, 158, 144],\n",
       " [188, 189, 192, 186, 187, 193],\n",
       " [189, 132, 36, 186],\n",
       " [192, 189, 185, 132, 186],\n",
       " [38, 82],\n",
       " [205, 82, 39, 207],\n",
       " [204, 205, 82, 207],\n",
       " [188, 189, 192, 186, 187, 193],\n",
       " [116, 114, 198],\n",
       " [65, 134, 66],\n",
       " [188, 189, 192, 186, 187, 193],\n",
       " [194, 46, 160],\n",
       " [188, 189, 192, 186, 187, 193],\n",
       " [194, 180, 181, 179, 160],\n",
       " [188, 189, 192, 186, 187, 193],\n",
       " [188, 189, 192, 186, 187, 193],\n",
       " [96, 145, 183, 146],\n",
       " [137, 87, 88],\n",
       " [189, 52, 186, 193],\n",
       " [188, 189, 192, 186, 187, 193],\n",
       " [54, 107, 106],\n",
       " [193, 107, 106],\n",
       " [138, 180, 139, 182],\n",
       " [195, 57],\n",
       " [173, 174, 175, 192, 195, 194, 176, 196],\n",
       " [204, 202, 201, 203],\n",
       " [65, 64],\n",
       " [94, 61, 173, 174, 62],\n",
       " [94, 173, 172, 174, 176, 62],\n",
       " [94, 173, 172, 174, 176, 196],\n",
       " [65, 64],\n",
       " [65, 134, 66],\n",
       " [134, 66],\n",
       " [76, 134, 198, 196],\n",
       " [111, 68, 159],\n",
       " [111, 189, 191, 159],\n",
       " [143, 145, 158, 144],\n",
       " [188, 189, 192, 186, 187, 193],\n",
       " [182, 194, 140, 180, 181, 190],\n",
       " [179, 181, 85, 160],\n",
       " [197, 198, 192, 195, 194, 201, 193, 190, 191],\n",
       " [84, 75, 126],\n",
       " [84, 126],\n",
       " [197, 198, 134, 199, 200, 196],\n",
       " [155, 201, 78],\n",
       " [155, 156, 157, 201, 184],\n",
       " [80],\n",
       " [188, 189, 192, 186, 187, 193],\n",
       " [204, 202, 206, 203],\n",
       " [204, 205, 206, 207],\n",
       " [188, 189, 192, 186, 187, 193],\n",
       " [127, 126],\n",
       " [194, 180, 181, 179, 160],\n",
       " [137, 87, 88],\n",
       " [137, 88, 203],\n",
       " [137, 202, 206, 203],\n",
       " [133, 200, 197, 134, 199],\n",
       " [92, 190, 191, 91],\n",
       " [92, 197, 191, 190],\n",
       " [197, 198, 192, 195, 194, 201, 193, 190, 191],\n",
       " [101, 195, 102],\n",
       " [173, 172, 174, 175, 194, 176, 196],\n",
       " [96, 145, 183, 146],\n",
       " [183, 157, 145, 158, 146],\n",
       " [179, 180, 178, 184],\n",
       " [188, 189, 192, 186, 187, 193],\n",
       " [193, 106, 105],\n",
       " [188, 189, 192, 186, 187, 193],\n",
       " [192, 195, 173, 174, 102],\n",
       " [173, 174, 175, 192, 195, 194, 176, 196],\n",
       " [173, 174, 175, 192, 195, 194, 176, 196],\n",
       " [188, 189, 192, 186, 187, 193],\n",
       " [193, 107, 106],\n",
       " [193, 107, 176],\n",
       " [199, 192, 195, 194, 193, 176, 196, 203],\n",
       " [109, 209, 210],\n",
       " [212, 209, 210],\n",
       " [111, 189, 191, 159],\n",
       " [189, 159, 184, 201, 183, 191],\n",
       " [133, 200, 197, 134, 199],\n",
       " [116, 114, 198],\n",
       " [116, 188, 193, 198],\n",
       " [116, 188, 193, 198],\n",
       " [188, 189, 198, 192, 193, 190, 191],\n",
       " [188, 189, 192, 186, 187, 193],\n",
       " [194, 171, 172, 175],\n",
       " [202, 200, 201, 203],\n",
       " [188, 189, 192, 186, 187, 193],\n",
       " [124, 123, 122],\n",
       " [124, 123, 199],\n",
       " [124, 133, 134, 199],\n",
       " [133, 200, 197, 134, 199],\n",
       " [171, 169, 170],\n",
       " [127, 136, 202],\n",
       " [137, 206, 136, 202],\n",
       " [130, 131, 199, 203],\n",
       " [130, 131, 199, 203],\n",
       " [131, 203, 199, 195, 175],\n",
       " [199, 175, 192, 195, 194, 176, 196, 203],\n",
       " [192, 189, 185, 187, 186],\n",
       " [197, 198, 134, 199, 200, 196],\n",
       " [197, 198, 199, 201, 200, 196, 203],\n",
       " [137, 206, 136, 202],\n",
       " [137, 202, 206, 203],\n",
       " [204, 202, 206, 203],\n",
       " [194, 180, 139, 140, 182],\n",
       " [182, 194, 140, 180, 181, 190],\n",
       " [182, 184, 194, 190, 180, 181, 183],\n",
       " [142, 143, 145, 144],\n",
       " [143, 145, 158, 144],\n",
       " [183, 157, 145, 158, 144],\n",
       " [183, 157, 145, 158, 146],\n",
       " [146, 156, 157, 158, 201, 183],\n",
       " [156, 157, 158, 184, 201, 183],\n",
       " [167, 169, 148],\n",
       " [169, 167, 168, 170],\n",
       " [188, 189, 192, 186, 187, 193],\n",
       " [192, 185, 187, 163],\n",
       " [152, 176, 196, 203],\n",
       " [199, 192, 195, 194, 193, 176, 196, 203],\n",
       " [155, 156, 154, 184],\n",
       " [155, 156, 157, 201, 184],\n",
       " [156, 157, 158, 184, 201, 183],\n",
       " [157, 158, 183, 201, 184],\n",
       " [158, 183, 201, 159, 184],\n",
       " [189, 159, 184, 201, 183, 191],\n",
       " [189, 195, 184, 194, 183, 201, 190, 191],\n",
       " [184, 194, 179, 180, 181, 183],\n",
       " [188, 189, 192, 186, 187, 193],\n",
       " [188, 189, 192, 186, 187, 193],\n",
       " [192, 189, 185, 187, 186],\n",
       " [165, 166],\n",
       " [168, 166],\n",
       " [167, 168, 170, 169],\n",
       " [168, 170, 169],\n",
       " [171, 169, 170],\n",
       " [194, 171, 170],\n",
       " [194, 171, 172, 175],\n",
       " [173, 172, 174, 175, 194, 176, 196],\n",
       " [173, 174, 175, 192, 195, 194, 176, 196],\n",
       " [174, 175, 192, 195, 194, 176, 196],\n",
       " [199, 175, 192, 195, 194, 176, 196, 203],\n",
       " [199, 192, 195, 194, 193, 176, 196, 203],\n",
       " [197, 198, 199, 192, 195, 194, 201, 193, 196, 203],\n",
       " [179, 180, 178, 184],\n",
       " [184, 194, 179, 180, 181, 183],\n",
       " [182, 184, 194, 190, 180, 181, 183],\n",
       " [182, 190, 194, 184, 181, 183],\n",
       " [195, 182, 190, 194, 184, 183, 191],\n",
       " [189, 195, 184, 194, 183, 201, 190, 191],\n",
       " [189, 195, 184, 194, 201, 190, 191],\n",
       " [189, 198, 192, 195, 194, 201, 193, 190, 191],\n",
       " [188, 189, 192, 186, 187, 193],\n",
       " [188, 189, 192, 187, 193, 190],\n",
       " [188, 189, 198, 192, 193, 190, 191],\n",
       " [189, 198, 192, 195, 194, 201, 193, 190, 191],\n",
       " [197, 198, 192, 195, 194, 201, 193, 190, 191],\n",
       " [197, 198, 192, 195, 194, 201, 193, 191],\n",
       " [197, 198, 199, 192, 195, 194, 201, 193, 196, 203],\n",
       " [197, 198, 199, 195, 194, 201, 193, 200, 196, 203],\n",
       " [197, 198, 199, 195, 194, 201, 200, 196, 203],\n",
       " [197, 198, 199, 195, 201, 200, 196, 203],\n",
       " [197, 198, 199, 201, 200, 196, 203],\n",
       " [197, 198, 199, 201, 202, 200, 203],\n",
       " [199, 198, 201, 202, 200, 203],\n",
       " [200, 203, 199, 201, 202],\n",
       " [203, 200, 201, 202],\n",
       " [204, 202, 201, 203],\n",
       " [204, 202, 206, 203],\n",
       " [204, 206, 203, 207],\n",
       " [204, 206, 207],\n",
       " [207, 208, 206, 205],\n",
       " [208, 206, 207],\n",
       " [212, 208, 207],\n",
       " [212, 208, 210],\n",
       " [212, 209, 210],\n",
       " [211, 212, 210],\n",
       " [211, 212],\n",
       " [212],\n",
       " []]"
      ]
     },
     "execution_count": 27,
     "metadata": {},
     "output_type": "execute_result"
    }
   ],
   "source": [
    "active_frontier2"
   ]
  },
  {
   "cell_type": "code",
   "execution_count": 28,
   "metadata": {},
   "outputs": [
    {
     "name": "stdout",
     "output_type": "stream",
     "text": [
      "0 91\n",
      "1 32\n",
      "2 115\n",
      "3 71\n",
      "4 75\n",
      "5 75\n",
      "6 41\n",
      "7 87\n",
      "8 113\n",
      "9 186\n",
      "10 32\n",
      "11 186\n",
      "12 87\n",
      "13 113\n",
      "14 18\n",
      "15 186\n",
      "16 122\n",
      "17 98\n",
      "18 127\n",
      "19 186\n",
      "20 123\n",
      "21 78\n",
      "22 104\n",
      "23 186\n",
      "24 134\n",
      "25 51\n",
      "26 67\n",
      "27 186\n",
      "28 186\n",
      "29 149\n",
      "30 186\n",
      "31 186\n",
      "32 147\n",
      "33 144\n",
      "34 186\n",
      "35 36\n",
      "36 132\n",
      "37 38\n",
      "38 39\n",
      "39 82\n",
      "40 186\n",
      "41 114\n",
      "42 65\n",
      "43 186\n",
      "44 46\n",
      "45 186\n",
      "46 160\n",
      "47 186\n",
      "48 186\n",
      "49 96\n",
      "50 87\n",
      "51 52\n",
      "52 186\n",
      "53 54\n",
      "54 106\n",
      "55 138\n",
      "56 57\n",
      "57 173\n",
      "58 201\n",
      "59 64\n",
      "60 61\n",
      "61 62\n",
      "62 94\n",
      "63 64\n",
      "64 65\n",
      "65 66\n",
      "66 76\n",
      "67 68\n",
      "68 111\n",
      "69 143\n",
      "70 186\n",
      "71 140\n",
      "72 85\n",
      "73 190\n",
      "74 75\n",
      "75 84\n",
      "76 134\n",
      "77 78\n",
      "78 155\n",
      "79 80\n",
      "80 186\n",
      "81 202\n",
      "82 204\n",
      "83 186\n",
      "84 126\n",
      "85 160\n",
      "86 87\n",
      "87 88\n",
      "88 137\n",
      "89 133\n",
      "90 91\n",
      "91 92\n",
      "92 190\n",
      "93 101\n",
      "94 172\n",
      "95 96\n",
      "96 145\n",
      "97 178\n",
      "98 186\n",
      "99 105\n",
      "100 186\n",
      "101 102\n",
      "102 173\n",
      "103 173\n",
      "104 186\n",
      "105 106\n",
      "106 107\n",
      "107 176\n",
      "108 109\n",
      "109 209\n",
      "110 111\n",
      "111 159\n",
      "112 133\n",
      "113 114\n",
      "114 116\n",
      "115 116\n",
      "116 188\n",
      "117 186\n",
      "118 171\n",
      "119 200\n",
      "120 186\n",
      "121 122\n",
      "122 123\n",
      "123 124\n",
      "124 133\n",
      "125 169\n",
      "126 127\n",
      "127 136\n",
      "128 130\n",
      "129 130\n",
      "130 131\n",
      "131 175\n",
      "132 185\n",
      "133 134\n",
      "134 196\n",
      "135 136\n",
      "136 137\n",
      "137 202\n",
      "138 139\n",
      "139 140\n",
      "140 180\n",
      "141 142\n",
      "142 143\n",
      "143 144\n",
      "144 145\n",
      "145 146\n",
      "146 156\n",
      "147 148\n",
      "148 167\n",
      "149 186\n",
      "150 163\n",
      "151 152\n",
      "152 176\n",
      "153 154\n",
      "154 155\n",
      "155 156\n",
      "156 157\n",
      "157 158\n",
      "158 159\n",
      "159 183\n",
      "160 179\n",
      "161 186\n",
      "162 186\n",
      "163 185\n",
      "164 165\n",
      "165 166\n",
      "166 167\n",
      "167 168\n",
      "168 169\n",
      "169 170\n",
      "170 171\n",
      "171 172\n",
      "172 173\n",
      "173 174\n",
      "174 175\n",
      "175 176\n",
      "176 192\n",
      "177 178\n",
      "178 179\n",
      "179 180\n",
      "180 181\n",
      "181 182\n",
      "182 183\n",
      "183 184\n",
      "184 189\n",
      "185 186\n",
      "186 187\n",
      "187 188\n",
      "188 189\n",
      "189 190\n",
      "190 191\n",
      "191 192\n",
      "192 193\n",
      "193 194\n",
      "194 195\n",
      "195 196\n",
      "196 197\n",
      "197 198\n",
      "198 199\n",
      "199 200\n",
      "200 201\n",
      "201 202\n",
      "202 203\n",
      "203 204\n",
      "204 205\n",
      "205 206\n",
      "206 207\n",
      "207 208\n",
      "208 209\n",
      "209 210\n",
      "210 211\n",
      "211 212\n"
     ]
    },
    {
     "ename": "ValueError",
     "evalue": "min() arg is an empty sequence",
     "output_type": "error",
     "traceback": [
      "\u001b[0;31m---------------------------------------------------------------------------\u001b[0m",
      "\u001b[0;31mValueError\u001b[0m                                Traceback (most recent call last)",
      "\u001b[0;32m<ipython-input-28-4c943d3a53d2>\u001b[0m in \u001b[0;36m<module>\u001b[0;34m\u001b[0m\n\u001b[1;32m      1\u001b[0m \u001b[0;32mfor\u001b[0m \u001b[0mi\u001b[0m \u001b[0;32min\u001b[0m \u001b[0mrange\u001b[0m\u001b[0;34m(\u001b[0m\u001b[0mlen\u001b[0m\u001b[0;34m(\u001b[0m\u001b[0mactive_frontier2\u001b[0m\u001b[0;34m)\u001b[0m\u001b[0;34m)\u001b[0m\u001b[0;34m:\u001b[0m\u001b[0;34m\u001b[0m\u001b[0m\n\u001b[0;32m----> 2\u001b[0;31m     \u001b[0mprint\u001b[0m\u001b[0;34m(\u001b[0m\u001b[0mi\u001b[0m\u001b[0;34m,\u001b[0m \u001b[0mmin\u001b[0m\u001b[0;34m(\u001b[0m\u001b[0mactive_frontier2\u001b[0m\u001b[0;34m[\u001b[0m\u001b[0mi\u001b[0m\u001b[0;34m]\u001b[0m\u001b[0;34m)\u001b[0m\u001b[0;34m)\u001b[0m\u001b[0;34m\u001b[0m\u001b[0m\n\u001b[0m",
      "\u001b[0;31mValueError\u001b[0m: min() arg is an empty sequence"
     ]
    }
   ],
   "source": [
    "for i in range(len(active_frontier2)):\n",
    "    print(i, min(active_frontier2[i]))"
   ]
  },
  {
   "cell_type": "code",
   "execution_count": 29,
   "metadata": {
    "scrolled": true
   },
   "outputs": [
    {
     "name": "stdout",
     "output_type": "stream",
     "text": [
      "213\n",
      "10\n",
      "[[92, 190, 191, 91], [32, 167, 147, 148], [116, 115, 193], [71, 190, 140, 182], [84, 75, 126], [84, 75, 126], [116, 114, 41], [137, 87, 88], [114, 198, 113], [188, 189, 192, 186, 187, 193], [32, 167, 147, 148], [188, 189, 192, 186, 187, 193], [137, 87, 88], [114, 198, 113], [127, 18, 136], [188, 189, 192, 186, 187, 193], [124, 123, 122], [98], [127, 136, 202], [188, 189, 192, 186, 187, 193], [124, 123, 199], [155, 201, 78], [104], [188, 189, 192, 186, 187, 193], [197, 198, 134, 199, 200, 196], [186, 51, 52, 193], [159, 67, 68], [188, 189, 192, 186, 187, 193], [188, 189, 192, 186, 187, 193], [149], [188, 189, 192, 186, 187, 193], [188, 189, 192, 186, 187, 193], [167, 147, 148], [183, 157, 145, 158, 144], [188, 189, 192, 186, 187, 193], [189, 132, 36, 186], [192, 189, 185, 132, 186], [38, 82], [205, 82, 39, 207], [204, 205, 82, 207], [188, 189, 192, 186, 187, 193], [116, 114, 198], [65, 134, 66], [188, 189, 192, 186, 187, 193], [194, 46, 160], [188, 189, 192, 186, 187, 193], [194, 180, 181, 179, 160], [188, 189, 192, 186, 187, 193], [188, 189, 192, 186, 187, 193], [96, 145, 183, 146], [137, 87, 88], [189, 52, 186, 193], [188, 189, 192, 186, 187, 193], [54, 107, 106], [193, 107, 106], [138, 180, 139, 182], [195, 57], [173, 174, 175, 192, 195, 194, 176, 196], [204, 202, 201, 203], [65, 64], [94, 61, 173, 174, 62], [94, 173, 172, 174, 176, 62], [94, 173, 172, 174, 176, 196], [65, 64], [65, 134, 66], [134, 66], [76, 134, 198, 196], [111, 68, 159], [111, 189, 191, 159], [143, 145, 158, 144], [188, 189, 192, 186, 187, 193], [182, 194, 140, 180, 181, 190], [179, 181, 85, 160], [197, 198, 192, 195, 194, 201, 193, 190, 191], [84, 75, 126], [84, 126], [197, 198, 134, 199, 200, 196], [155, 201, 78], [155, 156, 157, 201, 184], [80], [188, 189, 192, 186, 187, 193], [204, 202, 206, 203], [204, 205, 206, 207], [188, 189, 192, 186, 187, 193], [127, 126], [194, 180, 181, 179, 160], [137, 87, 88], [137, 88, 203], [137, 202, 206, 203], [133, 200, 197, 134, 199], [92, 190, 191, 91], [92, 197, 191, 190], [197, 198, 192, 195, 194, 201, 193, 190, 191], [101, 195, 102], [173, 172, 174, 175, 194, 176, 196], [96, 145, 183, 146], [183, 157, 145, 158, 146], [179, 180, 178, 184], [188, 189, 192, 186, 187, 193], [193, 106, 105], [188, 189, 192, 186, 187, 193], [192, 195, 173, 174, 102], [173, 174, 175, 192, 195, 194, 176, 196], [173, 174, 175, 192, 195, 194, 176, 196], [188, 189, 192, 186, 187, 193], [193, 107, 106], [193, 107, 176], [199, 192, 195, 194, 193, 176, 196, 203], [109, 209, 210], [212, 209, 210], [111, 189, 191, 159], [189, 159, 184, 201, 183, 191], [133, 200, 197, 134, 199], [116, 114, 198], [116, 188, 193, 198], [116, 188, 193, 198], [188, 189, 198, 192, 193, 190, 191], [188, 189, 192, 186, 187, 193], [194, 171, 172, 175], [202, 200, 201, 203], [188, 189, 192, 186, 187, 193], [124, 123, 122], [124, 123, 199], [124, 133, 134, 199], [133, 200, 197, 134, 199], [171, 169, 170], [127, 136, 202], [137, 206, 136, 202], [130, 131, 199, 203], [130, 131, 199, 203], [131, 203, 199, 195, 175], [199, 175, 192, 195, 194, 176, 196, 203], [192, 189, 185, 187, 186], [197, 198, 134, 199, 200, 196], [197, 198, 199, 201, 200, 196, 203], [137, 206, 136, 202], [137, 202, 206, 203], [204, 202, 206, 203], [194, 180, 139, 140, 182], [182, 194, 140, 180, 181, 190], [182, 184, 194, 190, 180, 181, 183], [142, 143, 145, 144], [143, 145, 158, 144], [183, 157, 145, 158, 144], [183, 157, 145, 158, 146], [146, 156, 157, 158, 201, 183], [156, 157, 158, 184, 201, 183], [167, 169, 148], [169, 167, 168, 170], [188, 189, 192, 186, 187, 193], [192, 185, 187, 163], [152, 176, 196, 203], [199, 192, 195, 194, 193, 176, 196, 203], [155, 156, 154, 184], [155, 156, 157, 201, 184], [156, 157, 158, 184, 201, 183], [157, 158, 183, 201, 184], [158, 183, 201, 159, 184], [189, 159, 184, 201, 183, 191], [189, 195, 184, 194, 183, 201, 190, 191], [184, 194, 179, 180, 181, 183], [188, 189, 192, 186, 187, 193], [188, 189, 192, 186, 187, 193], [192, 189, 185, 187, 186], [165, 166], [168, 166], [167, 168, 170, 169], [168, 170, 169], [171, 169, 170], [194, 171, 170], [194, 171, 172, 175], [173, 172, 174, 175, 194, 176, 196], [173, 174, 175, 192, 195, 194, 176, 196], [174, 175, 192, 195, 194, 176, 196], [199, 175, 192, 195, 194, 176, 196, 203], [199, 192, 195, 194, 193, 176, 196, 203], [197, 198, 199, 192, 195, 194, 201, 193, 196, 203], [179, 180, 178, 184], [184, 194, 179, 180, 181, 183], [182, 184, 194, 190, 180, 181, 183], [182, 190, 194, 184, 181, 183], [195, 182, 190, 194, 184, 183, 191], [189, 195, 184, 194, 183, 201, 190, 191], [189, 195, 184, 194, 201, 190, 191], [189, 198, 192, 195, 194, 201, 193, 190, 191], [188, 189, 192, 186, 187, 193], [188, 189, 192, 187, 193, 190], [188, 189, 198, 192, 193, 190, 191], [189, 198, 192, 195, 194, 201, 193, 190, 191], [197, 198, 192, 195, 194, 201, 193, 190, 191], [197, 198, 192, 195, 194, 201, 193, 191], [197, 198, 199, 192, 195, 194, 201, 193, 196, 203], [197, 198, 199, 195, 194, 201, 193, 200, 196, 203], [197, 198, 199, 195, 194, 201, 200, 196, 203], [197, 198, 199, 195, 201, 200, 196, 203], [197, 198, 199, 201, 200, 196, 203], [197, 198, 199, 201, 202, 200, 203], [199, 198, 201, 202, 200, 203], [200, 203, 199, 201, 202], [203, 200, 201, 202], [204, 202, 201, 203], [204, 202, 206, 203], [204, 206, 203, 207], [204, 206, 207], [207, 208, 206, 205], [208, 206, 207], [212, 208, 207], [212, 208, 210], [212, 209, 210], [211, 212, 210], [211, 212], [212], []]\n"
     ]
    }
   ],
   "source": [
    "print(len(active_frontier2))\n",
    "print(max(len(i) for i in active_frontier2))\n",
    "print(active_frontier2)"
   ]
  },
  {
   "cell_type": "code",
   "execution_count": 30,
   "metadata": {},
   "outputs": [
    {
     "name": "stdout",
     "output_type": "stream",
     "text": [
      "[165  50 159  49 144 167  12  20  40  13  53  14  25  38  17 115   6 210\n",
      "  19 203   5 170 117 184 187 152 145 204   2 196 111  15  51 126 162 104\n",
      " 102 171 169 174 146 105 192 112  81  96  84 207 200 134  58 100 101 199\n",
      " 155  88  30 166 180   0  66  65  63 205   3   1  29 149 150 127  11  46\n",
      "  86 107 113 148  33 114 118 197 202 173 179  18 185 123  23  26  27  10\n",
      " 108 151 163  45  64 135 132  90 212 103 177  43  70  56 178 158 157 156\n",
      " 193 195  94  97 190  39  41 153 160 119  59 189  91   7 211   9   8  75\n",
      " 182 186  35  28  32  34  42  16   4  21  22  24  48  76  85 130 128 129\n",
      " 125 131 133  54  47 201  74  61  57 141 140 136 137 138 139 142  87 168\n",
      " 121  95  83  82  78  52  77  55  79  73  68  67  69  71  60 147 116 120\n",
      "  89 122 110 124 143  99 106  44 161  98  92  93  72 154  80 109  62 164\n",
      "  37  36 188 181 183  31 176 175 172 191 194 206 198 208 209]\n"
     ]
    }
   ],
   "source": [
    "print(order)"
   ]
  },
  {
   "cell_type": "code",
   "execution_count": 31,
   "metadata": {},
   "outputs": [
    {
     "data": {
      "text/plain": [
       "10"
      ]
     },
     "execution_count": 31,
     "metadata": {},
     "output_type": "execute_result"
    }
   ],
   "source": [
    "max([len(i) for i in out[1]])"
   ]
  },
  {
   "cell_type": "code",
   "execution_count": 32,
   "metadata": {},
   "outputs": [
    {
     "data": {
      "text/plain": [
       "10"
      ]
     },
     "execution_count": 32,
     "metadata": {},
     "output_type": "execute_result"
    }
   ],
   "source": [
    "max_deg = 0\n",
    "max([len(list(x)) for x in T.nodes()])"
   ]
  },
  {
   "cell_type": "code",
   "execution_count": 33,
   "metadata": {
    "collapsed": true
   },
   "outputs": [],
   "source": [
    "def sym_proposal(j, xj):\n",
    "    return np.random.choice(21)"
   ]
  },
  {
   "cell_type": "code",
   "execution_count": 34,
   "metadata": {
    "collapsed": true
   },
   "outputs": [],
   "source": [
    "%run metro_generic.py"
   ]
  },
  {
   "cell_type": "code",
   "execution_count": 35,
   "metadata": {},
   "outputs": [
    {
     "data": {
      "text/plain": [
       "array([165,  50, 159,  49, 144, 167,  12,  20,  40,  13,  53,  14,  25,\n",
       "        38,  17, 115,   6, 210,  19, 203,   5, 170, 117, 184, 187, 152,\n",
       "       145, 204,   2, 196, 111,  15,  51, 126, 162, 104, 102, 171, 169,\n",
       "       174, 146, 105, 192, 112,  81,  96,  84, 207, 200, 134,  58, 100,\n",
       "       101, 199, 155,  88,  30, 166, 180,   0,  66,  65,  63, 205,   3,\n",
       "         1,  29, 149, 150, 127,  11,  46,  86, 107, 113, 148,  33, 114,\n",
       "       118, 197, 202, 173, 179,  18, 185, 123,  23,  26,  27,  10, 108,\n",
       "       151, 163,  45,  64, 135, 132,  90, 212, 103, 177,  43,  70,  56,\n",
       "       178, 158, 157, 156, 193, 195,  94,  97, 190,  39,  41, 153, 160,\n",
       "       119,  59, 189,  91,   7, 211,   9,   8,  75, 182, 186,  35,  28,\n",
       "        32,  34,  42,  16,   4,  21,  22,  24,  48,  76,  85, 130, 128,\n",
       "       129, 125, 131, 133,  54,  47, 201,  74,  61,  57, 141, 140, 136,\n",
       "       137, 138, 139, 142,  87, 168, 121,  95,  83,  82,  78,  52,  77,\n",
       "        55,  79,  73,  68,  67,  69,  71,  60, 147, 116, 120,  89, 122,\n",
       "       110, 124, 143,  99, 106,  44, 161,  98,  92,  93,  72, 154,  80,\n",
       "       109,  62, 164,  37,  36, 188, 181, 183,  31, 176, 175, 172, 191,\n",
       "       194, 206, 198, 208, 209])"
      ]
     },
     "execution_count": 35,
     "metadata": {},
     "output_type": "execute_result"
    }
   ],
   "source": [
    "order"
   ]
  },
  {
   "cell_type": "code",
   "execution_count": 36,
   "metadata": {
    "collapsed": true
   },
   "outputs": [],
   "source": [
    "def lf2(y):\n",
    "    lf(np.concatenate(y, x[200:]))"
   ]
  },
  {
   "cell_type": "code",
   "execution_count": 37,
   "metadata": {},
   "outputs": [
    {
     "name": "stdout",
     "output_type": "stream",
     "text": [
      "CPU times: user 16.4 s, sys: 64.3 ms, total: 16.5 s\n",
      "Wall time: 16.6 s\n"
     ]
    }
   ],
   "source": [
    "%%time\n",
    "\n",
    "xk = single_metro(lf, x, order, active_frontier, sym_proposal)"
   ]
  },
  {
   "cell_type": "code",
   "execution_count": 38,
   "metadata": {},
   "outputs": [
    {
     "data": {
      "text/plain": [
       "0.9765258215962441"
      ]
     },
     "execution_count": 38,
     "metadata": {},
     "output_type": "execute_result"
    }
   ],
   "source": [
    "np.mean(x != xk)"
   ]
  },
  {
   "cell_type": "code",
   "execution_count": 39,
   "metadata": {},
   "outputs": [
    {
     "data": {
      "text/plain": [
       "7.934272300469484"
      ]
     },
     "execution_count": 39,
     "metadata": {},
     "output_type": "execute_result"
    }
   ],
   "source": [
    "np.mean(np.abs(x - xk))"
   ]
  },
  {
   "cell_type": "code",
   "execution_count": 40,
   "metadata": {},
   "outputs": [
    {
     "data": {
      "text/plain": [
       "array([ True,  True,  True,  True,  True,  True,  True,  True, False,\n",
       "        True,  True,  True,  True,  True,  True,  True,  True,  True,\n",
       "        True,  True,  True,  True,  True,  True,  True,  True,  True,\n",
       "        True,  True,  True, False,  True,  True,  True,  True,  True,\n",
       "        True,  True,  True,  True,  True,  True,  True,  True,  True,\n",
       "        True,  True,  True,  True,  True,  True, False,  True,  True,\n",
       "        True,  True,  True,  True,  True,  True,  True,  True,  True,\n",
       "        True,  True,  True,  True,  True,  True,  True,  True,  True,\n",
       "        True,  True,  True,  True,  True,  True,  True,  True,  True,\n",
       "        True,  True,  True,  True,  True,  True,  True,  True,  True,\n",
       "        True,  True,  True,  True,  True,  True,  True,  True,  True,\n",
       "       False,  True,  True,  True,  True,  True,  True,  True,  True,\n",
       "        True,  True,  True,  True,  True,  True,  True,  True,  True,\n",
       "        True,  True,  True,  True,  True,  True,  True,  True,  True,\n",
       "        True,  True,  True,  True,  True,  True,  True,  True,  True,\n",
       "        True,  True,  True,  True,  True,  True,  True,  True,  True,\n",
       "        True,  True,  True,  True,  True,  True,  True,  True,  True,\n",
       "        True,  True,  True,  True,  True,  True,  True,  True,  True,\n",
       "        True,  True,  True,  True,  True,  True,  True,  True,  True,\n",
       "        True,  True,  True,  True,  True, False,  True,  True,  True,\n",
       "        True,  True,  True,  True,  True,  True,  True,  True,  True,\n",
       "        True,  True,  True,  True,  True,  True,  True,  True,  True,\n",
       "        True,  True,  True,  True,  True,  True,  True,  True,  True,\n",
       "        True,  True,  True,  True,  True,  True])"
      ]
     },
     "execution_count": 40,
     "metadata": {},
     "output_type": "execute_result"
    }
   ],
   "source": [
    "x != xk"
   ]
  },
  {
   "cell_type": "code",
   "execution_count": 41,
   "metadata": {},
   "outputs": [
    {
     "data": {
      "text/plain": [
       "EdgeView([(0, 1), (1, 3), (1, 4), (1, 29), (3, 205), (4, 8), (4, 29), (4, 190), (4, 33), (5, 9), (5, 36), (6, 8), (6, 9), (7, 8), (8, 16), (8, 211), (8, 9), (9, 211), (10, 16), (10, 164), (12, 41), (12, 105), (16, 188), (16, 164), (16, 190), (17, 186), (17, 19), (19, 22), (20, 24), (21, 24), (21, 172), (21, 22), (22, 24), (23, 24), (24, 25), (24, 26), (25, 26), (26, 27), (27, 58), (27, 31), (28, 31), (29, 192), (30, 109), (30, 166), (31, 32), (31, 36), (31, 57), (32, 34), (32, 35), (32, 36), (33, 37), (33, 62), (34, 36), (34, 109), (34, 71), (35, 36), (36, 37), (37, 107), (37, 38), (37, 39), (38, 41), (38, 39), (39, 40), (39, 41), (40, 41), (42, 72), (42, 104), (42, 106), (42, 99), (43, 45), (43, 70), (43, 109), (44, 72), (44, 96), (44, 92), (44, 95), (46, 49), (46, 92), (46, 110), (47, 50), (47, 54), (47, 55), (48, 88), (48, 89), (48, 110), (49, 85), (50, 51), (50, 54), (51, 52), (51, 53), (51, 54), (52, 77), (52, 54), (52, 79), (53, 54), (55, 75), (55, 77), (56, 60), (57, 60), (57, 61), (59, 73), (60, 156), (60, 64), (60, 63), (61, 62), (62, 64), (63, 64), (63, 65), (63, 66), (63, 68), (64, 65), (64, 67), (64, 68), (65, 66), (65, 67), (65, 69), (66, 69), (67, 68), (67, 69), (67, 70), (67, 71), (68, 69), (68, 71), (68, 73), (69, 70), (69, 71), (70, 72), (71, 72), (71, 73), (72, 99), (72, 95), (73, 75), (74, 95), (76, 80), (76, 88), (76, 85), (77, 79), (77, 78), (78, 82), (79, 80), (80, 84), (80, 81), (81, 84), (82, 83), (84, 87), (85, 122), (86, 120), (86, 123), (86, 87), (87, 89), (89, 147), (89, 116), (90, 120), (90, 116), (90, 143), (92, 108), (92, 93), (93, 161), (93, 94), (93, 151), (93, 110), (93, 165), (94, 97), (95, 99), (96, 161), (97, 98), (97, 150), (98, 99), (98, 101), (98, 102), (100, 152), (100, 106), (100, 101), (100, 154), (101, 154), (102, 104), (102, 106), (103, 158), (105, 160), (106, 161), (107, 164), (107, 109), (108, 151), (109, 166), (109, 110), (113, 182), (114, 118), (116, 120), (116, 147), (116, 143), (117, 178), (118, 136), (118, 170), (118, 181), (120, 123), (120, 124), (120, 143), (122, 123), (122, 124), (124, 132), (124, 125), (124, 126), (125, 128), (125, 138), (125, 126), (127, 129), (128, 129), (128, 130), (128, 131), (129, 130), (129, 131), (129, 139), (130, 131), (131, 132), (131, 133), (132, 133), (132, 134), (133, 181), (133, 134), (133, 135), (133, 137), (136, 137), (136, 138), (136, 141), (137, 138), (137, 139), (137, 140), (138, 139), (139, 142), (140, 141), (140, 143), (142, 145), (142, 143), (144, 185), (144, 182), (145, 149), (148, 185), (148, 182), (149, 150), (151, 163), (153, 160), (153, 154), (154, 156), (154, 157), (154, 158), (155, 156), (155, 157), (155, 199), (156, 157), (157, 158), (159, 160), (160, 161), (163, 164), (163, 165), (167, 182), (169, 171), (169, 179), (172, 194), (172, 175), (172, 173), (173, 176), (174, 179), (174, 191), (174, 175), (175, 176), (176, 181), (176, 179), (176, 180), (179, 191), (180, 181), (180, 183), (182, 186), (183, 186), (183, 189), (187, 188), (188, 189), (188, 190), (191, 209), (191, 194), (193, 195), (193, 206), (194, 198), (195, 198), (196, 201), (197, 202), (198, 209), (206, 209), (208, 209), (210, 212)])"
      ]
     },
     "execution_count": 41,
     "metadata": {},
     "output_type": "execute_result"
    }
   ],
   "source": [
    "G.edges"
   ]
  },
  {
   "cell_type": "code",
   "execution_count": 42,
   "metadata": {},
   "outputs": [
    {
     "data": {
      "text/plain": [
       "array([165,  50, 159,  49, 144, 167,  12,  20,  40,  13,  53,  14,  25,\n",
       "        38,  17, 115,   6, 210,  19, 203,   5, 170, 117, 184, 187, 152,\n",
       "       145, 204,   2, 196, 111,  15,  51, 126, 162, 104, 102, 171, 169,\n",
       "       174, 146, 105, 192, 112,  81,  96,  84, 207, 200, 134,  58, 100,\n",
       "       101, 199, 155,  88,  30, 166, 180,   0,  66,  65,  63, 205,   3,\n",
       "         1,  29, 149, 150, 127,  11,  46,  86, 107, 113, 148,  33, 114,\n",
       "       118, 197, 202, 173, 179,  18, 185, 123,  23,  26,  27,  10, 108,\n",
       "       151, 163,  45,  64, 135, 132,  90, 212, 103, 177,  43,  70,  56,\n",
       "       178, 158, 157, 156, 193, 195,  94,  97, 190,  39,  41, 153, 160,\n",
       "       119,  59, 189,  91,   7, 211,   9,   8,  75, 182, 186,  35,  28,\n",
       "        32,  34,  42,  16,   4,  21,  22,  24,  48,  76,  85, 130, 128,\n",
       "       129, 125, 131, 133,  54,  47, 201,  74,  61,  57, 141, 140, 136,\n",
       "       137, 138, 139, 142,  87, 168, 121,  95,  83,  82,  78,  52,  77,\n",
       "        55,  79,  73,  68,  67,  69,  71,  60, 147, 116, 120,  89, 122,\n",
       "       110, 124, 143,  99, 106,  44, 161,  98,  92,  93,  72, 154,  80,\n",
       "       109,  62, 164,  37,  36, 188, 181, 183,  31, 176, 175, 172, 191,\n",
       "       194, 206, 198, 208, 209])"
      ]
     },
     "execution_count": 42,
     "metadata": {},
     "output_type": "execute_result"
    }
   ],
   "source": [
    "order"
   ]
  },
  {
   "cell_type": "code",
   "execution_count": 43,
   "metadata": {},
   "outputs": [
    {
     "data": {
      "text/plain": [
       "[[163, 92, 93, 151],\n",
       " [51, 52, 54, 47],\n",
       " [160, 153, 154],\n",
       " [46, 92, 85, 110],\n",
       " [185, 148, 182],\n",
       " [185, 148, 182],\n",
       " [160, 41, 105],\n",
       " [24, 26, 27],\n",
       " [41, 37, 39],\n",
       " [161, 98, 72, 106, 44, 154],\n",
       " [51, 52, 54, 47],\n",
       " [161, 98, 72, 106, 44, 154],\n",
       " [24, 26, 27],\n",
       " [41, 37, 39],\n",
       " [186, 19, 22],\n",
       " [161, 98, 72, 106, 44, 154],\n",
       " [8, 9, 211],\n",
       " [212],\n",
       " [186, 22, 183],\n",
       " [161, 98, 72, 106, 44, 154],\n",
       " [8, 9, 36],\n",
       " [136, 181, 118],\n",
       " [178],\n",
       " [161, 98, 72, 106, 44, 154],\n",
       " [164, 37, 4, 36, 188, 62],\n",
       " [106, 100, 101, 154],\n",
       " [142, 149, 150],\n",
       " [161, 98, 72, 106, 44, 154],\n",
       " [161, 98, 72, 106, 44, 154],\n",
       " [201],\n",
       " [161, 98, 72, 106, 44, 154],\n",
       " [161, 98, 72, 106, 44, 154],\n",
       " [52, 54, 47],\n",
       " [124, 138, 131, 139, 125],\n",
       " [161, 98, 72, 106, 44, 154],\n",
       " [98, 42, 102, 106],\n",
       " [72, 98, 99, 42, 106],\n",
       " [169, 179],\n",
       " [175, 179, 174, 191],\n",
       " [176, 175, 179, 191],\n",
       " [161, 98, 72, 106, 44, 154],\n",
       " [160, 41, 37],\n",
       " [1, 4, 29],\n",
       " [161, 98, 72, 106, 44, 154],\n",
       " [80, 84, 87],\n",
       " [161, 98, 72, 106, 44, 154],\n",
       " [80, 89, 122, 120, 87],\n",
       " [161, 98, 72, 106, 44, 154],\n",
       " [161, 98, 72, 106, 44, 154],\n",
       " [132, 131, 124, 133],\n",
       " [24, 26, 27],\n",
       " [98, 101, 106, 154],\n",
       " [161, 98, 72, 106, 44, 154],\n",
       " [155, 156, 157],\n",
       " [154, 156, 157],\n",
       " [48, 89, 76, 110],\n",
       " [109, 166],\n",
       " [67, 69, 71, 72, 109, 80, 60, 62],\n",
       " [176, 183, 181, 31],\n",
       " [1, 3],\n",
       " [64, 65, 67, 69, 63],\n",
       " [64, 67, 68, 69, 60, 63],\n",
       " [64, 67, 68, 69, 60, 62],\n",
       " [1, 3],\n",
       " [1, 4, 29],\n",
       " [4, 29],\n",
       " [33, 4, 37, 62],\n",
       " [97, 150, 142],\n",
       " [97, 98, 93, 142],\n",
       " [129, 131, 139, 125],\n",
       " [161, 98, 72, 106, 44, 154],\n",
       " [110, 80, 85, 89, 122, 92],\n",
       " [120, 122, 123, 87],\n",
       " [164, 37, 72, 109, 80, 181, 154, 92, 93],\n",
       " [185, 148, 182],\n",
       " [185, 182],\n",
       " [164, 37, 4, 36, 188, 62],\n",
       " [136, 181, 118],\n",
       " [136, 137, 138, 181, 143],\n",
       " [202],\n",
       " [161, 98, 72, 106, 44, 154],\n",
       " [176, 183, 172, 31],\n",
       " [176, 175, 172, 191],\n",
       " [161, 98, 72, 106, 44, 154],\n",
       " [186, 182],\n",
       " [80, 89, 122, 120, 87],\n",
       " [24, 26, 27],\n",
       " [24, 27, 31],\n",
       " [24, 183, 172, 31],\n",
       " [16, 188, 164, 4, 36],\n",
       " [163, 92, 93, 151],\n",
       " [163, 164, 93, 92],\n",
       " [164, 37, 72, 109, 80, 181, 154, 92, 93],\n",
       " [43, 109, 70],\n",
       " [67, 68, 69, 71, 80, 60, 62],\n",
       " [132, 131, 124, 133],\n",
       " [124, 138, 131, 139, 133],\n",
       " [120, 89, 116, 143],\n",
       " [161, 98, 72, 106, 44, 154],\n",
       " [154, 157, 158],\n",
       " [161, 98, 72, 106, 44, 154],\n",
       " [72, 109, 67, 69, 70],\n",
       " [67, 69, 71, 72, 109, 80, 60, 62],\n",
       " [67, 69, 71, 72, 109, 80, 60, 62],\n",
       " [161, 98, 72, 106, 44, 154],\n",
       " [154, 156, 157],\n",
       " [154, 156, 60],\n",
       " [36, 72, 109, 80, 154, 60, 62, 31],\n",
       " [195, 206, 198],\n",
       " [209, 206, 198],\n",
       " [97, 98, 93, 142],\n",
       " [98, 142, 143, 181, 124, 93],\n",
       " [16, 188, 164, 4, 36],\n",
       " [160, 41, 37],\n",
       " [160, 161, 154, 37],\n",
       " [160, 161, 154, 37],\n",
       " [161, 98, 37, 72, 154, 92, 93],\n",
       " [161, 98, 72, 106, 44, 154],\n",
       " [80, 73, 68, 71],\n",
       " [183, 188, 181, 31],\n",
       " [161, 98, 72, 106, 44, 154],\n",
       " [8, 9, 211],\n",
       " [8, 9, 36],\n",
       " [8, 16, 4, 36],\n",
       " [16, 188, 164, 4, 36],\n",
       " [73, 55, 79],\n",
       " [186, 22, 183],\n",
       " [24, 172, 22, 183],\n",
       " [32, 34, 36, 31],\n",
       " [32, 34, 36, 31],\n",
       " [34, 31, 36, 109, 71],\n",
       " [36, 71, 72, 109, 80, 60, 62, 31],\n",
       " [72, 98, 99, 44, 106],\n",
       " [164, 37, 4, 36, 188, 62],\n",
       " [164, 37, 36, 181, 188, 62, 31],\n",
       " [24, 172, 22, 183],\n",
       " [24, 183, 172, 31],\n",
       " [176, 183, 172, 31],\n",
       " [80, 89, 76, 85, 110],\n",
       " [110, 80, 85, 89, 122, 92],\n",
       " [110, 143, 80, 92, 89, 122, 124],\n",
       " [128, 129, 131, 125],\n",
       " [129, 131, 139, 125],\n",
       " [124, 138, 131, 139, 125],\n",
       " [124, 138, 131, 139, 133],\n",
       " [133, 137, 138, 139, 181, 124],\n",
       " [137, 138, 139, 143, 181, 124],\n",
       " [52, 55, 47],\n",
       " [55, 52, 77, 79],\n",
       " [161, 98, 72, 106, 44, 154],\n",
       " [72, 99, 44, 95],\n",
       " [57, 60, 62, 31],\n",
       " [36, 72, 109, 80, 154, 60, 62, 31],\n",
       " [136, 137, 140, 143],\n",
       " [136, 137, 138, 181, 143],\n",
       " [137, 138, 139, 143, 181, 124],\n",
       " [138, 139, 124, 181, 143],\n",
       " [139, 124, 181, 142, 143],\n",
       " [98, 142, 143, 181, 124, 93],\n",
       " [98, 109, 143, 80, 124, 181, 92, 93],\n",
       " [143, 80, 120, 89, 122, 124],\n",
       " [161, 98, 72, 106, 44, 154],\n",
       " [161, 98, 72, 106, 44, 154],\n",
       " [72, 98, 99, 44, 106],\n",
       " [82, 78],\n",
       " [77, 78],\n",
       " [52, 77, 79, 55],\n",
       " [77, 79, 55],\n",
       " [73, 55, 79],\n",
       " [80, 73, 79],\n",
       " [80, 73, 68, 71],\n",
       " [67, 68, 69, 71, 80, 60, 62],\n",
       " [67, 69, 71, 72, 109, 80, 60, 62],\n",
       " [69, 71, 72, 109, 80, 60, 62],\n",
       " [36, 71, 72, 109, 80, 60, 62, 31],\n",
       " [36, 72, 109, 80, 154, 60, 62, 31],\n",
       " [164, 37, 36, 72, 109, 80, 181, 154, 62, 31],\n",
       " [120, 89, 116, 143],\n",
       " [143, 80, 120, 89, 122, 124],\n",
       " [110, 143, 80, 92, 89, 122, 124],\n",
       " [110, 92, 80, 143, 122, 124],\n",
       " [109, 110, 92, 80, 143, 124, 93],\n",
       " [98, 109, 143, 80, 124, 181, 92, 93],\n",
       " [98, 109, 143, 80, 181, 92, 93],\n",
       " [98, 37, 72, 109, 80, 181, 154, 92, 93],\n",
       " [161, 98, 72, 106, 44, 154],\n",
       " [161, 98, 72, 44, 154, 92],\n",
       " [161, 98, 37, 72, 154, 92, 93],\n",
       " [98, 37, 72, 109, 80, 181, 154, 92, 93],\n",
       " [164, 37, 72, 109, 80, 181, 154, 92, 93],\n",
       " [164, 37, 72, 109, 80, 181, 154, 93],\n",
       " [164, 37, 36, 72, 109, 80, 181, 154, 62, 31],\n",
       " [164, 37, 36, 109, 80, 181, 154, 188, 62, 31],\n",
       " [164, 37, 36, 109, 80, 181, 188, 62, 31],\n",
       " [164, 37, 36, 109, 181, 188, 62, 31],\n",
       " [164, 37, 36, 181, 188, 62, 31],\n",
       " [164, 37, 36, 181, 183, 188, 31],\n",
       " [36, 37, 181, 183, 188, 31],\n",
       " [188, 31, 36, 181, 183],\n",
       " [31, 188, 181, 183],\n",
       " [176, 183, 181, 31],\n",
       " [176, 183, 172, 31],\n",
       " [176, 172, 31, 191],\n",
       " [176, 172, 191],\n",
       " [191, 194, 172, 175],\n",
       " [194, 172, 191],\n",
       " [209, 194, 191],\n",
       " [209, 194, 198],\n",
       " [209, 206, 198],\n",
       " [208, 209, 198],\n",
       " [208, 209],\n",
       " [209],\n",
       " []]"
      ]
     },
     "execution_count": 43,
     "metadata": {},
     "output_type": "execute_result"
    }
   ],
   "source": [
    "active_frontier"
   ]
  },
  {
   "cell_type": "code",
   "execution_count": 44,
   "metadata": {},
   "outputs": [
    {
     "data": {
      "text/plain": [
       "[[92, 190, 191, 91],\n",
       " [32, 167, 147, 148],\n",
       " [116, 115, 193],\n",
       " [71, 190, 140, 182],\n",
       " [84, 75, 126],\n",
       " [84, 75, 126],\n",
       " [116, 114, 41],\n",
       " [137, 87, 88],\n",
       " [114, 198, 113],\n",
       " [188, 189, 192, 186, 187, 193],\n",
       " [32, 167, 147, 148],\n",
       " [188, 189, 192, 186, 187, 193],\n",
       " [137, 87, 88],\n",
       " [114, 198, 113],\n",
       " [127, 18, 136],\n",
       " [188, 189, 192, 186, 187, 193],\n",
       " [124, 123, 122],\n",
       " [98],\n",
       " [127, 136, 202],\n",
       " [188, 189, 192, 186, 187, 193],\n",
       " [124, 123, 199],\n",
       " [155, 201, 78],\n",
       " [104],\n",
       " [188, 189, 192, 186, 187, 193],\n",
       " [197, 198, 134, 199, 200, 196],\n",
       " [186, 51, 52, 193],\n",
       " [159, 67, 68],\n",
       " [188, 189, 192, 186, 187, 193],\n",
       " [188, 189, 192, 186, 187, 193],\n",
       " [149],\n",
       " [188, 189, 192, 186, 187, 193],\n",
       " [188, 189, 192, 186, 187, 193],\n",
       " [167, 147, 148],\n",
       " [183, 157, 145, 158, 144],\n",
       " [188, 189, 192, 186, 187, 193],\n",
       " [189, 132, 36, 186],\n",
       " [192, 189, 185, 132, 186],\n",
       " [38, 82],\n",
       " [205, 82, 39, 207],\n",
       " [204, 205, 82, 207],\n",
       " [188, 189, 192, 186, 187, 193],\n",
       " [116, 114, 198],\n",
       " [65, 134, 66],\n",
       " [188, 189, 192, 186, 187, 193],\n",
       " [194, 46, 160],\n",
       " [188, 189, 192, 186, 187, 193],\n",
       " [194, 180, 181, 179, 160],\n",
       " [188, 189, 192, 186, 187, 193],\n",
       " [188, 189, 192, 186, 187, 193],\n",
       " [96, 145, 183, 146],\n",
       " [137, 87, 88],\n",
       " [189, 52, 186, 193],\n",
       " [188, 189, 192, 186, 187, 193],\n",
       " [54, 107, 106],\n",
       " [193, 107, 106],\n",
       " [138, 180, 139, 182],\n",
       " [195, 57],\n",
       " [173, 174, 175, 192, 195, 194, 176, 196],\n",
       " [204, 202, 201, 203],\n",
       " [65, 64],\n",
       " [94, 61, 173, 174, 62],\n",
       " [94, 173, 172, 174, 176, 62],\n",
       " [94, 173, 172, 174, 176, 196],\n",
       " [65, 64],\n",
       " [65, 134, 66],\n",
       " [134, 66],\n",
       " [76, 134, 198, 196],\n",
       " [111, 68, 159],\n",
       " [111, 189, 191, 159],\n",
       " [143, 145, 158, 144],\n",
       " [188, 189, 192, 186, 187, 193],\n",
       " [182, 194, 140, 180, 181, 190],\n",
       " [179, 181, 85, 160],\n",
       " [197, 198, 192, 195, 194, 201, 193, 190, 191],\n",
       " [84, 75, 126],\n",
       " [84, 126],\n",
       " [197, 198, 134, 199, 200, 196],\n",
       " [155, 201, 78],\n",
       " [155, 156, 157, 201, 184],\n",
       " [80],\n",
       " [188, 189, 192, 186, 187, 193],\n",
       " [204, 202, 206, 203],\n",
       " [204, 205, 206, 207],\n",
       " [188, 189, 192, 186, 187, 193],\n",
       " [127, 126],\n",
       " [194, 180, 181, 179, 160],\n",
       " [137, 87, 88],\n",
       " [137, 88, 203],\n",
       " [137, 202, 206, 203],\n",
       " [133, 200, 197, 134, 199],\n",
       " [92, 190, 191, 91],\n",
       " [92, 197, 191, 190],\n",
       " [197, 198, 192, 195, 194, 201, 193, 190, 191],\n",
       " [101, 195, 102],\n",
       " [173, 172, 174, 175, 194, 176, 196],\n",
       " [96, 145, 183, 146],\n",
       " [183, 157, 145, 158, 146],\n",
       " [179, 180, 178, 184],\n",
       " [188, 189, 192, 186, 187, 193],\n",
       " [193, 106, 105],\n",
       " [188, 189, 192, 186, 187, 193],\n",
       " [192, 195, 173, 174, 102],\n",
       " [173, 174, 175, 192, 195, 194, 176, 196],\n",
       " [173, 174, 175, 192, 195, 194, 176, 196],\n",
       " [188, 189, 192, 186, 187, 193],\n",
       " [193, 107, 106],\n",
       " [193, 107, 176],\n",
       " [199, 192, 195, 194, 193, 176, 196, 203],\n",
       " [109, 209, 210],\n",
       " [212, 209, 210],\n",
       " [111, 189, 191, 159],\n",
       " [189, 159, 184, 201, 183, 191],\n",
       " [133, 200, 197, 134, 199],\n",
       " [116, 114, 198],\n",
       " [116, 188, 193, 198],\n",
       " [116, 188, 193, 198],\n",
       " [188, 189, 198, 192, 193, 190, 191],\n",
       " [188, 189, 192, 186, 187, 193],\n",
       " [194, 171, 172, 175],\n",
       " [202, 200, 201, 203],\n",
       " [188, 189, 192, 186, 187, 193],\n",
       " [124, 123, 122],\n",
       " [124, 123, 199],\n",
       " [124, 133, 134, 199],\n",
       " [133, 200, 197, 134, 199],\n",
       " [171, 169, 170],\n",
       " [127, 136, 202],\n",
       " [137, 206, 136, 202],\n",
       " [130, 131, 199, 203],\n",
       " [130, 131, 199, 203],\n",
       " [131, 203, 199, 195, 175],\n",
       " [199, 175, 192, 195, 194, 176, 196, 203],\n",
       " [192, 189, 185, 187, 186],\n",
       " [197, 198, 134, 199, 200, 196],\n",
       " [197, 198, 199, 201, 200, 196, 203],\n",
       " [137, 206, 136, 202],\n",
       " [137, 202, 206, 203],\n",
       " [204, 202, 206, 203],\n",
       " [194, 180, 139, 140, 182],\n",
       " [182, 194, 140, 180, 181, 190],\n",
       " [182, 184, 194, 190, 180, 181, 183],\n",
       " [142, 143, 145, 144],\n",
       " [143, 145, 158, 144],\n",
       " [183, 157, 145, 158, 144],\n",
       " [183, 157, 145, 158, 146],\n",
       " [146, 156, 157, 158, 201, 183],\n",
       " [156, 157, 158, 184, 201, 183],\n",
       " [167, 169, 148],\n",
       " [169, 167, 168, 170],\n",
       " [188, 189, 192, 186, 187, 193],\n",
       " [192, 185, 187, 163],\n",
       " [152, 176, 196, 203],\n",
       " [199, 192, 195, 194, 193, 176, 196, 203],\n",
       " [155, 156, 154, 184],\n",
       " [155, 156, 157, 201, 184],\n",
       " [156, 157, 158, 184, 201, 183],\n",
       " [157, 158, 183, 201, 184],\n",
       " [158, 183, 201, 159, 184],\n",
       " [189, 159, 184, 201, 183, 191],\n",
       " [189, 195, 184, 194, 183, 201, 190, 191],\n",
       " [184, 194, 179, 180, 181, 183],\n",
       " [188, 189, 192, 186, 187, 193],\n",
       " [188, 189, 192, 186, 187, 193],\n",
       " [192, 189, 185, 187, 186],\n",
       " [165, 166],\n",
       " [168, 166],\n",
       " [167, 168, 170, 169],\n",
       " [168, 170, 169],\n",
       " [171, 169, 170],\n",
       " [194, 171, 170],\n",
       " [194, 171, 172, 175],\n",
       " [173, 172, 174, 175, 194, 176, 196],\n",
       " [173, 174, 175, 192, 195, 194, 176, 196],\n",
       " [174, 175, 192, 195, 194, 176, 196],\n",
       " [199, 175, 192, 195, 194, 176, 196, 203],\n",
       " [199, 192, 195, 194, 193, 176, 196, 203],\n",
       " [197, 198, 199, 192, 195, 194, 201, 193, 196, 203],\n",
       " [179, 180, 178, 184],\n",
       " [184, 194, 179, 180, 181, 183],\n",
       " [182, 184, 194, 190, 180, 181, 183],\n",
       " [182, 190, 194, 184, 181, 183],\n",
       " [195, 182, 190, 194, 184, 183, 191],\n",
       " [189, 195, 184, 194, 183, 201, 190, 191],\n",
       " [189, 195, 184, 194, 201, 190, 191],\n",
       " [189, 198, 192, 195, 194, 201, 193, 190, 191],\n",
       " [188, 189, 192, 186, 187, 193],\n",
       " [188, 189, 192, 187, 193, 190],\n",
       " [188, 189, 198, 192, 193, 190, 191],\n",
       " [189, 198, 192, 195, 194, 201, 193, 190, 191],\n",
       " [197, 198, 192, 195, 194, 201, 193, 190, 191],\n",
       " [197, 198, 192, 195, 194, 201, 193, 191],\n",
       " [197, 198, 199, 192, 195, 194, 201, 193, 196, 203],\n",
       " [197, 198, 199, 195, 194, 201, 193, 200, 196, 203],\n",
       " [197, 198, 199, 195, 194, 201, 200, 196, 203],\n",
       " [197, 198, 199, 195, 201, 200, 196, 203],\n",
       " [197, 198, 199, 201, 200, 196, 203],\n",
       " [197, 198, 199, 201, 202, 200, 203],\n",
       " [199, 198, 201, 202, 200, 203],\n",
       " [200, 203, 199, 201, 202],\n",
       " [203, 200, 201, 202],\n",
       " [204, 202, 201, 203],\n",
       " [204, 202, 206, 203],\n",
       " [204, 206, 203, 207],\n",
       " [204, 206, 207],\n",
       " [207, 208, 206, 205],\n",
       " [208, 206, 207],\n",
       " [212, 208, 207],\n",
       " [212, 208, 210],\n",
       " [212, 209, 210],\n",
       " [211, 212, 210],\n",
       " [211, 212],\n",
       " [212],\n",
       " []]"
      ]
     },
     "execution_count": 44,
     "metadata": {},
     "output_type": "execute_result"
    }
   ],
   "source": [
    "active_frontier2"
   ]
  },
  {
   "cell_type": "code",
   "execution_count": 45,
   "metadata": {},
   "outputs": [
    {
     "data": {
      "text/plain": [
       "array([ 0,  0,  5,  0,  8,  3, 19,  9, 17, 13, 20, 19,  4,  1, 11, 19,  8,\n",
       "        6, 12,  5, 15,  6, 16,  6, 18,  6,  9, 17, 17, 13, 14,  9,  4, 12,\n",
       "        8,  7, 12,  0,  0,  0,  0, 12,  8,  5, 18,  8,  1, 10, 18,  6,  4,\n",
       "       15,  6,  4,  4, 18,  0,  2,  7, 18,  0, 19,  0,  0,  0,  0,  0,  0,\n",
       "        0,  0,  0,  0,  0, 18, 18, 15,  1, 17,  5,  3, 14,  3, 13,  6, 18,\n",
       "       15,  1,  9, 13, 19, 15, 20,  1, 11, 11,  8,  2,  4, 20,  5, 15,  3,\n",
       "       14,  5,  9,  9, 16,  9, 10,  5,  8, 17, 18,  8, 11,  2,  8, 20, 19,\n",
       "        7,  8, 15,  4, 17, 16, 13, 16, 15,  6,  9, 17, 10, 16,  0, 18,  0,\n",
       "       20,  7, 17, 17,  1, 10, 17,  4, 14, 15,  4, 13, 10,  4, 15, 20, 16,\n",
       "       13,  6,  0,  4,  4, 17, 10, 16,  8,  4, 16,  8, 14, 12, 17,  1,  6,\n",
       "       13, 10,  3, 12, 11, 12,  8,  2, 10,  1, 18, 16, 18, 17, 15,  8,  2,\n",
       "        7, 11,  6,  6, 18, 15, 13, 15,  9, 13,  5,  4,  7,  0,  8, 13, 13,\n",
       "       13, 14, 11, 19,  5,  9,  2,  7,  4])"
      ]
     },
     "execution_count": 45,
     "metadata": {},
     "output_type": "execute_result"
    }
   ],
   "source": [
    "x"
   ]
  },
  {
   "cell_type": "code",
   "execution_count": 46,
   "metadata": {},
   "outputs": [
    {
     "data": {
      "text/plain": [
       "array([17,  4,  2,  6, 10, 14,  4, 15, 17,  1,  7,  8, 11, 20,  4, 13,  0,\n",
       "        1, 16,  6,  7,  3, 11,  5,  5, 11, 18,  4,  5, 20, 14, 14,  1, 16,\n",
       "       20,  6,  7, 10,  6, 11, 12, 11,  2,  3, 15,  9, 18,  8, 16, 11, 14,\n",
       "       15, 11, 15, 19,  8, 14,  7,  1,  0,  5,  1, 14, 14, 19, 19,  8, 11,\n",
       "       14, 15, 16,  1, 17, 14,  9,  7, 16,  9,  3, 14,  2, 13,  9, 15, 16,\n",
       "       17,  8, 16,  1, 10, 19,  7,  6, 16, 19,  0, 16,  7,  4,  5, 10,  5,\n",
       "        2, 12, 13,  7,  9, 12,  1, 15, 11,  5, 20,  0, 12, 11, 14, 16, 17,\n",
       "        6, 20, 14,  0,  0,  7,  2,  0,  2,  3,  5, 11,  9,  8, 19, 14, 12,\n",
       "        1, 16,  0, 13,  7,  9,  6, 20, 17, 10,  0,  9,  9,  8, 13, 10,  1,\n",
       "       20, 20, 13,  7, 17, 19,  8,  7, 10, 18,  4, 19,  2,  7, 12, 14, 18,\n",
       "        3, 18, 17,  0,  0,  3,  8,  0,  0,  9,  4, 12,  8, 16,  7, 19, 16,\n",
       "       18,  8, 20,  3, 10,  0,  6,  3, 19,  1, 12,  0, 12,  1, 15,  4,  9,\n",
       "       19, 12,  0,  0, 11, 14, 10, 16,  0])"
      ]
     },
     "execution_count": 46,
     "metadata": {},
     "output_type": "execute_result"
    }
   ],
   "source": [
    "xk"
   ]
  },
  {
   "cell_type": "code",
   "execution_count": 47,
   "metadata": {},
   "outputs": [
    {
     "data": {
      "text/plain": [
       "array([-17,  -4,   3,  -6,  -2, -11,  15,  -6,   0,  12,  13,  11,  -7,\n",
       "       -19,   7,   6,   8,   5,  -4,  -1,   8,   3,   5,   1,  13,  -5,\n",
       "        -9,  13,  12,  -7,   0,  -5,   3,  -4, -12,   1,   5, -10,  -6,\n",
       "       -11, -12,   1,   6,   2,   3,  -1, -17,   2,   2,  -5, -10,   0,\n",
       "        -5, -11, -15,  10, -14,  -5,   6,  18,  -5,  18, -14, -14, -19,\n",
       "       -19,  -8, -11, -14, -15, -16,  -1, -17,   4,   9,   8, -15,   8,\n",
       "         2, -11,  12, -10,   4,  -9,   2,  -2,  -7,  -7,  12,   9,  -4,\n",
       "        13,  -5,  -5,  -8,   8, -14,  -3,  16,   0,   5,  -2,  12,  -7,\n",
       "        -4,   2,   7,  -3,   9, -10,  -3,  12,  -2,   8,  -1,  -9,  -6,\n",
       "         4,   2,   1, -12,   1,   4,  17,   9,  11,  16,  13,   3,   4,\n",
       "         6,   1,   8, -19,   4, -12,  19,  -9,  17,   4,  -6,   1,  11,\n",
       "       -16,  -3,   5,   4,   4,   1,  -4,   2,  10,  15,  -7, -14, -13,\n",
       "        -3, -13,  -2,   2,   9,  -2, -14,  12, -11,  12,   5,   5, -13,\n",
       "       -12,  10,  -8, -14,  12,  11,   9,   0,   2,  10,  -8,  14,   4,\n",
       "        10,   1,   8, -11, -14, -11,   3, -14,   3,   8,  15,   7,  12,\n",
       "       -10,  12,  -7,   4,  -5,  -1,  -7,   9,   4,  -6,   2,  11,  19,\n",
       "        -6,  -5,  -8,  -9,   4])"
      ]
     },
     "execution_count": 47,
     "metadata": {},
     "output_type": "execute_result"
    }
   ],
   "source": [
    "x - xk"
   ]
  },
  {
   "cell_type": "code",
   "execution_count": 48,
   "metadata": {},
   "outputs": [
    {
     "data": {
      "text/plain": [
       "0.047619047619047616"
      ]
     },
     "execution_count": 48,
     "metadata": {},
     "output_type": "execute_result"
    }
   ],
   "source": [
    "1 / 21"
   ]
  },
  {
   "cell_type": "markdown",
   "metadata": {
    "collapsed": true
   },
   "source": [
    "## Parallel Simulation"
   ]
  },
  {
   "cell_type": "code",
   "execution_count": 49,
   "metadata": {},
   "outputs": [],
   "source": [
    "import multiprocessing as mp\n",
    "from joblib import Parallel, delayed"
   ]
  },
  {
   "cell_type": "code",
   "execution_count": 61,
   "metadata": {
    "collapsed": true
   },
   "outputs": [],
   "source": [
    "def sample():\n",
    "    x, _, _ = gibbs_sampler(lf, 213, n_iter = 20000)\n",
    "    xk = single_metro(lf, x, order, active_frontier, sym_proposal)\n",
    "    \n",
    "    return [x, xk]"
   ]
  },
  {
   "cell_type": "code",
   "execution_count": 62,
   "metadata": {},
   "outputs": [
    {
     "name": "stdout",
     "output_type": "stream",
     "text": [
      "CPU times: user 25 s, sys: 221 ms, total: 25.2 s\n",
      "Wall time: 25.1 s\n"
     ]
    },
    {
     "data": {
      "text/plain": [
       "[array([20,  8, 16,  1,  8,  6, 14, 18,  1, 11,  2, 14,  9, 17,  9,  1,  6,\n",
       "         7, 10, 18,  3, 13, 13,  9,  1,  6,  9, 17, 10,  8, 12, 17,  4, 11,\n",
       "         8,  7, 12, 17, 11,  6,  7,  4,  8, 12,  8, 18,  1, 10, 19,  6,  4,\n",
       "        15,  6, 15,  4,  8,  9, 19,  4,  2,  6,  3, 10, 13,  4,  1,  4, 18,\n",
       "        11,  3,  9, 18,  8, 11, 18,  9,  1, 13,  1,  3, 15, 16, 13, 15,  4,\n",
       "        14, 18,  1,  1,  3,  0, 19,  1, 17,  1,  8,  6,  4, 20,  5,  7, 18,\n",
       "         9,  3,  4, 11, 18, 11,  1,  5,  9, 19,  1,  8, 12,  6,  0,  4, 15,\n",
       "         8, 14, 16,  0,  0,  0,  0,  0, 11,  4,  4, 16, 13,  6, 15, 18,  6,\n",
       "         5, 13,  1, 16, 18,  5, 17, 10, 18, 17,  5,  8, 20,  9, 15, 16,  1,\n",
       "         3, 16,  4,  0,  3,  9,  6, 16, 10, 19, 12, 10, 20, 19,  8, 16, 18,\n",
       "         8,  0,  6, 16, 10,  1,  3, 15, 13,  1,  4,  4,  9,  4, 20,  6,  9,\n",
       "         2, 11, 14, 10, 18,  9,  4, 15, 16, 10,  0,  0,  9,  9,  7,  2, 14,\n",
       "         9,  8,  0,  7,  6,  0, 11,  0,  5]),\n",
       " array([ 7,  4,  6,  6, 12, 16,  3, 14, 14, 17,  4,  9,  5, 10,  0,  6, 14,\n",
       "         9, 17,  9,  6, 11,  7, 17, 13,  1,  2, 20,  0, 10,  4, 12,  9, 12,\n",
       "         2, 15, 17,  1,  4, 10, 18, 17,  9, 16,  5, 12,  4, 14,  5, 18,  0,\n",
       "         7, 14, 11,  6, 15, 16,  1,  4, 20, 19, 20, 11,  8,  3, 19,  8,  3,\n",
       "        15,  9, 20,  3,  1,  2, 12, 16, 11,  1, 13, 20, 13,  6, 18, 10, 20,\n",
       "         6,  9,  7, 17,  2,  2, 16,  4,  8,  4,  6, 18,  1,  5, 13, 15, 18,\n",
       "         3,  6,  4,  9, 10,  0,  4, 18,  1,  4, 13, 10,  3,  2,  5, 13, 13,\n",
       "         6, 17,  1,  0, 11,  1,  5, 12,  9,  7,  2,  4,  8, 14,  1, 15, 19,\n",
       "        13,  1, 11,  1, 14, 17,  6,  4,  0, 13, 14, 16,  3,  7, 14,  3,  2,\n",
       "         0,  6,  5, 18,  5, 16, 17, 20,  1, 19,  0,  5,  8,  4, 12, 18,  4,\n",
       "        10,  9, 20, 18,  3, 18, 14,  3,  6, 18, 20,  1, 18, 17, 19,  2, 18,\n",
       "        17, 10, 20, 10, 17,  9, 10, 15,  0, 17, 16, 17, 12, 10,  4, 16, 17,\n",
       "         6,  1, 12, 18,  2,  8, 15,  6, 10])]"
      ]
     },
     "execution_count": 62,
     "metadata": {},
     "output_type": "execute_result"
    }
   ],
   "source": [
    "%%time\n",
    "sample()"
   ]
  },
  {
   "cell_type": "code",
   "execution_count": 63,
   "metadata": {},
   "outputs": [
    {
     "name": "stdout",
     "output_type": "stream",
     "text": [
      "CPU times: user 449 ms, sys: 452 ms, total: 901 ms\n",
      "Wall time: 28.6 s\n"
     ]
    }
   ],
   "source": [
    "%%time\n",
    "results = Parallel(n_jobs=2)(delayed(sample)() for i in range(2))"
   ]
  },
  {
   "cell_type": "code",
   "execution_count": null,
   "metadata": {
    "collapsed": true
   },
   "outputs": [],
   "source": [
    "len(results)"
   ]
  }
 ],
 "metadata": {
  "kernelspec": {
   "display_name": "Python 3",
   "language": "python",
   "name": "python3"
  },
  "language_info": {
   "codemirror_mode": {
    "name": "ipython",
    "version": 3
   },
   "file_extension": ".py",
   "mimetype": "text/x-python",
   "name": "python",
   "nbconvert_exporter": "python",
   "pygments_lexer": "ipython3",
   "version": "3.5.6"
  }
 },
 "nbformat": 4,
 "nbformat_minor": 2
}
