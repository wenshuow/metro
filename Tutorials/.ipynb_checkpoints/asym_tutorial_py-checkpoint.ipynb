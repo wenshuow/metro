{
 "cells": [
  {
   "cell_type": "markdown",
   "metadata": {},
   "source": [
    "# Asymmetric Markov Chain Tutorial\n",
    "This notebook demonstrates the knockoff construction for the asymmetric Markov Chain experiments. The data is generated as follows. Let\n",
    "$$\n",
    "Z_j\\stackrel{i.i.d.}{\\sim} \\frac{I\\cdot \\mid  Y_\\text{G} \\mid  -(1-I)\\cdot Y_\\text{E}- \\mu}{\\sigma} \\ \\text{ for } j=1,\\dots,p,\n",
    "$$\n",
    "where $\\mu$ and $\\sigma$ are chosen so that the variables are centered with unit variance, and then define\n",
    "$$\n",
    "X_1=Z_1, \\quad X_{j+1}=\\rho_j X_j + \\sqrt{1-\\rho_j^2}Z_{j+1} \\ \\text{ for } j=2,\\dots,p.\n",
    "$$\n",
    "Section 5.2.2 of the accompanying paper presents a large set of simulation results in this setting."
   ]
  },
  {
   "cell_type": "markdown",
   "metadata": {},
   "source": [
    "## Multiple-try Metropolis\n",
    "\n",
    "We demonstrate the Multiple-try Metropolis (Section 3.3 of the paper) proposals below."
   ]
  },
  {
   "cell_type": "code",
   "execution_count": 1,
   "metadata": {
    "collapsed": false,
    "scrolled": true
   },
   "outputs": [],
   "source": [
    "import math\n",
    "import numpy as np\n",
    "import scipy\n",
    "import time\n",
    "import matplotlib.pyplot as plt\n",
    "import seaborn as sns\n",
    "\n",
    "%run ../asymmetric/asym_core"
   ]
  },
  {
   "cell_type": "code",
   "execution_count": 2,
   "metadata": {
    "collapsed": true
   },
   "outputs": [],
   "source": [
    "#simulation parameters\n",
    "p = 30 # dimension of the random vector X\n",
    "numsamples = 500 # number of samples to generate knockoffs for\n",
    "rhos = [0.6]*(p-1) # the correlations\n",
    "\n",
    "#algorithm parameters\n",
    "halfnumtry = 2 # m/half number of candidates\n",
    "stepsize = 1.5 # step size in the unit of 1/\\sqrt((\\Sigma)^{-1}_{jj})\n",
    "\n",
    "#distributional constants\n",
    "asymean = 1/math.sqrt(2*math.pi) - 1/2\n",
    "variance = 1.5 - (1/math.sqrt(2*math.pi)- 1/2)**2 "
   ]
  },
  {
   "cell_type": "markdown",
   "metadata": {},
   "source": [
    "We first compute the proposal scaling for each variable. Recall that the recommended scaling for the proposal for variable $j$ is $1.5 / \\sqrt{(\\Sigma^{-1})_{jj}}$ (Section 3.3 of the paper)."
   ]
  },
  {
   "cell_type": "code",
   "execution_count": 3,
   "metadata": {
    "collapsed": true
   },
   "outputs": [],
   "source": [
    "#generate the proposal grid\n",
    "quantile_x = np.zeros([p, 2*halfnumtry + 1])\n",
    "sds = [0]*p\n",
    "sds[0] = math.sqrt(1 - rhos[0]**2)\n",
    "for i in range(1,p - 1):\n",
    "    sds[i] = math.sqrt((1 - rhos[i - 1]**2)*(1 - rhos[i]**2) /\n",
    "                       (1 - rhos[i - 1]**2*rhos[i]**2))\n",
    "sds[p - 1] = math.sqrt(1 - rhos[p - 2]**2)\n",
    "for i in range(p):\n",
    "    quantile_x[i] = [x*sds[i]*stepsize for x in list(\n",
    "        range(-halfnumtry, halfnumtry + 1))]"
   ]
  },
  {
   "cell_type": "markdown",
   "metadata": {},
   "source": [
    "Next, we sample observations from the Markov Chain and generate knockoffs with the MTM technique using the `SCEP_MH_MC` function."
   ]
  },
  {
   "cell_type": "code",
   "execution_count": 4,
   "metadata": {
    "collapsed": false
   },
   "outputs": [
    {
     "name": "stdout",
     "output_type": "stream",
     "text": [
      "Average time per observation + knockoff (seconds): 0.052\n"
     ]
    },
    {
     "data": {
      "text/plain": [
       "(500, 60)"
      ]
     },
     "execution_count": 4,
     "metadata": {},
     "output_type": "execute_result"
    }
   ],
   "source": [
    "bigmatrix = np.zeros([numsamples,2*p]) #store simulation data\n",
    "\n",
    "#generate each observation and knockoff\n",
    "start = time.time()\n",
    "for i in range(numsamples):\n",
    "    #sample one instance from the Markov Chain\n",
    "    if np.random.uniform() >= 0.5:\n",
    "            bigmatrix[i, 0] = (abs(np.random.normal()) - asymean) / \\\n",
    "                math.sqrt(variance)\n",
    "    else:\n",
    "        bigmatrix[i, 0] = (log(np.random.uniform()) - asymean) / \\\n",
    "            math.sqrt(variance) \n",
    "        # log(np.random.uniform()) is a negative exponential \n",
    "    for j in range(1, p):\n",
    "        if np.random.uniform() >= 0.5:\n",
    "            bigmatrix[i,j] = ((abs(np.random.normal()) - asymean)/  \n",
    "                              math.sqrt(variance)) * \\\n",
    "                math.sqrt(1 - rhos[j - 1]**2) + rhos[j - 1] * \\\n",
    "                bigmatrix[i,j - 1]\n",
    "        else:\n",
    "            bigmatrix[i, j] =  ((log(np.random.uniform())-asymean)/ \n",
    "                                math.sqrt(variance)) * \\\n",
    "                math.sqrt(1- rhos[j - 1]**2) + rhos[j - 1] * \\\n",
    "                bigmatrix[i, j - 1]\n",
    "    \n",
    "    #generate a knockoff for the observation\n",
    "    bigmatrix[i, p:(2*p)] = SCEP_MH_MC(bigmatrix[i, 0:p], 0.999, \n",
    "                                       quantile_x, rhos)\n",
    "    \n",
    "end = time.time()\n",
    "\n",
    "print(\"Average time per observation + knockoff (seconds): \" + \\\n",
    "      '%.3f'%((end - start) / numsamples))    \n",
    "    \n",
    "np.shape(bigmatrix)"
   ]
  },
  {
   "cell_type": "markdown",
   "metadata": {},
   "source": [
    "#### Knockoff quality\n",
    "\n",
    "We can compute the mean correlation between $X_j$ and $\\tilde{X}_j$ to measure the knockoff quality:"
   ]
  },
  {
   "cell_type": "code",
   "execution_count": 5,
   "metadata": {
    "collapsed": false
   },
   "outputs": [
    {
     "data": {
      "text/plain": [
       "0.5943434999010481"
      ]
     },
     "execution_count": 5,
     "metadata": {},
     "output_type": "execute_result"
    }
   ],
   "source": [
    "cors = []\n",
    "for j in range(p):\n",
    "    cors += [np.corrcoef(bigmatrix[:, j], bigmatrix[:, j + p])[0, 1]]\n",
    "np.mean(cors)                    "
   ]
  },
  {
   "cell_type": "markdown",
   "metadata": {},
   "source": [
    "We can also plot the correlation between $X_j$ and $\\tilde{X}_j$ across different coordinates:"
   ]
  },
  {
   "cell_type": "code",
   "execution_count": 6,
   "metadata": {
    "collapsed": false
   },
   "outputs": [
    {
     "data": {
      "image/png": "[encoded data removed]",
      "text/plain": [
       "<Figure size 432x288 with 1 Axes>"
      ]
     },
     "metadata": {
      "needs_background": "light"
     },
     "output_type": "display_data"
    }
   ],
   "source": [
    "plt.scatter(range(p), cors)\n",
    "plt.rc('text', usetex=True)\n",
    "plt.rc('font', family='serif')\n",
    "plt.ylim(0,1)\n",
    "plt.ylabel(r\"cor$(X_j, \\tilde{X_j})$\")\n",
    "plt.xlabel(\"variable index\")\n",
    "plt.show()"
   ]
  },
  {
   "cell_type": "markdown",
   "metadata": {},
   "source": [
    "We see that the first and last knockoff have higher quality, since these variables only depend on one other variable."
   ]
  },
  {
   "cell_type": "markdown",
   "metadata": {},
   "source": [
    "#### Diagnostics: checking means and covariances\n",
    "\n",
    "As a basic diagnostic, we check that each coordinate is mean zero and the the empirical covariance matrices of $X$ and $\\tilde{X}$ are close. As the number of samples increases, the empirical covariance of $X$ and $\\tilde{X}$ will converge to the same population covariance."
   ]
  },
  {
   "cell_type": "code",
   "execution_count": 7,
   "metadata": {
    "collapsed": false
   },
   "outputs": [
    {
     "name": "stdout",
     "output_type": "stream",
     "text": [
      "0.09066885539668741\n",
      "0.11862727099253806\n"
     ]
    }
   ],
   "source": [
    "#largest mean of the columns of X\n",
    "print(np.max(np.abs(np.mean(bigmatrix[:, 0:p], axis = 0))))\n",
    "#largest mean of the columns of Xk\n",
    "print(np.max(np.abs(np.mean(bigmatrix[:, p:(2*p)], axis = 0))))"
   ]
  },
  {
   "cell_type": "code",
   "execution_count": 8,
   "metadata": {
    "collapsed": false
   },
   "outputs": [
    {
     "data": {
      "text/plain": [
       "0.15327635688749158"
      ]
     },
     "execution_count": 8,
     "metadata": {},
     "output_type": "execute_result"
    }
   ],
   "source": [
    "#empirical correlation matrices\n",
    "S = np.corrcoef(bigmatrix[:, 0:p].T)\n",
    "Sk = np.corrcoef(bigmatrix[:, p:(2*p)].T)\n",
    "\n",
    "#largest difference in population correlation\n",
    "np.max(np.abs(S - Sk))"
   ]
  },
  {
   "cell_type": "markdown",
   "metadata": {},
   "source": [
    "We can visualize the difference in the empirical covariance matrices of $X$ and $\\tilde{X}$ with a heatmap."
   ]
  },
  {
   "cell_type": "code",
   "execution_count": 9,
   "metadata": {
    "collapsed": false
   },
   "outputs": [
    {
     "data": {
      "image/png": "[encoded data removed]",
      "text/plain": [
       "<Figure size 432x288 with 2 Axes>"
      ]
     },
     "metadata": {
      "needs_background": "light"
     },
     "output_type": "display_data"
    }
   ],
   "source": [
    "S = np.corrcoef(bigmatrix[:, 0:p].T)\n",
    "Sk = np.corrcoef(bigmatrix[:, p:(2*p)].T)\n",
    "ax = sns.heatmap(S - Sk, vmin = -1, vmax = 1, cmap=\"coolwarm\")"
   ]
  },
  {
   "cell_type": "markdown",
   "metadata": {},
   "source": [
    "We see that the difference in the empirical correlation matrix of $X$ and the empirical correlation matrix of $\\tilde{X}$ are small, as expected, since $X$ and $\\tilde{X}$ come from the same distribution."
   ]
  },
  {
   "cell_type": "markdown",
   "metadata": {},
   "source": [
    "## Covariance-guided proposals\n",
    "\n",
    "We can also generate knockoffs with the covariance-guided proposals (Section 3.2 of the paper) with the `SCEP_MH_COV` function. These proposals are motivated by a Gaussian approximation (indeed, they are optimal for Gaussian distributions), but they produce *exact* knockoffs because of the Metropolis--Hastings correction."
   ]
  },
  {
   "cell_type": "code",
   "execution_count": 10,
   "metadata": {
    "collapsed": false
   },
   "outputs": [
    {
     "name": "stdout",
     "output_type": "stream",
     "text": [
      "     pcost       dcost       gap    pres   dres   k/t\n",
      " 0: -3.0000e+01 -1.5000e+02  3e+02  9e-01  1e+00  1e+00\n",
      " 1: -2.4222e+01 -4.8476e+01  3e+01  2e-01  3e-01  4e-01\n",
      " 2: -2.1826e+01 -4.4226e+01  3e+01  2e-01  3e-01  4e-01\n",
      " 3: -1.5998e+01 -1.9659e+01  5e+00  3e-02  4e-02  7e-02\n",
      " 4: -1.5878e+01 -1.6094e+01  3e-01  2e-03  2e-03  4e-03\n",
      " 5: -1.5835e+01 -1.5916e+01  1e-01  6e-04  9e-04  2e-03\n",
      " 6: -1.5814e+01 -1.5819e+01  6e-03  4e-05  6e-05  1e-04\n",
      " 7: -1.5813e+01 -1.5813e+01  4e-04  2e-06  3e-06  6e-06\n",
      " 8: -1.5813e+01 -1.5813e+01  1e-04  6e-07  1e-06  1e-06\n",
      " 9: -1.5813e+01 -1.5813e+01  2e-06  1e-08  2e-08  3e-08\n",
      "Optimal solution found.\n",
      "0.4729166501155525\n"
     ]
    }
   ],
   "source": [
    "# solve the sdp to find the \n",
    "# optimal proposal parameters\n",
    "param_list = compute_proposals(rhos) "
   ]
  },
  {
   "cell_type": "code",
   "execution_count": 11,
   "metadata": {
    "collapsed": false
   },
   "outputs": [
    {
     "name": "stdout",
     "output_type": "stream",
     "text": [
      "Average time per observation + knockoff (seconds): 0.006\n"
     ]
    },
    {
     "data": {
      "text/plain": [
       "(500, 60)"
      ]
     },
     "execution_count": 11,
     "metadata": {},
     "output_type": "execute_result"
    }
   ],
   "source": [
    "bigmatrix_cov = bigmatrix.copy() #use the samples from MTM\n",
    "\n",
    "#generate the covariance-guided knockoffs\n",
    "start = time.time()\n",
    "for i in range(numsamples):   \n",
    "    #generate a knockoff for the observation\n",
    "    bigmatrix_cov[i, p:(2*p)] = SCEP_MH_COV(bigmatrix_cov[i, 0:p], 0.999, \n",
    "                                       np.zeros(p), rhos, param_list)\n",
    "end = time.time()\n",
    "\n",
    "print(\"Average time per observation + knockoff (seconds): \" + \\\n",
    "      '%.3f'%((end - start) / numsamples))    \n",
    "    \n",
    "np.shape(bigmatrix_cov)"
   ]
  },
  {
   "cell_type": "markdown",
   "metadata": {},
   "source": [
    "#### Knockoff quality\n",
    "\n",
    "We can compute the mean correlation between $X_j$ and $\\tilde{X}_j$ to measure the knockoff quality:"
   ]
  },
  {
   "cell_type": "code",
   "execution_count": 12,
   "metadata": {
    "collapsed": false
   },
   "outputs": [
    {
     "data": {
      "text/plain": [
       "0.5943434999010481"
      ]
     },
     "execution_count": 12,
     "metadata": {},
     "output_type": "execute_result"
    }
   ],
   "source": [
    "cors = []\n",
    "for j in range(p):\n",
    "    cors += [np.corrcoef(bigmatrix_cov[:, j], bigmatrix_cov[:, j + p])[0, 1]]\n",
    "np.mean(cors)                    "
   ]
  },
  {
   "cell_type": "markdown",
   "metadata": {},
   "source": [
    "We find that the covariance-guided knockoffs have similar MAC to the MTM knockoffs from above.\n",
    "\n",
    "We can also plot the correlation between $X_j$ and $\\tilde{X}_j$ across different coordinates:"
   ]
  },
  {
   "cell_type": "code",
   "execution_count": 13,
   "metadata": {
    "collapsed": false
   },
   "outputs": [
    {
     "data": {
      "image/png": "[encoded data removed]",
      "text/plain": [
       "<Figure size 432x288 with 1 Axes>"
      ]
     },
     "metadata": {
      "needs_background": "light"
     },
     "output_type": "display_data"
    }
   ],
   "source": [
    "plt.scatter(range(p), cors)\n",
    "plt.rc('text', usetex=True)\n",
    "plt.rc('font', family='serif')\n",
    "plt.ylim(0,1)\n",
    "plt.ylabel(r\"cor$(X_j, \\tilde{X_j})$\")\n",
    "plt.xlabel(\"variable index\")\n",
    "plt.show()"
   ]
  },
  {
   "cell_type": "markdown",
   "metadata": {},
   "source": [
    "We see that the first and last knockoff have higher quality, since these variables only depend on one other variable."
   ]
  },
  {
   "cell_type": "markdown",
   "metadata": {},
   "source": [
    "#### Diagnostics: checking means and covariances\n",
    "\n",
    "As a basic diagnostic, we check that each coordinate is mean zero and the the empirical covariance matrices of $X$ and $\\tilde{X}$ are close. As the number of samples increases, the empirical covariance of $X$ and $\\tilde{X}$ will converge to the same population covariance."
   ]
  },
  {
   "cell_type": "code",
   "execution_count": 14,
   "metadata": {
    "collapsed": false
   },
   "outputs": [
    {
     "name": "stdout",
     "output_type": "stream",
     "text": [
      "0.09066885539668741\n",
      "0.11862727099253806\n"
     ]
    }
   ],
   "source": [
    "#largest mean of the columns of X\n",
    "print(np.max(np.abs(np.mean(bigmatrix_cov[:, 0:p], axis = 0))))\n",
    "#largest mean of the columns of Xk\n",
    "print(np.max(np.abs(np.mean(bigmatrix_cov[:, p:(2*p)], axis = 0))))"
   ]
  },
  {
   "cell_type": "code",
   "execution_count": 15,
   "metadata": {
    "collapsed": false
   },
   "outputs": [
    {
     "data": {
      "text/plain": [
       "0.15327635688749158"
      ]
     },
     "execution_count": 15,
     "metadata": {},
     "output_type": "execute_result"
    }
   ],
   "source": [
    "#empirical correlation matrices\n",
    "S = np.corrcoef(bigmatrix_cov[:, 0:p].T)\n",
    "Sk = np.corrcoef(bigmatrix_cov[:, p:(2*p)].T)\n",
    "\n",
    "#largest difference in population correlation\n",
    "np.max(np.abs(S - Sk))"
   ]
  },
  {
   "cell_type": "markdown",
   "metadata": {},
   "source": [
    "We can visualize the difference in the empirical covariance matrices of $X$ and $\\tilde{X}$ with a heatmap."
   ]
  },
  {
   "cell_type": "code",
   "execution_count": 16,
   "metadata": {
    "collapsed": false,
    "scrolled": true
   },
   "outputs": [
    {
     "data": {
      "text/plain": [
       "<matplotlib.axes._subplots.AxesSubplot at 0x1a1e1ee828>"
      ]
     },
     "execution_count": 16,
     "metadata": {},
     "output_type": "execute_result"
    },
    {
     "data": {
      "image/png": "[encoded data removed]",
      "text/plain": [
       "<Figure size 432x288 with 2 Axes>"
      ]
     },
     "metadata": {
      "needs_background": "light"
     },
     "output_type": "display_data"
    }
   ],
   "source": [
    "S = np.corrcoef(bigmatrix_cov[:, 0:p].T)\n",
    "Sk = np.corrcoef(bigmatrix_cov[:, p:(2*p)].T)\n",
    "sns.heatmap(S - Sk, vmin = -1, vmax = 1, cmap=\"coolwarm\")"
   ]
  },
  {
   "cell_type": "markdown",
   "metadata": {},
   "source": [
    "We see that the difference in the empirical correlation matrix of $X$ and the empirical correlation matrix of $\\tilde{X}$ are small, as expected, since $X$ and $\\tilde{X}$ come from the same distribution."
   ]
  }
 ],
 "metadata": {
  "kernelspec": {
   "display_name": "Python 3",
   "language": "python",
   "name": "python3"
  },
  "language_info": {
   "codemirror_mode": {
    "name": "ipython",
    "version": 3
   },
   "file_extension": ".py",
   "mimetype": "text/x-python",
   "name": "python",
   "nbconvert_exporter": "python",
   "pygments_lexer": "ipython3",
   "version": "3.6.8"
  }
 },
 "nbformat": 4,
 "nbformat_minor": 2
}
