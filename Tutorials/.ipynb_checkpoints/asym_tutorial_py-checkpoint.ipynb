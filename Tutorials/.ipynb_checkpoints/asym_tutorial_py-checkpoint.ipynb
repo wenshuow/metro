{
 "cells": [
  {
   "cell_type": "markdown",
   "metadata": {},
   "source": [
    "# Assymetric Markov Chain Tutorial\n",
    "This notebook demonstrates the knockoff construction for the assymetric Markov Chain experiments. The data is generated as follows. Let\n",
    "$$\n",
    "Z_j\\stackrel{i.i.d.}{\\sim} \\frac{I\\cdot \\mid  Y_\\text{G} \\mid  -(1-I)\\cdot Y_\\text{E}- \\mu}{\\sigma} \\ \\text{ for } j=1,\\dots,p,\n",
    "$$\n",
    "where $\\mu$ and $\\sigma$ are chosen so that the variables are centered with unit variance, and then define\n",
    "$$\n",
    "X_1=Z_1, \\quad X_{j+1}=\\rho_j X_j + \\sqrt{1-\\rho_j^2}Z_{j+1} \\ \\text{ for } j=2,\\dots,p.\n",
    "$$\n"
   ]
  },
  {
   "cell_type": "markdown",
   "metadata": {},
   "source": [
    "## Multiple-try Metropolis\n",
    "\n",
    "We demonstrate the Multiple-try Metropolis proposals below."
   ]
  },
  {
   "cell_type": "code",
   "execution_count": 1,
   "metadata": {
    "collapsed": false,
    "scrolled": true
   },
   "outputs": [],
   "source": [
    "import math\n",
    "import numpy as np\n",
    "import scipy\n",
    "from cvxopt import matrix, solvers\n",
    "#from pydsdp.dsdp5 import dsdp\n",
    "\n",
    "%run ../asymmetric/asym_core"
   ]
  },
  {
   "cell_type": "code",
   "execution_count": 2,
   "metadata": {
    "collapsed": true
   },
   "outputs": [],
   "source": [
    "#simulation parameters\n",
    "p = 50 # dimension of the random vector X\n",
    "numsamples = 100 # number of samples to generate knockoffs for\n",
    "rhos = [0.6]*(p-1) # the correlations\n",
    "\n",
    "#algorithm parameters\n",
    "halfnumtry = 2 # m/half number of candidates\n",
    "stepsize = 1.5 # step size in the unit of 1/\\sqrt((\\Sigma)^{-1}_{jj})\n",
    "\n",
    "#distributional constants\n",
    "asymean = 1/math.sqrt(2*math.pi) - 1/2\n",
    "variance = 1.5 - (1/math.sqrt(2*math.pi)- 1/2)**2 "
   ]
  },
  {
   "cell_type": "markdown",
   "metadata": {},
   "source": [
    "We first compute the proposal scaling for each variable. Recall that the recommended scaling for the proposal for variable $j$ is $\\sqrt{(\\Sigma^{-1})_{jj}}$."
   ]
  },
  {
   "cell_type": "code",
   "execution_count": 3,
   "metadata": {
    "collapsed": true
   },
   "outputs": [],
   "source": [
    "#generate the proposal grid\n",
    "quantile_x = np.zeros([p,2*halfnumtry+1])\n",
    "sds = [0]*p\n",
    "sds[0] = math.sqrt(1-rhos[0]**2)\n",
    "for i in range(1,p-1):\n",
    "    sds[i] = math.sqrt((1 - rhos[i - 1]**2)*(1 - rhos[i]**2) /\n",
    "                       (1 - rhos[i - 1]**2*rhos[i]**2))\n",
    "sds[p - 1] = math.sqrt(1 - rhos[p - 2]**2)\n",
    "for i in range(p):\n",
    "    quantile_x[i] = [x*sds[i]*stepsize for x in list(\n",
    "        range(-halfnumtry, halfnumtry + 1))]"
   ]
  },
  {
   "cell_type": "markdown",
   "metadata": {},
   "source": [
    "Next, we sample observations from the Markov Chain and generate knockoffs with the MTM technique."
   ]
  },
  {
   "cell_type": "code",
   "execution_count": 4,
   "metadata": {
    "collapsed": false
   },
   "outputs": [
    {
     "data": {
      "text/plain": [
       "(100, 100)"
      ]
     },
     "execution_count": 4,
     "metadata": {},
     "output_type": "execute_result"
    }
   ],
   "source": [
    "bigmatrix = np.zeros([numsamples,2*p]) #store simulation data\n",
    "for i in range(numsamples):\n",
    "    #sample the Markov Chain\n",
    "    if np.random.uniform() >= 0.5:\n",
    "            bigmatrix[i, 0] = (abs(np.random.normal()) - asymean) / \\\n",
    "                math.sqrt(variance)\n",
    "    else:\n",
    "        bigmatrix[i, 0] = (log(np.random.uniform()) - asymean) / \\\n",
    "            math.sqrt(variance) \n",
    "        # log(np.random.uniform()) is a negative exponential \n",
    "    for j in range(1, p):\n",
    "        if np.random.uniform() >= 0.5:\n",
    "            bigmatrix[i,j] = ((abs(np.random.normal()) - asymean)/  \n",
    "                              math.sqrt(variance)) * \\\n",
    "                math.sqrt(1 - rhos[j - 1]**2) + rhos[j - 1] * \\\n",
    "                bigmatrix[i,j - 1]\n",
    "        else:\n",
    "            bigmatrix[i, j] =  ((log(np.random.uniform())-asymean)/ \n",
    "                                math.sqrt(variance)) * \\\n",
    "                math.sqrt(1- rhos[j - 1]**2) + rhos[j - 1] * \\\n",
    "                bigmatrix[i, j - 1]\n",
    "    \n",
    "    #generate a knockoff\n",
    "    bigmatrix[i, p:(2*p)] = SCEP_MH_MC(bigmatrix[i, 0:p], 0.999, \n",
    "                                       quantile_x, rhos)\n",
    "    \n",
    "np.shape(bigmatrix)"
   ]
  },
  {
   "cell_type": "code",
   "execution_count": 5,
   "metadata": {
    "collapsed": false
   },
   "outputs": [
    {
     "data": {
      "text/plain": [
       "0.6221907533995499"
      ]
     },
     "execution_count": 5,
     "metadata": {},
     "output_type": "execute_result"
    }
   ],
   "source": [
    "cors = []\n",
    "for j in range(p):\n",
    "    cors += [np.corrcoef(bigmatrix[:, j], bigmatrix[:, j + p])[0, 1]]\n",
    "np.mean(cors)                    "
   ]
  }
 ],
 "metadata": {
  "kernelspec": {
   "display_name": "Python 3",
   "language": "python",
   "name": "python3"
  },
  "language_info": {
   "codemirror_mode": {
    "name": "ipython",
    "version": 3
   },
   "file_extension": ".py",
   "mimetype": "text/x-python",
   "name": "python",
   "nbconvert_exporter": "python",
   "pygments_lexer": "ipython3",
   "version": "3.6.8"
  }
 },
 "nbformat": 4,
 "nbformat_minor": 2
}
