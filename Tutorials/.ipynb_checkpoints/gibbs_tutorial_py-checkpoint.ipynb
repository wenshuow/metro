{
 "cells": [
  {
   "cell_type": "markdown",
   "metadata": {},
   "source": [
    "# Gibbs measure over a grid tutorial\n",
    "\n",
    "This notebook illustrates the knockoff construction for a Gibbs measure across a grid with probability mass function\n",
    "$$p(X) = \\frac{1}{Z(\\beta_0)} \\exp\\left(-\\beta_0\\sum_{\\substack{s, t \\in \\mathcal I \\\\\\|s-t\\|_1=1}}(x_s-x_t)^2 \\right),\\quad\\mathcal I = \\{(i_1,i_2) : 1\\le i_1,i_2 \\le d\\}.$$\n",
    "Each variable has support $\\{0,\\dots,K\\}$ where $K$ is a positive integer."
   ]
  },
  {
   "cell_type": "markdown",
   "metadata": {},
   "source": [
    "## Multiple-try Metropolis\n",
    "\n",
    "For large $K$, Multiple-try Metropolis gives the most efficient sampler for this class of distributions. We demonstrate this technique below."
   ]
  },
  {
   "cell_type": "code",
   "execution_count": 1,
   "metadata": {
    "collapsed": false
   },
   "outputs": [],
   "source": [
    "import math\n",
    "import numpy as np\n",
    "\n",
    "%run ../Gibbs-grid/Gibbs_MTM #load the Gibbs simulation functions"
   ]
  },
  {
   "cell_type": "code",
   "execution_count": 2,
   "metadata": {
    "collapsed": true
   },
   "outputs": [],
   "source": [
    "#simulation parameters\n",
    "d = 5\n",
    "p = d * d #total number of variables\n",
    "K = 5 # support size\n",
    "beta = 0.2 #interaction strength\n",
    "numsamples = 100\n",
    "\n",
    "#algorithm parameters\n",
    "N_gibbs = 100 #number of iterations for the initial Gibbs sampler\n",
    "gamma = .99 \n",
    "half_num_try = 1 #half the number of proposals\n",
    "step_size = 1 #propsal size\n",
    "max_width = 2 #slicing width"
   ]
  },
  {
   "cell_type": "markdown",
   "metadata": {},
   "source": [
    "We use a Gibbs sampler to generate samples from the model, and then generate a corresponding knockoff."
   ]
  },
  {
   "cell_type": "code",
   "execution_count": 3,
   "metadata": {
    "collapsed": false
   },
   "outputs": [
    {
     "data": {
      "text/plain": [
       "(100, 50)"
      ]
     },
     "execution_count": 3,
     "metadata": {},
     "output_type": "execute_result"
    }
   ],
   "source": [
    "bigmatrix = np.zeros([numsamples,2*p]) #store simulation results\n",
    "for i in range(numsamples):\n",
    "    x_obs = Gibbs_sampler(d, d, K, beta, N = N_gibbs)\n",
    "    xk = SCEP_MH_Gibbs_slice(k1 = d, k2 = d, K = K, \n",
    "        beta = beta, x_obs = x_obs,  gamma = gamma, \n",
    "        half_num_try = half_num_try, step_size = step_size, \n",
    "        max_width = max_width)\n",
    "    bigmatrix[i,:] = np.append(np.reshape(x_obs, p), np.reshape(xk, p))\n",
    "    \n",
    "np.shape(bigmatrix)"
   ]
  },
  {
   "cell_type": "markdown",
   "metadata": {},
   "source": [
    "We can evaluate the quality of these knocokffs by computing the average correlation between $X_{i,j}$ and $\\tilde{X}_{i,j}$."
   ]
  },
  {
   "cell_type": "code",
   "execution_count": 4,
   "metadata": {
    "collapsed": false
   },
   "outputs": [
    {
     "data": {
      "text/plain": [
       "0.7109167017670421"
      ]
     },
     "execution_count": 4,
     "metadata": {},
     "output_type": "execute_result"
    }
   ],
   "source": [
    "cors = []\n",
    "for j in range(p):\n",
    "    cors += [np.corrcoef(bigmatrix[:, j].T, \n",
    "                         bigmatrix[:, j + p].T)[0,1]]\n",
    "np.mean(cors)     "
   ]
  }
 ],
 "metadata": {
  "kernelspec": {
   "display_name": "Python 3",
   "language": "python",
   "name": "python3"
  },
  "language_info": {
   "codemirror_mode": {
    "name": "ipython",
    "version": 3
   },
   "file_extension": ".py",
   "mimetype": "text/x-python",
   "name": "python",
   "nbconvert_exporter": "python",
   "pygments_lexer": "ipython3",
   "version": "3.6.8"
  }
 },
 "nbformat": 4,
 "nbformat_minor": 2
}
