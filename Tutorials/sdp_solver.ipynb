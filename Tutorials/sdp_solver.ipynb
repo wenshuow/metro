{
 "cells": [
  {
   "cell_type": "code",
   "execution_count": 243,
   "metadata": {
    "collapsed": true
   },
   "outputs": [],
   "source": [
    "import numpy as np\n",
    "from cvxopt import matrix, solvers"
   ]
  },
  {
   "cell_type": "code",
   "execution_count": 244,
   "metadata": {
    "collapsed": true
   },
   "outputs": [],
   "source": [
    "p = 100\n",
    "rhos = .6 * np.ones(p)"
   ]
  },
  {
   "cell_type": "code",
   "execution_count": 252,
   "metadata": {
    "collapsed": true
   },
   "outputs": [],
   "source": [
    "cormatrix = np.ones([p,p])\n",
    "for i in range(p-1):\n",
    "    for j in range(i+1,p):\n",
    "        for k in range(i,j):\n",
    "            cormatrix[i,j] = cormatrix[i,j]*rhos[k]\n",
    "        cormatrix[j,i] = cormatrix[i,j]"
   ]
  },
  {
   "cell_type": "code",
   "execution_count": 263,
   "metadata": {
    "collapsed": false
   },
   "outputs": [],
   "source": [
    "p = np.shape(cormatrix)[1]\n",
    "c = -np.ones(p)\n",
    "Gs  = []\n",
    "Gs = np.zeros((p, p*p))\n",
    "for i in range(p):\n",
    "    Gs[i, i*p + i] = 1.0"
   ]
  },
  {
   "cell_type": "code",
   "execution_count": 264,
   "metadata": {
    "collapsed": false
   },
   "outputs": [
    {
     "name": "stdout",
     "output_type": "stream",
     "text": [
      "     pcost       dcost       gap    pres   dres   k/t\n",
      " 0: -1.0000e+02 -4.0000e+02  7e+02  7e-01  2e-16  1e+00\n",
      " 1: -6.4464e+01 -9.8955e+01  7e+01  8e-02  1e-15  3e-01\n",
      " 2: -5.3250e+01 -6.2294e+01  1e+01  2e-02  2e-15  1e-01\n",
      " 3: -5.1617e+01 -5.3047e+01  2e+00  4e-03  1e-15  2e-02\n",
      " 4: -5.1299e+01 -5.2177e+01  1e+00  2e-03  2e-15  9e-03\n",
      " 5: -5.0992e+01 -5.1104e+01  2e-01  3e-04  1e-15  1e-03\n",
      " 6: -5.0956e+01 -5.0995e+01  6e-02  1e-04  7e-16  3e-04\n",
      " 7: -5.0939e+01 -5.0942e+01  5e-03  8e-06  2e-15  3e-05\n",
      " 8: -5.0938e+01 -5.0938e+01  7e-04  1e-06  7e-16  4e-06\n",
      " 9: -5.0938e+01 -5.0938e+01  2e-05  4e-08  1e-15  1e-07\n",
      "Optimal solution found.\n"
     ]
    }
   ],
   "source": [
    "c = matrix(c)\n",
    "Gs = [matrix(Gs.T)]\n",
    "hs = [matrix(2 * cormatrix)]\n",
    "G0 = matrix(-(np.identity(p)))\n",
    "h0 = matrix(np.zeros(p))\n",
    "\n",
    "sol = solvers.sdp(c, Gl=G0, hl=h0, Gs=Gs, hs=hs)"
   ]
  },
  {
   "cell_type": "code",
   "execution_count": 265,
   "metadata": {
    "collapsed": false,
    "scrolled": true
   },
   "outputs": [
    {
     "data": {
      "text/plain": [
       "{'x': <100x1 matrix, tc='d'>,\n",
       " 'y': <0x1 matrix, tc='d'>,\n",
       " 'status': 'optimal',\n",
       " 'gap': 2.3501681552819787e-05,\n",
       " 'relative gap': 4.6138263695847093e-07,\n",
       " 'primal objective': -50.93750754850182,\n",
       " 'dual objective': -50.937523193812446,\n",
       " 'primal infeasibility': 3.826758058810077e-08,\n",
       " 'dual infeasibility': 1.2399909727238585e-15,\n",
       " 'primal slack': 2.7590806518155342e-09,\n",
       " 'dual slack': 1.1272993627082794e-08,\n",
       " 'residual as primal infeasibility certificate': None,\n",
       " 'residual as dual infeasibility certificate': None,\n",
       " 'iterations': 9,\n",
       " 'sl': <100x1 matrix, tc='d'>,\n",
       " 'ss': [<100x100 matrix, tc='d'>],\n",
       " 'zl': <100x1 matrix, tc='d'>,\n",
       " 'zs': [<100x100 matrix, tc='d'>]}"
      ]
     },
     "execution_count": 265,
     "metadata": {},
     "output_type": "execute_result"
    }
   ],
   "source": [
    "sol"
   ]
  },
  {
   "cell_type": "code",
   "execution_count": 266,
   "metadata": {
    "collapsed": false
   },
   "outputs": [
    {
     "data": {
      "text/plain": [
       "array([[1.42856251],\n",
       "       [0.62857376],\n",
       "       [0.94859589],\n",
       "       [0.82053385],\n",
       "       [0.87179142],\n",
       "       [0.8512767 ],\n",
       "       [0.85949334],\n",
       "       [0.85620401],\n",
       "       [0.85752074],\n",
       "       [0.85699359],\n",
       "       [0.85720416],\n",
       "       [0.85711973],\n",
       "       [0.85715323],\n",
       "       [0.85713973],\n",
       "       [0.85714501],\n",
       "       [0.85714281],\n",
       "       [0.85714357],\n",
       "       [0.85714314],\n",
       "       [0.85714319],\n",
       "       [0.85714306],\n",
       "       [0.857143  ],\n",
       "       [0.85714291],\n",
       "       [0.85714281],\n",
       "       [0.85714271],\n",
       "       [0.85714261],\n",
       "       [0.85714252],\n",
       "       [0.85714246],\n",
       "       [0.85714243],\n",
       "       [0.85714244],\n",
       "       [0.85714248],\n",
       "       [0.85714254],\n",
       "       [0.85714263],\n",
       "       [0.85714272],\n",
       "       [0.8571428 ],\n",
       "       [0.85714287],\n",
       "       [0.85714292],\n",
       "       [0.85714295],\n",
       "       [0.85714295],\n",
       "       [0.85714294],\n",
       "       [0.85714292],\n",
       "       [0.8571429 ],\n",
       "       [0.85714288],\n",
       "       [0.85714288],\n",
       "       [0.85714288],\n",
       "       [0.8571429 ],\n",
       "       [0.85714293],\n",
       "       [0.85714296],\n",
       "       [0.85714299],\n",
       "       [0.85714301],\n",
       "       [0.85714302],\n",
       "       [0.85714302],\n",
       "       [0.85714301],\n",
       "       [0.85714299],\n",
       "       [0.85714296],\n",
       "       [0.85714293],\n",
       "       [0.8571429 ],\n",
       "       [0.85714288],\n",
       "       [0.85714288],\n",
       "       [0.85714288],\n",
       "       [0.8571429 ],\n",
       "       [0.85714292],\n",
       "       [0.85714294],\n",
       "       [0.85714295],\n",
       "       [0.85714295],\n",
       "       [0.85714292],\n",
       "       [0.85714287],\n",
       "       [0.8571428 ],\n",
       "       [0.85714272],\n",
       "       [0.85714263],\n",
       "       [0.85714254],\n",
       "       [0.85714248],\n",
       "       [0.85714244],\n",
       "       [0.85714243],\n",
       "       [0.85714246],\n",
       "       [0.85714252],\n",
       "       [0.85714261],\n",
       "       [0.85714271],\n",
       "       [0.85714281],\n",
       "       [0.85714291],\n",
       "       [0.857143  ],\n",
       "       [0.85714306],\n",
       "       [0.85714319],\n",
       "       [0.85714314],\n",
       "       [0.85714357],\n",
       "       [0.85714281],\n",
       "       [0.85714501],\n",
       "       [0.85713973],\n",
       "       [0.85715323],\n",
       "       [0.85711973],\n",
       "       [0.85720416],\n",
       "       [0.85699359],\n",
       "       [0.85752074],\n",
       "       [0.85620401],\n",
       "       [0.85949334],\n",
       "       [0.8512767 ],\n",
       "       [0.87179142],\n",
       "       [0.82053385],\n",
       "       [0.94859589],\n",
       "       [0.62857376],\n",
       "       [1.42856251]])"
      ]
     },
     "execution_count": 266,
     "metadata": {},
     "output_type": "execute_result"
    }
   ],
   "source": [
    "x"
   ]
  },
  {
   "cell_type": "code",
   "execution_count": 53,
   "metadata": {
    "collapsed": false
   },
   "outputs": [
    {
     "data": {
      "text/plain": [
       "10000"
      ]
     },
     "execution_count": 53,
     "metadata": {},
     "output_type": "execute_result"
    }
   ],
   "source": [
    "len(Gs[0])"
   ]
  },
  {
   "cell_type": "code",
   "execution_count": 65,
   "metadata": {
    "collapsed": false
   },
   "outputs": [
    {
     "data": {
      "text/plain": [
       "<5x1 matrix, tc='d'>"
      ]
     },
     "execution_count": 65,
     "metadata": {},
     "output_type": "execute_result"
    }
   ],
   "source": [
    "matrix(np.ones(5))"
   ]
  },
  {
   "cell_type": "code",
   "execution_count": 303,
   "metadata": {
    "collapsed": false
   },
   "outputs": [],
   "source": [
    "def ar_cov_matrix(rhos):\n",
    "    p = np.shape(rhos)[0] + 1\n",
    "    cormatrix = np.ones([p,p])\n",
    "    for i in range(p-1):\n",
    "        for j in range(i+1,p):\n",
    "            for k in range(i,j):\n",
    "                cormatrix[i,j] = cormatrix[i,j]*rhos[k]\n",
    "            cormatrix[j,i] = cormatrix[i,j]\n",
    "\n",
    "    return cormatrix\n",
    "\n",
    "# solves the SDP\n",
    "def sdp_solver(cormatrix):\n",
    "    p = np.shape(cormatrix)[0]\n",
    "    c = -np.ones(p)\n",
    "    \n",
    "    G1 = np.zeros((p, p*p))\n",
    "    for i in range(p):\n",
    "        G1[i, i*p + i] = 1.0\n",
    "\n",
    "    c = matrix(c)\n",
    "    Gs = [matrix(G1.T)] + [matrix(G1.T)]\n",
    "    hs = [matrix(2 * cormatrix)] + [matrix(np.identity(p))]\n",
    "    G0 = matrix(-(np.identity(p)))\n",
    "    h0 = matrix(np.zeros(p))\n",
    "\n",
    "    sol = solvers.sdp(c, G0, h0, Gs, hs)\n",
    "    return np.array(sol['x'])"
   ]
  },
  {
   "cell_type": "code",
   "execution_count": 336,
   "metadata": {
    "collapsed": false
   },
   "outputs": [],
   "source": [
    "rhos = .8*np.random.uniform(low=-1, high=1, size=199)"
   ]
  },
  {
   "cell_type": "code",
   "execution_count": 337,
   "metadata": {
    "collapsed": true
   },
   "outputs": [],
   "source": [
    "S = ar_cov_matrix(rhos)"
   ]
  },
  {
   "cell_type": "code",
   "execution_count": 338,
   "metadata": {
    "collapsed": false
   },
   "outputs": [
    {
     "data": {
      "text/plain": [
       "(200, 200)"
      ]
     },
     "execution_count": 338,
     "metadata": {},
     "output_type": "execute_result"
    }
   ],
   "source": [
    "np.shape(S)"
   ]
  },
  {
   "cell_type": "code",
   "execution_count": 339,
   "metadata": {
    "collapsed": false
   },
   "outputs": [
    {
     "name": "stdout",
     "output_type": "stream",
     "text": [
      "     pcost       dcost       gap    pres   dres   k/t\n",
      " 0: -2.0000e+02 -1.0000e+03  2e+03  1e+00  1e+00  1e+00\n",
      " 1: -1.7493e+02 -3.0319e+02  2e+02  2e-01  2e-01  7e-01\n",
      " 2: -1.6093e+02 -2.3877e+02  1e+02  1e-01  1e-01  4e-01\n",
      " 3: -1.5380e+02 -1.6879e+02  2e+01  2e-02  3e-02  7e-02\n",
      " 4: -1.5254e+02 -1.6116e+02  1e+01  1e-02  1e-02  3e-02\n",
      " 5: -1.5140e+02 -1.5335e+02  2e+00  3e-03  3e-03  7e-03\n",
      " 6: -1.5124e+02 -1.5256e+02  2e+00  2e-03  2e-03  4e-03\n",
      " 7: -1.5101e+02 -1.5125e+02  3e-01  3e-04  4e-04  7e-04\n",
      " 8: -1.5099e+02 -1.5115e+02  2e-01  2e-04  3e-04  4e-04\n",
      " 9: -1.5096e+02 -1.5098e+02  3e-02  3e-05  4e-05  6e-05\n",
      "10: -1.5096e+02 -1.5097e+02  1e-02  1e-05  2e-05  2e-05\n",
      "11: -1.5096e+02 -1.5096e+02  2e-03  2e-06  2e-06  3e-06\n",
      "12: -1.5096e+02 -1.5096e+02  2e-04  2e-07  3e-07  3e-07\n",
      "13: -1.5096e+02 -1.5096e+02  7e-06  8e-09  1e-08  1e-08\n",
      "Optimal solution found.\n"
     ]
    }
   ],
   "source": [
    "s = sdp_solver(S)"
   ]
  },
  {
   "cell_type": "code",
   "execution_count": 342,
   "metadata": {
    "collapsed": false
   },
   "outputs": [
    {
     "data": {
      "text/plain": [
       "0.2452183338616507"
      ]
     },
     "execution_count": 342,
     "metadata": {},
     "output_type": "execute_result"
    }
   ],
   "source": [
    "1 - np.mean(s)"
   ]
  },
  {
   "cell_type": "code",
   "execution_count": null,
   "metadata": {
    "collapsed": true
   },
   "outputs": [],
   "source": []
  },
  {
   "cell_type": "code",
   "execution_count": null,
   "metadata": {
    "collapsed": true
   },
   "outputs": [],
   "source": []
  },
  {
   "cell_type": "code",
   "execution_count": 288,
   "metadata": {
    "collapsed": false
   },
   "outputs": [
    {
     "name": "stdout",
     "output_type": "stream",
     "text": [
      "     pcost       dcost       gap    pres   dres   k/t\n",
      " 0: -1.0000e+02 -4.0000e+02  7e+02  7e-01  2e-16  1e+00\n",
      " 1: -6.4464e+01 -9.8955e+01  7e+01  8e-02  1e-15  3e-01\n",
      " 2: -5.3250e+01 -6.2294e+01  1e+01  2e-02  1e-15  1e-01\n",
      " 3: -5.1617e+01 -5.3047e+01  2e+00  4e-03  1e-15  2e-02\n",
      " 4: -5.1299e+01 -5.2177e+01  1e+00  2e-03  1e-15  9e-03\n",
      " 5: -5.0992e+01 -5.1104e+01  2e-01  3e-04  2e-15  1e-03\n",
      " 6: -5.0956e+01 -5.0995e+01  6e-02  1e-04  2e-15  3e-04\n",
      " 7: -5.0939e+01 -5.0942e+01  5e-03  8e-06  1e-15  3e-05\n",
      " 8: -5.0938e+01 -5.0938e+01  7e-04  1e-06  2e-15  4e-06\n",
      " 9: -5.0938e+01 -5.0938e+01  2e-05  4e-08  1e-15  1e-07\n",
      "Optimal solution found.\n"
     ]
    }
   ],
   "source": [
    "a = solvers.sdp(c, G0, h0, Gs, hs)"
   ]
  },
  {
   "cell_type": "code",
   "execution_count": 289,
   "metadata": {
    "collapsed": false,
    "scrolled": true
   },
   "outputs": [
    {
     "data": {
      "text/plain": [
       "<100x1 matrix, tc='d'>"
      ]
     },
     "execution_count": 289,
     "metadata": {},
     "output_type": "execute_result"
    }
   ],
   "source": [
    "a['x']"
   ]
  }
 ],
 "metadata": {
  "kernelspec": {
   "display_name": "Python 3",
   "language": "python",
   "name": "python3"
  },
  "language_info": {
   "codemirror_mode": {
    "name": "ipython",
    "version": 3
   },
   "file_extension": ".py",
   "mimetype": "text/x-python",
   "name": "python",
   "nbconvert_exporter": "python",
   "pygments_lexer": "ipython3",
   "version": "3.6.8"
  }
 },
 "nbformat": 4,
 "nbformat_minor": 2
}
