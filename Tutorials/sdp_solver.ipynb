{
 "cells": [
  {
   "cell_type": "code",
   "execution_count": 215,
   "metadata": {
    "collapsed": true
   },
   "outputs": [],
   "source": [
    "import numpy as np\n",
    "from cvxopt import matrix, solvers"
   ]
  },
  {
   "cell_type": "code",
   "execution_count": 209,
   "metadata": {
    "collapsed": true
   },
   "outputs": [],
   "source": [
    "p = 100\n",
    "rhos = .6 * np.ones(p)"
   ]
  },
  {
   "cell_type": "code",
   "execution_count": 210,
   "metadata": {
    "collapsed": true
   },
   "outputs": [],
   "source": [
    "cormatrix = np.ones([p,p])\n",
    "for i in range(p-1):\n",
    "    for j in range(i+1,p):\n",
    "        for k in range(i,j):\n",
    "            cormatrix[i,j] = cormatrix[i,j]*rhos[k]\n",
    "        cormatrix[j,i] = cormatrix[i,j]"
   ]
  },
  {
   "cell_type": "code",
   "execution_count": 211,
   "metadata": {
    "collapsed": false
   },
   "outputs": [],
   "source": [
    "p = np.shape(cormatrix)[1]\n",
    "c = -np.ones(p)\n",
    "Gs  = []\n",
    "Gs = np.zeros((p, p*p))\n",
    "for i in range(p):\n",
    "    Gs[i, i*p + i] = 1.0"
   ]
  },
  {
   "cell_type": "code",
   "execution_count": 212,
   "metadata": {
    "collapsed": false
   },
   "outputs": [
    {
     "name": "stdout",
     "output_type": "stream",
     "text": [
      "     pcost       dcost       gap    pres   dres   k/t\n",
      " 0: -1.0000e+02 -4.0000e+02  7e+02  7e-01  2e-16  1e+00\n",
      " 1: -6.4464e+01 -9.8955e+01  7e+01  8e-02  1e-15  3e-01\n",
      " 2: -5.3250e+01 -6.2294e+01  1e+01  2e-02  1e-15  1e-01\n",
      " 3: -5.1617e+01 -5.3047e+01  2e+00  4e-03  1e-15  2e-02\n",
      " 4: -5.1299e+01 -5.2177e+01  1e+00  2e-03  1e-15  9e-03\n",
      " 5: -5.0992e+01 -5.1104e+01  2e-01  3e-04  3e-15  1e-03\n",
      " 6: -5.0956e+01 -5.0995e+01  6e-02  1e-04  2e-15  3e-04\n",
      " 7: -5.0939e+01 -5.0942e+01  5e-03  8e-06  1e-15  3e-05\n",
      " 8: -5.0938e+01 -5.0938e+01  7e-04  1e-06  2e-15  4e-06\n",
      " 9: -5.0938e+01 -5.0938e+01  2e-05  4e-08  1e-15  1e-07\n",
      "Optimal solution found.\n"
     ]
    }
   ],
   "source": [
    "c = matrix(c)\n",
    "Gs = [matrix(Gs.T)]\n",
    "hs = [matrix(2 * cormatrix)]\n",
    "G0 = matrix(-(np.identity(p)))\n",
    "h0 = matrix(np.zeros(p))\n",
    "\n",
    "sol = solvers.sdp(c, Gl=G0, hl=h0, Gs=Gs, hs=hs)"
   ]
  },
  {
   "cell_type": "code",
   "execution_count": 213,
   "metadata": {
    "collapsed": false
   },
   "outputs": [
    {
     "data": {
      "text/plain": [
       "{'x': <100x1 matrix, tc='d'>,\n",
       " 'y': <0x1 matrix, tc='d'>,\n",
       " 'status': 'optimal',\n",
       " 'gap': 2.350168154526887e-05,\n",
       " 'relative gap': 4.613826368102318e-07,\n",
       " 'primal objective': -50.937507548501856,\n",
       " 'dual objective': -50.937523193812346,\n",
       " 'primal infeasibility': 3.826758057013982e-08,\n",
       " 'dual infeasibility': 1.0934518059414841e-15,\n",
       " 'primal slack': 2.759080403958013e-09,\n",
       " 'dual slack': 1.1272987005474419e-08,\n",
       " 'residual as primal infeasibility certificate': None,\n",
       " 'residual as dual infeasibility certificate': None,\n",
       " 'iterations': 9,\n",
       " 'sl': <100x1 matrix, tc='d'>,\n",
       " 'ss': [<100x100 matrix, tc='d'>],\n",
       " 'zl': <100x1 matrix, tc='d'>,\n",
       " 'zs': [<100x100 matrix, tc='d'>]}"
      ]
     },
     "execution_count": 213,
     "metadata": {},
     "output_type": "execute_result"
    }
   ],
   "source": [
    "sol"
   ]
  },
  {
   "cell_type": "code",
   "execution_count": 202,
   "metadata": {
    "collapsed": false
   },
   "outputs": [
    {
     "data": {
      "text/plain": [
       "array([[1.24992368],\n",
       "       [0.05011249],\n",
       "       [0.76994833],\n",
       "       [0.33801763],\n",
       "       [0.5972084 ],\n",
       "       [0.44166751],\n",
       "       [0.53500589],\n",
       "       [0.47899329],\n",
       "       [0.51259954],\n",
       "       [0.49244294],\n",
       "       [0.50453033],\n",
       "       [0.49728343],\n",
       "       [0.50162837],\n",
       "       [0.49902264],\n",
       "       [0.5005866 ],\n",
       "       [0.4996472 ],\n",
       "       [0.50021152],\n",
       "       [0.499872  ],\n",
       "       [0.50007625],\n",
       "       [0.49995362],\n",
       "       [0.50002742],\n",
       "       [0.49998306],\n",
       "       [0.50000964],\n",
       "       [0.4999937 ],\n",
       "       [0.50000338],\n",
       "       [0.49999772],\n",
       "       [0.50000123],\n",
       "       [0.49999918],\n",
       "       [0.50000044],\n",
       "       [0.49999974],\n",
       "       [0.50000023],\n",
       "       [0.50000002],\n",
       "       [0.50000022],\n",
       "       [0.50000015],\n",
       "       [0.50000024],\n",
       "       [0.50000023],\n",
       "       [0.50000029],\n",
       "       [0.5000003 ],\n",
       "       [0.50000033],\n",
       "       [0.50000035],\n",
       "       [0.50000037],\n",
       "       [0.50000039],\n",
       "       [0.5000004 ],\n",
       "       [0.50000041],\n",
       "       [0.50000043],\n",
       "       [0.50000043],\n",
       "       [0.50000044],\n",
       "       [0.50000044],\n",
       "       [0.50000045],\n",
       "       [0.50000045],\n",
       "       [0.50000045],\n",
       "       [0.50000045],\n",
       "       [0.50000044],\n",
       "       [0.50000044],\n",
       "       [0.50000043],\n",
       "       [0.50000043],\n",
       "       [0.50000041],\n",
       "       [0.5000004 ],\n",
       "       [0.50000039],\n",
       "       [0.50000037],\n",
       "       [0.50000035],\n",
       "       [0.50000033],\n",
       "       [0.5000003 ],\n",
       "       [0.50000029],\n",
       "       [0.50000023],\n",
       "       [0.50000024],\n",
       "       [0.50000015],\n",
       "       [0.50000022],\n",
       "       [0.50000002],\n",
       "       [0.50000023],\n",
       "       [0.49999974],\n",
       "       [0.50000044],\n",
       "       [0.49999918],\n",
       "       [0.50000123],\n",
       "       [0.49999772],\n",
       "       [0.50000338],\n",
       "       [0.4999937 ],\n",
       "       [0.50000964],\n",
       "       [0.49998306],\n",
       "       [0.50002742],\n",
       "       [0.49995362],\n",
       "       [0.50007625],\n",
       "       [0.499872  ],\n",
       "       [0.50021152],\n",
       "       [0.4996472 ],\n",
       "       [0.5005866 ],\n",
       "       [0.49902264],\n",
       "       [0.50162837],\n",
       "       [0.49728343],\n",
       "       [0.50453033],\n",
       "       [0.49244294],\n",
       "       [0.51259954],\n",
       "       [0.47899329],\n",
       "       [0.53500589],\n",
       "       [0.44166751],\n",
       "       [0.5972084 ],\n",
       "       [0.33801763],\n",
       "       [0.76994833],\n",
       "       [0.05011249],\n",
       "       [1.24992368]])"
      ]
     },
     "execution_count": 202,
     "metadata": {},
     "output_type": "execute_result"
    }
   ],
   "source": [
    "x"
   ]
  },
  {
   "cell_type": "code",
   "execution_count": 53,
   "metadata": {
    "collapsed": false
   },
   "outputs": [
    {
     "data": {
      "text/plain": [
       "10000"
      ]
     },
     "execution_count": 53,
     "metadata": {},
     "output_type": "execute_result"
    }
   ],
   "source": [
    "len(Gs[0])"
   ]
  },
  {
   "cell_type": "code",
   "execution_count": 65,
   "metadata": {
    "collapsed": false
   },
   "outputs": [
    {
     "data": {
      "text/plain": [
       "<5x1 matrix, tc='d'>"
      ]
     },
     "execution_count": 65,
     "metadata": {},
     "output_type": "execute_result"
    }
   ],
   "source": [
    "matrix(np.ones(5))"
   ]
  },
  {
   "cell_type": "code",
   "execution_count": 225,
   "metadata": {
    "collapsed": false
   },
   "outputs": [],
   "source": [
    "def ar_cov_matrix(rhos):\n",
    "    p = np.shape(rhos)[0] + 1\n",
    "    cormatrix = np.ones([p,p])\n",
    "    for i in range(p-1):\n",
    "        for j in range(i+1,p):\n",
    "            for k in range(i,j):\n",
    "              cormatrix[i,j] = cormatrix[i,j]*rhos[k]\n",
    "            cormatrix[j,i] = cormatrix[i,j]\n",
    "\n",
    "    return cormatrix\n",
    "\n",
    "# solves the SDP\n",
    "def sdp_solver(cormatrix):\n",
    "    p = np.shape(cormatrix)[0]\n",
    "    c = -np.ones(p)\n",
    "    Gs  = []\n",
    "    Gs = np.zeros((p, p*p))\n",
    "    for i in range(p):\n",
    "        Gs[i, i*p + i] = 1.0\n",
    "\n",
    "    c = matrix(c)\n",
    "    Gs = [matrix(Gs.T)]\n",
    "    hs = [matrix(2 * cormatrix)]\n",
    "    G0 = -matrix(-(np.identity(p)))\n",
    "    h0 = matrix(np.zeros(p))\n",
    "\n",
    "    sol = solvers.sdp(c, Gl=G0, hl=h0, Gs=Gs, hs=hs)\n",
    "    return np.array(sol['x'])"
   ]
  },
  {
   "cell_type": "code",
   "execution_count": 229,
   "metadata": {
    "collapsed": true
   },
   "outputs": [],
   "source": [
    "S = ar_cov_matrix(np.array([.8,.4]))"
   ]
  },
  {
   "cell_type": "code",
   "execution_count": 230,
   "metadata": {
    "collapsed": false
   },
   "outputs": [
    {
     "data": {
      "text/plain": [
       "array([[1.  , 0.8 , 0.32],\n",
       "       [0.8 , 1.  , 0.4 ],\n",
       "       [0.32, 0.4 , 1.  ]])"
      ]
     },
     "execution_count": 230,
     "metadata": {},
     "output_type": "execute_result"
    }
   ],
   "source": [
    "S"
   ]
  },
  {
   "cell_type": "code",
   "execution_count": 231,
   "metadata": {
    "collapsed": false
   },
   "outputs": [
    {
     "name": "stdout",
     "output_type": "stream",
     "text": [
      "     pcost       dcost       gap    pres   dres   k/t\n",
      " 0: -3.0000e+00 -3.0000e+00  6e+00  1e+00  2e-16  1e+00\n",
      " 1: -5.4764e-01 -5.4764e-01  6e-01  1e-01  5e-16  1e-01\n",
      " 2: -1.0992e-02 -1.0992e-02  2e-02  4e-03  1e-16  3e-03\n",
      " 3: -1.1013e-04 -1.1013e-04  2e-04  4e-05  2e-16  3e-05\n",
      " 4: -1.1013e-06 -1.1013e-06  2e-06  4e-07  4e-16  3e-07\n",
      " 5: -1.1013e-08 -1.1013e-08  2e-08  4e-09  3e-16  3e-09\n",
      "Optimal solution found.\n"
     ]
    },
    {
     "data": {
      "text/plain": [
       "array([[3.23628196e-09],\n",
       "       [2.77366296e-09],\n",
       "       [5.00309378e-09]])"
      ]
     },
     "execution_count": 231,
     "metadata": {},
     "output_type": "execute_result"
    }
   ],
   "source": [
    "sdp_solver(S)"
   ]
  },
  {
   "cell_type": "code",
   "execution_count": null,
   "metadata": {
    "collapsed": true
   },
   "outputs": [],
   "source": []
  },
  {
   "cell_type": "code",
   "execution_count": null,
   "metadata": {
    "collapsed": true
   },
   "outputs": [],
   "source": []
  }
 ],
 "metadata": {
  "kernelspec": {
   "display_name": "Python 3",
   "language": "python",
   "name": "python3"
  },
  "language_info": {
   "codemirror_mode": {
    "name": "ipython",
    "version": 3
   },
   "file_extension": ".py",
   "mimetype": "text/x-python",
   "name": "python",
   "nbconvert_exporter": "python",
   "pygments_lexer": "ipython3",
   "version": "3.6.8"
  }
 },
 "nbformat": 4,
 "nbformat_minor": 2
}
