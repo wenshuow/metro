{
 "cells": [
  {
   "cell_type": "markdown",
   "metadata": {},
   "source": [
    "# Heavy-tailed Markov Chain Tutorial"
   ]
  },
  {
   "cell_type": "markdown",
   "metadata": {},
   "source": [
    "This notebook demonstrates the knockoff construction for the heavy-tailed Markov Chain where each variable has t-distributed tailes. The model is as follows:\n",
    "$$X_1=\\sqrt{\\frac{\\nu-2}\\nu}Z_1, \\quad X_{j+1}=\\rho_j X_j + \\sqrt{1-\\rho_j^2}\\sqrt{\\frac{\\nu-2}\\nu}Z_{j+1}, \\quad Z_j\\stackrel{i.i.d.}{\\sim} t_\\nu$$\n",
    "for $j=1,\\dots,p$.  Section 5.2.1 of the accompanying paper presents a large set of simulation results in this setting."
   ]
  },
  {
   "cell_type": "markdown",
   "metadata": {},
   "source": [
    "## Multiple-try Metropolis\n",
    "\n",
    "We demonstrate the Multiple-try Metropolis (Section 3.3 of the paper) proposals below."
   ]
  },
  {
   "cell_type": "code",
   "execution_count": 1,
   "metadata": {
    "collapsed": false
   },
   "outputs": [],
   "source": [
    "import math\n",
    "import numpy as np\n",
    "from scipy.stats import t\n",
    "import time\n",
    "\n",
    "%run ../heavy-tailed-t/t_core #load the functions for the t-MC experiment"
   ]
  },
  {
   "cell_type": "code",
   "execution_count": 2,
   "metadata": {
    "collapsed": true
   },
   "outputs": [],
   "source": [
    "#simulation parameters\n",
    "df_t = 5 # degree of freedom of t-distribution\n",
    "p = 50 # dimension of the random vector X\n",
    "numsamples = 100 # number of samples to generate knockoffs \n",
    "rhos = [0.6] * (p-1) # the correlations\n",
    "\n",
    "#algorithm parameters\n",
    "halfnumtry = 1 # m/half number of candidates\n",
    "stepsize = 1.5 # step size in the unit of 1/\\sqrt((\\Sigma)^{-1}_{jj})"
   ]
  },
  {
   "cell_type": "markdown",
   "metadata": {},
   "source": [
    "We first compute the proposal scaling for each variable. Recall that the recommended scaling for the proposal for variable $j$ is $\\sqrt{(\\Sigma^{-1})_{jj}}$ (Section 3.3 of the paper)."
   ]
  },
  {
   "cell_type": "code",
   "execution_count": 3,
   "metadata": {
    "collapsed": true
   },
   "outputs": [],
   "source": [
    "#generate the grid size\n",
    "quantile_x = np.zeros([p,2*halfnumtry+1])\n",
    "sds = [0]*p\n",
    "sds[0] = math.sqrt(1 - rhos[0]**2)\n",
    "for i in range(1, p - 1):\n",
    "    sds[i] = math.sqrt((1 - rhos[i-1]**2)*(1 - rhos[i]**2)/\n",
    "                       (1 - rhos[i-1]**2 * rhos[i]**2))\n",
    "sds[p - 1] = math.sqrt(1 - rhos[p - 2]**2)\n",
    "for i in range(p):\n",
    "    quantile_x[i] = [x*sds[i]*stepsize for x in list(\n",
    "        range(-halfnumtry, halfnumtry + 1))]"
   ]
  },
  {
   "cell_type": "markdown",
   "metadata": {},
   "source": [
    "Next, we sample observations from the Markov Chain and generate knockoffs with the MTM technique using the `SCEP_MH_MC` function."
   ]
  },
  {
   "cell_type": "code",
   "execution_count": 4,
   "metadata": {
    "collapsed": false
   },
   "outputs": [
    {
     "name": "stdout",
     "output_type": "stream",
     "text": [
      "Average time per observation + knockoff (seconds): 0.690\n"
     ]
    },
    {
     "data": {
      "text/plain": [
       "(100, 100)"
      ]
     },
     "execution_count": 4,
     "metadata": {},
     "output_type": "execute_result"
    }
   ],
   "source": [
    "bigmatrix = np.zeros([numsamples, 2*p]) # store simulation data\n",
    "\n",
    "#generate each observation and knockoff\n",
    "start = time.time()\n",
    "for i in range(numsamples):\n",
    "    #sample one instance from the Markov Chain\n",
    "    bigmatrix[i, 0] = t.rvs(df=df_t)*math.sqrt((df_t - 2)/df_t)\n",
    "    for j in range(1, p):\n",
    "        bigmatrix[i, j] = math.sqrt(1 - rhos[j - 1]**2)*t.rvs(df=df_t)* \\\n",
    "        math.sqrt((df_t - 2)/df_t) + rhos[j - 1]*bigmatrix[i,j - 1]\n",
    "    \n",
    "    #sample the knockoff for the observation\n",
    "    bigmatrix[i, p:(2*p)] = SCEP_MH_MC(bigmatrix[i, 0:p], 0.999, \n",
    "                                       quantile_x, rhos, df_t)\n",
    "end = time.time()\n",
    "\n",
    "print(\"Average time per observation + knockoff (seconds): \" + \\\n",
    "      '%.3f'%((end - start) / numsamples))\n",
    "\n",
    "np.shape(bigmatrix)"
   ]
  },
  {
   "cell_type": "markdown",
   "metadata": {},
   "source": [
    "We can evaluate the quality of these knocokffs by computing the average correlation between $X_{i,j}$ and $\\tilde{X}_{i,j}$."
   ]
  },
  {
   "cell_type": "code",
   "execution_count": 5,
   "metadata": {
    "collapsed": false
   },
   "outputs": [
    {
     "data": {
      "text/plain": [
       "0.6884465928833275"
      ]
     },
     "execution_count": 5,
     "metadata": {},
     "output_type": "execute_result"
    }
   ],
   "source": [
    "cors = []\n",
    "for j in range(p):\n",
    "    cors += [np.corrcoef(bigmatrix[:, j], bigmatrix[:, j + p])[0, 1]]\n",
    "np.mean(cors)                    "
   ]
  }
 ],
 "metadata": {
  "kernelspec": {
   "display_name": "Python 3",
   "language": "python",
   "name": "python3"
  },
  "language_info": {
   "codemirror_mode": {
    "name": "ipython",
    "version": 3
   },
   "file_extension": ".py",
   "mimetype": "text/x-python",
   "name": "python",
   "nbconvert_exporter": "python",
   "pygments_lexer": "ipython3",
   "version": "3.6.8"
  }
 },
 "nbformat": 4,
 "nbformat_minor": 2
}
