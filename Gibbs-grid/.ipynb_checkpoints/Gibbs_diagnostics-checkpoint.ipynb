{
 "cells": [
  {
   "cell_type": "code",
   "execution_count": 296,
   "metadata": {
    "collapsed": false
   },
   "outputs": [],
   "source": [
    "import math\n",
    "import numpy as np"
   ]
  },
  {
   "cell_type": "code",
   "execution_count": 591,
   "metadata": {
    "collapsed": false
   },
   "outputs": [],
   "source": [
    "%run Gibbs_MTM.py"
   ]
  },
  {
   "cell_type": "code",
   "execution_count": 313,
   "metadata": {
    "collapsed": false
   },
   "outputs": [
    {
     "data": {
      "text/plain": [
       "array([[2., 1., 1., 2., 1., 1., 1., 2., 2., 1.],\n",
       "       [4., 1., 1., 0., 0., 0., 1., 2., 0., 1.],\n",
       "       [3., 2., 2., 1., 1., 0., 1., 0., 0., 0.],\n",
       "       [1., 2., 3., 2., 3., 1., 1., 0., 0., 1.],\n",
       "       [1., 1., 3., 2., 4., 2., 1., 1., 1., 1.],\n",
       "       [0., 1., 3., 2., 3., 1., 2., 2., 2., 2.],\n",
       "       [1., 1., 1., 1., 0., 1., 2., 2., 2., 1.],\n",
       "       [2., 2., 2., 1., 0., 0., 0., 0., 0., 0.],\n",
       "       [2., 2., 3., 2., 2., 0., 0., 0., 0., 0.],\n",
       "       [1., 2., 1., 1., 1., 0., 0., 1., 0., 2.]])"
      ]
     },
     "execution_count": 313,
     "metadata": {},
     "output_type": "execute_result"
    }
   ],
   "source": [
    "X = Gibbs_sampler(10, 10, 5, .2, N = 100)\n",
    "X"
   ]
  },
  {
   "cell_type": "code",
   "execution_count": 123,
   "metadata": {
    "collapsed": false
   },
   "outputs": [
    {
     "data": {
      "text/plain": [
       "(10, 10)"
      ]
     },
     "execution_count": 123,
     "metadata": {},
     "output_type": "execute_result"
    }
   ],
   "source": [
    "np.shape(X)"
   ]
  },
  {
   "cell_type": "code",
   "execution_count": 152,
   "metadata": {
    "collapsed": true
   },
   "outputs": [],
   "source": [
    "k1 = 3\n",
    "k2 = 2\n",
    "p = k1*k2\n",
    "K = 5\n",
    "beta = .2\n",
    "n_reps = 1000\n",
    "m = 1\n",
    "t = 1\n",
    "gibbs_reps = 100"
   ]
  },
  {
   "cell_type": "code",
   "execution_count": 153,
   "metadata": {
    "collapsed": false
   },
   "outputs": [
    {
     "name": "stdout",
     "output_type": "stream",
     "text": [
      "CPU times: user 14.3 s, sys: 119 ms, total: 14.4 s\n",
      "Wall time: 14.7 s\n"
     ]
    }
   ],
   "source": [
    "%%time\n",
    "np.random.seed(100)\n",
    "bigmatrix = sim(k1,k2,K,beta,n_reps,m,t,gibbs_reps)"
   ]
  },
  {
   "cell_type": "code",
   "execution_count": 154,
   "metadata": {
    "collapsed": false
   },
   "outputs": [
    {
     "data": {
      "text/plain": [
       "(500, 12)"
      ]
     },
     "execution_count": 154,
     "metadata": {},
     "output_type": "execute_result"
    }
   ],
   "source": [
    "np.shape(bigmatrix)"
   ]
  },
  {
   "cell_type": "code",
   "execution_count": 155,
   "metadata": {
    "collapsed": false
   },
   "outputs": [],
   "source": [
    "cormat = np.corrcoef(np.transpose(bigmatrix))"
   ]
  },
  {
   "cell_type": "code",
   "execution_count": 156,
   "metadata": {
    "collapsed": false
   },
   "outputs": [
    {
     "data": {
      "text/plain": [
       "(12, 12)"
      ]
     },
     "execution_count": 156,
     "metadata": {},
     "output_type": "execute_result"
    }
   ],
   "source": [
    "np.shape(cormat)"
   ]
  },
  {
   "cell_type": "markdown",
   "metadata": {},
   "source": [
    "Check that $X$ and $\\tilde X$ have the same covariance"
   ]
  },
  {
   "cell_type": "code",
   "execution_count": 157,
   "metadata": {
    "collapsed": false
   },
   "outputs": [
    {
     "data": {
      "text/plain": [
       "array([[1.        , 0.52830397, 0.56369231],\n",
       "       [0.52830397, 1.        , 0.41336182],\n",
       "       [0.56369231, 0.41336182, 1.        ]])"
      ]
     },
     "execution_count": 157,
     "metadata": {},
     "output_type": "execute_result"
    }
   ],
   "source": [
    "cormat[0:3,0:3]"
   ]
  },
  {
   "cell_type": "code",
   "execution_count": 158,
   "metadata": {
    "collapsed": false
   },
   "outputs": [
    {
     "data": {
      "text/plain": [
       "array([[1.        , 0.44499027, 0.55108528],\n",
       "       [0.44499027, 1.        , 0.5324113 ],\n",
       "       [0.55108528, 0.5324113 , 1.        ]])"
      ]
     },
     "execution_count": 158,
     "metadata": {},
     "output_type": "execute_result"
    }
   ],
   "source": [
    "cormat[9:12,9:12]"
   ]
  },
  {
   "cell_type": "code",
   "execution_count": 159,
   "metadata": {
    "collapsed": false
   },
   "outputs": [
    {
     "data": {
      "text/plain": [
       "0.06928656410323347"
      ]
     },
     "execution_count": 159,
     "metadata": {},
     "output_type": "execute_result"
    }
   ],
   "source": [
    "np.max(np.abs((cormat[0:p,0:p] - cormat[p:,p:])))"
   ]
  },
  {
   "cell_type": "markdown",
   "metadata": {},
   "source": [
    "Check that $X$ and $\\tilde X$ have the right cross-covariance"
   ]
  },
  {
   "cell_type": "code",
   "execution_count": 160,
   "metadata": {
    "collapsed": false
   },
   "outputs": [
    {
     "data": {
      "text/plain": [
       "0.04764367338014852"
      ]
     },
     "execution_count": 160,
     "metadata": {},
     "output_type": "execute_result"
    }
   ],
   "source": [
    "a = cormat[0:p,0:p] - cormat[0:p,p:]\n",
    "a = a - np.diag(np.diag(a))\n",
    "np.max(a)"
   ]
  },
  {
   "cell_type": "code",
   "execution_count": 170,
   "metadata": {
    "collapsed": false
   },
   "outputs": [
    {
     "data": {
      "text/plain": [
       "3"
      ]
     },
     "execution_count": 170,
     "metadata": {},
     "output_type": "execute_result"
    }
   ],
   "source": [
    "len([5, 3, 1])"
   ]
  },
  {
   "cell_type": "markdown",
   "metadata": {},
   "source": [
    "### Slicing example"
   ]
  },
  {
   "cell_type": "code",
   "execution_count": 605,
   "metadata": {
    "collapsed": true
   },
   "outputs": [],
   "source": [
    "k1 = 10\n",
    "k2 = 10\n",
    "p = k1*k2\n",
    "K = 10\n",
    "beta = .2\n",
    "n_reps = 100\n",
    "m = 2\n",
    "t = 1\n",
    "gibbs_reps = 100\n",
    "w = 3"
   ]
  },
  {
   "cell_type": "code",
   "execution_count": 606,
   "metadata": {
    "collapsed": false
   },
   "outputs": [],
   "source": [
    "x = Gibbs_sampler(k1, k2, K, beta, N = 100)"
   ]
  },
  {
   "cell_type": "code",
   "execution_count": 607,
   "metadata": {
    "collapsed": false
   },
   "outputs": [
    {
     "data": {
      "text/plain": [
       "array([[5., 6., 5., 4., 3., 3., 2., 3., 5., 4.],\n",
       "       [3., 4., 3., 3., 3., 3., 3., 3., 3., 5.],\n",
       "       [4., 3., 2., 2., 4., 4., 3., 2., 4., 4.],\n",
       "       [2., 3., 3., 3., 2., 3., 4., 2., 3., 5.],\n",
       "       [4., 3., 3., 2., 2., 5., 3., 4., 4., 3.],\n",
       "       [4., 3., 3., 2., 4., 4., 4., 4., 4., 5.],\n",
       "       [5., 4., 3., 4., 3., 3., 4., 5., 4., 5.],\n",
       "       [6., 5., 4., 3., 3., 2., 3., 5., 3., 3.],\n",
       "       [6., 6., 5., 3., 2., 2., 4., 4., 4., 4.],\n",
       "       [7., 6., 4., 1., 1., 3., 3., 4., 4., 4.]])"
      ]
     },
     "execution_count": 607,
     "metadata": {},
     "output_type": "execute_result"
    }
   ],
   "source": [
    "x"
   ]
  },
  {
   "cell_type": "code",
   "execution_count": 610,
   "metadata": {
    "collapsed": false,
    "scrolled": true
   },
   "outputs": [
    {
     "name": "stdout",
     "output_type": "stream",
     "text": [
      "CPU times: user 8.2 s, sys: 26.8 ms, total: 8.22 s\n",
      "Wall time: 8.24 s\n"
     ]
    }
   ],
   "source": [
    "%%time\n",
    "xk = SCEP_MH_Gibbs_slice(k1, k2, K, beta, x, .9, m, t, max_width = w)"
   ]
  },
  {
   "cell_type": "code",
   "execution_count": 611,
   "metadata": {
    "collapsed": false
   },
   "outputs": [
    {
     "data": {
      "text/plain": [
       "array([[-1.,  2.,  1.,  0., -1.,  1., -1.,  0.,  2., -2.],\n",
       "       [-2.,  1.,  0.,  0., -1.,  0.,  0.,  0., -1.,  1.],\n",
       "       [ 2., -1., -2.,  0.,  1.,  1., -1.,  0.,  1., -1.],\n",
       "       [-2.,  0.,  0.,  0.,  0.,  0.,  2.,  0.,  0.,  2.],\n",
       "       [-1., -1., -1.,  0., -2.,  1., -2.,  0.,  0.,  0.],\n",
       "       [-1.,  0.,  0.,  0.,  1.,  0.,  1.,  0.,  0.,  1.],\n",
       "       [ 1.,  1., -2.,  0.,  0., -1.,  0.,  0.,  0.,  1.],\n",
       "       [ 1.,  0.,  1.,  0.,  0., -1.,  0.,  0., -1., -1.],\n",
       "       [ 0.,  0.,  1.,  0., -1., -1.,  1.,  0.,  2.,  1.],\n",
       "       [ 2.,  1., -1.,  0., -2.,  1., -1.,  0.,  1.,  0.]])"
      ]
     },
     "execution_count": 611,
     "metadata": {},
     "output_type": "execute_result"
    }
   ],
   "source": [
    "x - xk"
   ]
  },
  {
   "cell_type": "code",
   "execution_count": null,
   "metadata": {
    "collapsed": true
   },
   "outputs": [],
   "source": []
  }
 ],
 "metadata": {
  "kernelspec": {
   "display_name": "Python 3",
   "language": "python",
   "name": "python3"
  },
  "language_info": {
   "codemirror_mode": {
    "name": "ipython",
    "version": 3
   },
   "file_extension": ".py",
   "mimetype": "text/x-python",
   "name": "python",
   "nbconvert_exporter": "python",
   "pygments_lexer": "ipython3",
   "version": "3.6.8"
  }
 },
 "nbformat": 4,
 "nbformat_minor": 2
}
