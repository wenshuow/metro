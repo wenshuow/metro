{
 "cells": [
  {
   "cell_type": "code",
   "execution_count": 1,
   "metadata": {},
   "outputs": [],
   "source": [
    "import math\n",
    "import numpy"
   ]
  },
  {
   "cell_type": "code",
   "execution_count": 2,
   "metadata": {},
   "outputs": [],
   "source": [
    "%run Gibbs_MTM.py"
   ]
  },
  {
   "cell_type": "code",
   "execution_count": 3,
   "metadata": {},
   "outputs": [
    {
     "data": {
      "text/plain": [
       "array([[2., 2., 2., 0., 1., 3., 2., 1., 2., 1.],\n",
       "       [3., 0., 2., 1., 2., 2., 2., 1., 2., 1.],\n",
       "       [2., 0., 2., 3., 1., 0., 0., 0., 0., 1.],\n",
       "       [2., 2., 2., 2., 2., 0., 1., 1., 0., 1.],\n",
       "       [3., 2., 2., 3., 3., 2., 2., 1., 0., 2.],\n",
       "       [3., 4., 2., 2., 2., 2., 3., 2., 2., 1.],\n",
       "       [2., 3., 4., 1., 1., 2., 2., 2., 0., 1.],\n",
       "       [2., 2., 3., 1., 1., 2., 3., 2., 1., 0.],\n",
       "       [3., 2., 4., 2., 2., 2., 2., 1., 2., 1.],\n",
       "       [2., 2., 2., 2., 1., 1., 2., 1., 0., 1.]])"
      ]
     },
     "execution_count": 3,
     "metadata": {},
     "output_type": "execute_result"
    }
   ],
   "source": [
    "X = Gibbs_sampler(10, 10, 5, .2, N = 100)\n",
    "X"
   ]
  },
  {
   "cell_type": "code",
   "execution_count": 4,
   "metadata": {},
   "outputs": [
    {
     "data": {
      "text/plain": [
       "(10, 10)"
      ]
     },
     "execution_count": 4,
     "metadata": {},
     "output_type": "execute_result"
    }
   ],
   "source": [
    "np.shape(X)"
   ]
  },
  {
   "cell_type": "code",
   "execution_count": 18,
   "metadata": {},
   "outputs": [],
   "source": [
    "k1 = 3\n",
    "k2 = 2\n",
    "p = k1*k2\n",
    "K = 5\n",
    "beta = .2\n",
    "n_reps = 100\n",
    "m = 1\n",
    "t = 1\n",
    "gibbs_reps = 100"
   ]
  },
  {
   "cell_type": "code",
   "execution_count": 40,
   "metadata": {},
   "outputs": [
    {
     "name": "stdout",
     "output_type": "stream",
     "text": [
      "Wall time: 2min 27s\n"
     ]
    }
   ],
   "source": [
    "%%time\n",
    "np.random.seed(100)\n",
    "bigmatrix = sim(k1,k2,K,beta,10000,m,2,gibbs_reps)"
   ]
  },
  {
   "cell_type": "code",
   "execution_count": 8,
   "metadata": {},
   "outputs": [
    {
     "data": {
      "text/plain": [
       "(10000, 12)"
      ]
     },
     "execution_count": 8,
     "metadata": {},
     "output_type": "execute_result"
    }
   ],
   "source": [
    "np.shape(bigmatrix)"
   ]
  },
  {
   "cell_type": "code",
   "execution_count": 49,
   "metadata": {},
   "outputs": [],
   "source": [
    "cormat = np.corrcoef(np.transpose(bigmatrix))\n",
    "covmat = np.cov(np.transpose(bigmatrix))"
   ]
  },
  {
   "cell_type": "code",
   "execution_count": 10,
   "metadata": {},
   "outputs": [
    {
     "data": {
      "text/plain": [
       "(12, 12)"
      ]
     },
     "execution_count": 10,
     "metadata": {},
     "output_type": "execute_result"
    }
   ],
   "source": [
    "np.shape(cormat)"
   ]
  },
  {
   "cell_type": "code",
   "execution_count": 47,
   "metadata": {},
   "outputs": [
    {
     "data": {
      "text/plain": [
       "array([[1.        , 0.51699696, 0.50587331, 0.38417041, 0.28660864,\n",
       "        0.25028447],\n",
       "       [0.51699696, 1.        , 0.39255786, 0.51671963, 0.24556092,\n",
       "        0.26918152],\n",
       "       [0.50587331, 0.39255786, 1.        , 0.53830265, 0.51243544,\n",
       "        0.38039658],\n",
       "       [0.38417041, 0.51671963, 0.53830265, 1.        , 0.3913961 ,\n",
       "        0.50158966],\n",
       "       [0.28660864, 0.24556092, 0.51243544, 0.3913961 , 1.        ,\n",
       "        0.52412613],\n",
       "       [0.25028447, 0.26918152, 0.38039658, 0.50158966, 0.52412613,\n",
       "        1.        ]])"
      ]
     },
     "execution_count": 47,
     "metadata": {},
     "output_type": "execute_result"
    }
   ],
   "source": [
    "cormat[0:p,0:p]"
   ]
  },
  {
   "cell_type": "code",
   "execution_count": 48,
   "metadata": {},
   "outputs": [
    {
     "data": {
      "text/plain": [
       "array([[1.        , 0.51699554, 0.50246149, 0.39053246, 0.26888397,\n",
       "        0.23423208],\n",
       "       [0.51699554, 1.        , 0.38471286, 0.50497946, 0.24558588,\n",
       "        0.2738305 ],\n",
       "       [0.50246149, 0.38471286, 1.        , 0.53368398, 0.5053737 ,\n",
       "        0.37081743],\n",
       "       [0.39053246, 0.50497946, 0.53368398, 1.        , 0.39045302,\n",
       "        0.49864822],\n",
       "       [0.26888397, 0.24558588, 0.5053737 , 0.39045302, 1.        ,\n",
       "        0.5164359 ],\n",
       "       [0.23423208, 0.2738305 , 0.37081743, 0.49864822, 0.5164359 ,\n",
       "        1.        ]])"
      ]
     },
     "execution_count": 48,
     "metadata": {},
     "output_type": "execute_result"
    }
   ],
   "source": [
    "cormat[p:12,p:12]"
   ]
  },
  {
   "cell_type": "code",
   "execution_count": 51,
   "metadata": {},
   "outputs": [
    {
     "data": {
      "text/plain": [
       "[0.017724672544801867, 0.029591139113911535]"
      ]
     },
     "execution_count": 51,
     "metadata": {},
     "output_type": "execute_result"
    }
   ],
   "source": [
    "[np.max(np.abs((cormat[0:p,0:p] - cormat[p:,p:]))),np.max(np.abs((covmat[0:p,0:p] - covmat[p:,p:])))]"
   ]
  },
  {
   "cell_type": "code",
   "execution_count": 52,
   "metadata": {},
   "outputs": [
    {
     "data": {
      "text/plain": [
       "[0.016912775509686173, 0.02487700770077056]"
      ]
     },
     "execution_count": 52,
     "metadata": {},
     "output_type": "execute_result"
    }
   ],
   "source": [
    "a = cormat[0:p,0:p] - cormat[0:p,p:]\n",
    "a = a - np.diag(np.diag(a))\n",
    "b = covmat[0:p,0:p] - covmat[0:p,p:]\n",
    "b = b - np.diag(np.diag(b))\n",
    "[np.max(np.abs(a)),np.max(np.abs(b))]"
   ]
  },
  {
   "cell_type": "code",
   "execution_count": 19,
   "metadata": {},
   "outputs": [],
   "source": [
    "bigarray = np.zeros([k1,k2,2,n_reps])\n",
    "bigmatrix = np.zeros([n_reps,2*k1*k2])"
   ]
  },
  {
   "cell_type": "code",
   "execution_count": 24,
   "metadata": {},
   "outputs": [
    {
     "name": "stdout",
     "output_type": "stream",
     "text": [
      "Wall time: 1.22 s\n"
     ]
    }
   ],
   "source": [
    "%%time\n",
    "for i in range(n_reps):\n",
    "    bigarray[:,:,0,i] = Gibbs_sampler(k1, k2, 5, beta, gibbs_reps)\n",
    "    bigmatrix[i,0:(k1*k2)] = np.reshape(bigarray[:,:,0,i],k1*k2)"
   ]
  },
  {
   "cell_type": "code",
   "execution_count": 25,
   "metadata": {},
   "outputs": [
    {
     "name": "stdout",
     "output_type": "stream",
     "text": [
      "Wall time: 497 ms\n"
     ]
    }
   ],
   "source": [
    "%%time\n",
    "for i in range(n_reps):\n",
    "    bigarray[:,:,1,i] = SCEP_MH_Gibbs(k1, k2, 5, beta, bigarray[:,:,0,i], 0.9, m, t) # I tried m=t=1\n",
    "    bigmatrix[i,(k1*k2):(2*k1*k2)] = np.reshape(bigarray[:,:,1,i],k1*k2)"
   ]
  },
  {
   "cell_type": "code",
   "execution_count": 30,
   "metadata": {},
   "outputs": [
    {
     "name": "stdout",
     "output_type": "stream",
     "text": [
      "Wall time: 16.9 s\n"
     ]
    }
   ],
   "source": [
    "%%time\n",
    "for i in range(n_reps):\n",
    "    bigarray[:,:,0,i] = Gibbs_sampler(k1, k2, 50, beta, gibbs_reps)\n",
    "    bigmatrix[i,0:(k1*k2)] = np.reshape(bigarray[:,:,0,i],k1*k2)"
   ]
  },
  {
   "cell_type": "code",
   "execution_count": 31,
   "metadata": {},
   "outputs": [
    {
     "name": "stdout",
     "output_type": "stream",
     "text": [
      "Wall time: 772 ms\n"
     ]
    }
   ],
   "source": [
    "%%time\n",
    "for i in range(n_reps):\n",
    "    bigarray[:,:,1,i] = SCEP_MH_Gibbs(k1, k2, 50, beta, bigarray[:,:,0,i], 0.9, m, t) # I tried m=t=1\n",
    "    bigmatrix[i,(k1*k2):(2*k1*k2)] = np.reshape(bigarray[:,:,1,i],k1*k2)"
   ]
  },
  {
   "cell_type": "code",
   "execution_count": 32,
   "metadata": {},
   "outputs": [
    {
     "name": "stdout",
     "output_type": "stream",
     "text": [
      "Wall time: 49 s\n"
     ]
    }
   ],
   "source": [
    "%%time\n",
    "for i in range(n_reps):\n",
    "    bigarray[:,:,0,i] = Gibbs_sampler(k1, k2, 100, beta, gibbs_reps)\n",
    "    bigmatrix[i,0:(k1*k2)] = np.reshape(bigarray[:,:,0,i],k1*k2)"
   ]
  },
  {
   "cell_type": "code",
   "execution_count": 33,
   "metadata": {},
   "outputs": [
    {
     "name": "stdout",
     "output_type": "stream",
     "text": [
      "Wall time: 725 ms\n"
     ]
    }
   ],
   "source": [
    "%%time\n",
    "for i in range(n_reps):\n",
    "    bigarray[:,:,1,i] = SCEP_MH_Gibbs(k1, k2, 100, beta, bigarray[:,:,0,i], 0.9, m, t) # I tried m=t=1\n",
    "    bigmatrix[i,(k1*k2):(2*k1*k2)] = np.reshape(bigarray[:,:,1,i],k1*k2)"
   ]
  },
  {
   "cell_type": "code",
   "execution_count": null,
   "metadata": {},
   "outputs": [],
   "source": []
  }
 ],
 "metadata": {
  "kernelspec": {
   "display_name": "Python 3",
   "language": "python",
   "name": "python3"
  },
  "language_info": {
   "codemirror_mode": {
    "name": "ipython",
    "version": 3
   },
   "file_extension": ".py",
   "mimetype": "text/x-python",
   "name": "python",
   "nbconvert_exporter": "python",
   "pygments_lexer": "ipython3",
   "version": "3.7.0"
  }
 },
 "nbformat": 4,
 "nbformat_minor": 2
}
